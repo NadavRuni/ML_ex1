{
 "cells": [
  {
   "cell_type": "markdown",
   "metadata": {
    "nbgrader": {
     "grade": false,
     "grade_id": "cell-35def0d0f4b47a0a",
     "locked": true,
     "schema_version": 1,
     "solution": false
    }
   },
   "source": [
    "# Exercise 1: Regression\n",
    "\n",
    "### Make sure that you read and fully understand all the guidelines listed below before you proceed with the exercise.\n",
    "\n",
    "* HW assignments are a significant part of the learning experience in this course and contribute 50% to your final grade. So, make sure to devote the appropriate time to them.\n",
    "* **Sharing solutions with someone who is not your submitting partner is strictly prohibited**. This includes reading someone else's code or sharing your code / posting it somewhere.\n",
    "* Appeals regarding submissions that do not follow the guidelines will not be accepted. \n",
    "\n",
    "\n",
    "### Guidelines for Programming Exercises:\n",
    "\n",
    "* Complete the required functions in `hw1.py`. Any modifications to this notebook will not be tested by our automated tests.\n",
    "* Write **efficient**, **vectorized** code whenever possible. Some calculations in this exercise can take several minutes when implemented efficiently, but will take much longer otherwise. Unnecessary loops will result in point deductions.\n",
    "* You are responsible for the correctness of your code. You can add tests to this jupyter notebook to validate your solution. The contents of this jupyter notebook will not be graded or checked.\n",
    "* You are allowed to use functions and methods from the [Python Standard Library](https://docs.python.org/3/library/), numpy and pandas only. **Do not import anything else.**\n",
    "* Use `numpy` version 1.15.4 or higher.\n",
    "* Your code must run without errors. Code that cannot run will not be graded.\n",
    "* Your code will be tested using automated scripts. So, failure to follow the instructions may lead to test failure, which might significantly affect your grade. \n",
    "\n",
    "\n",
    "### Guidlines for Theoretical Exercises\n",
    "* Your solution should be written or typed and submitted in a separate file `hw1.pdf`.\n",
    "* If you scan a handwritten solution, make sure that your handwriting is legible and the scan quality is good.\n",
    "* You are expected to solve the questions analytically and provide a step-by-step solution. \n",
    "* It is okay and often recommended to use python to carry out the computations. \n",
    "* You may use the lecture slides and previous homework assignments as references, unless explicitly asked to prove a result from class. \n",
    "\n",
    "### Submission Guidelines:\n",
    "* Submit your solutiuon in a zip file that contains: \n",
    "  - The `hw1.py` script with your solution to the progamming exercise\n",
    "  - This notebook with your added tests (this is not checked or graded)\n",
    "  - The `hw1.pdf` file with your solution to the theoretical exercises.\n",
    "  \n",
    "* The name of the zip file should contain your ID(s). For example, `hw1_123456789_987654321.zip` if you submitted in pairs and `hw1_123456789.zip` if you submitted the exercise alone.\n",
    "* Please use **only a zip** file in your submission.\n",
    "\n",
    "---\n",
    "---\n",
    "\n",
    "## Please sign that you have read and understood the instructions: \n",
    "\n",
    "### *** YOUR ID HERE ***\n",
    "\n",
    "---\n",
    "---"
   ]
  },
  {
   "cell_type": "markdown",
   "metadata": {},
   "source": [
    "# Part 1: Theoretical Exercises (16 points)\n",
    "\n",
    "We have the following data:\n",
    "$$\n",
    "\\begin{array}{c|c}\n",
    "x & y \\\\\n",
    "\\hline\n",
    "-1 & -1 \\\\\n",
    "-1 & 1 \\\\\n",
    "1 & 2 \\\\\n",
    "2 & 3 \\\\\n",
    "\\end{array}\n",
    "$$\n",
    "1. We would like to fit a linear regression model to this data for the purpose of predicting future values of $y$ from $x$.\n",
    "    - Write the data matrix $X$ for this regression. Make sure to include the bias term.\n",
    "    - Write the pseudo inverse $X^\\dagger$ of $X$.\n",
    "    - Use $X^\\dagger$ to find the vector $\\theta^* \\in \\mathbb R^2$ that minimizes the sum of squares loss:\n",
    "    $$\n",
    "    J(\\theta) = \\sum_{i=1}^n \\left( \\theta^\\top (1,x^{(i)}) - y^{(i)}  \\right)^2\n",
    "    $$\n",
    "    - Compute the minimum loss $J(\\theta^*)$.\n",
    "2. Confirm that this is the minimum loss using calculus.\n",
    "    - Exprss the loss in the form\n",
    "    $   J(\\theta) = A \\theta_0^2 + B \\theta_1 \\theta_0 + C \\theta_1^2 + D \\theta_0 + E \\theta_1 + F$,\n",
    "      for some $A$, $B$, $C$, $D$, $E$, and $F$ that depend on $x$ and $y$.\n",
    "    - Find an expression for the gradient $\\nabla J(\\theta) \\in \\mathbb R^2$ for aritrary $\\theta \\in \\mathbb R^2$.  \n",
    "    - Show that $\\nabla J(\\theta^*) = 0$.\n",
    "3. Consider the prediction of $y$ at a test point $x=1.5$. \n",
    "    - What is the predicted value of $y$ at this point based on linear regression with $\\theta^*$?\n",
    "    - What is the predicted value of $y$ at this point based on K-NN with $K=2$?"
   ]
  },
  {
   "cell_type": "markdown",
   "metadata": {},
   "source": [
    "# Part 2: Coding Assignment (84 points)"
   ]
  },
  {
   "cell_type": "code",
   "execution_count": 1,
   "metadata": {
    "ExecuteTime": {
     "end_time": "2025-04-02T08:28:16.252304Z",
     "start_time": "2025-04-02T08:28:16.233731Z"
    },
    "nbgrader": {
     "grade": false,
     "grade_id": "cell-5ed0076cec86f623",
     "locked": true,
     "schema_version": 1,
     "solution": false
    }
   },
   "outputs": [],
   "source": [
    "import numpy as np # used for scientific computing\n",
    "import pandas as pd # used for data analysis and manipulation\n",
    "import matplotlib.pyplot as plt # used for visualization and plotting\n",
    "np.random.seed(42) \n",
    "\n",
    "# make the notebook automatically reload external python modules\n",
    "%load_ext autoreload\n",
    "%autoreload 2"
   ]
  },
  {
   "cell_type": "markdown",
   "metadata": {
    "nbgrader": {
     "grade": false,
     "grade_id": "cell-916f46de8cde2ca7",
     "locked": true,
     "schema_version": 1,
     "solution": false
    }
   },
   "source": [
    "## 1. Data Loading, Exploration, and Preprocessing (10 points)\n",
    "\n",
    "For the following exercise, we will use a dataset containing housing prices in King County. The dataset contains 5,000 observations with 18 features and a single target value - the house price. \n",
    "\n",
    "First, we will read and explore the data using pandas and the `.read_csv` method. Pandas is an open source library providing high-performance, easy-to-use data structures and data analysis tools for the Python programming language."
   ]
  },
  {
   "cell_type": "code",
   "execution_count": 2,
   "metadata": {
    "ExecuteTime": {
     "end_time": "2024-04-09T10:27:04.054729Z",
     "start_time": "2024-04-09T10:27:02.898466Z"
    },
    "nbgrader": {
     "grade": false,
     "grade_id": "cell-9ef8b2769c2c1949",
     "locked": true,
     "schema_version": 1,
     "solution": false
    }
   },
   "outputs": [],
   "source": [
    "# Read comma separated data\n",
    "df = pd.read_csv('data.csv')\n",
    "# df stands for dataframe, which is the default format for datasets in pandas"
   ]
  },
  {
   "cell_type": "markdown",
   "metadata": {
    "nbgrader": {
     "grade": false,
     "grade_id": "cell-6966afc155aa6616",
     "locked": true,
     "schema_version": 1,
     "solution": false
    }
   },
   "source": [
    "### Data Exploration\n",
    "A good practice in data-oriented projects is to explore and characterize general properties of the data. Start by looking at the top of the dataset using the `df.head()` command. This will be the first indication that you read your data properly, and that the headers are correct. Next, you can use `df.describe()` to show statistics on the data and check for trends and irregularities."
   ]
  },
  {
   "cell_type": "code",
   "execution_count": 3,
   "metadata": {
    "ExecuteTime": {
     "end_time": "2024-04-09T10:27:04.063657Z",
     "start_time": "2024-04-09T10:27:04.060650Z"
    }
   },
   "outputs": [
    {
     "data": {
      "text/html": [
       "<div>\n",
       "<style scoped>\n",
       "    .dataframe tbody tr th:only-of-type {\n",
       "        vertical-align: middle;\n",
       "    }\n",
       "\n",
       "    .dataframe tbody tr th {\n",
       "        vertical-align: top;\n",
       "    }\n",
       "\n",
       "    .dataframe thead th {\n",
       "        text-align: right;\n",
       "    }\n",
       "</style>\n",
       "<table border=\"1\" class=\"dataframe\">\n",
       "  <thead>\n",
       "    <tr style=\"text-align: right;\">\n",
       "      <th></th>\n",
       "      <th>id</th>\n",
       "      <th>date</th>\n",
       "      <th>price</th>\n",
       "      <th>bedrooms</th>\n",
       "      <th>bathrooms</th>\n",
       "      <th>sqft_living</th>\n",
       "      <th>sqft_lot</th>\n",
       "      <th>floors</th>\n",
       "      <th>waterfront</th>\n",
       "      <th>view</th>\n",
       "      <th>condition</th>\n",
       "      <th>grade</th>\n",
       "      <th>sqft_above</th>\n",
       "      <th>yr_built</th>\n",
       "      <th>yr_renovated</th>\n",
       "      <th>zipcode</th>\n",
       "      <th>lat</th>\n",
       "      <th>long</th>\n",
       "      <th>sqft_living15</th>\n",
       "      <th>sqft_lot15</th>\n",
       "    </tr>\n",
       "  </thead>\n",
       "  <tbody>\n",
       "    <tr>\n",
       "      <th>0</th>\n",
       "      <td>7129300520</td>\n",
       "      <td>20141013T000000</td>\n",
       "      <td>221900.0</td>\n",
       "      <td>3</td>\n",
       "      <td>1.00</td>\n",
       "      <td>1180</td>\n",
       "      <td>5650</td>\n",
       "      <td>1.0</td>\n",
       "      <td>0</td>\n",
       "      <td>0</td>\n",
       "      <td>3</td>\n",
       "      <td>7</td>\n",
       "      <td>1180</td>\n",
       "      <td>1955</td>\n",
       "      <td>0</td>\n",
       "      <td>98178</td>\n",
       "      <td>47.5112</td>\n",
       "      <td>-122.257</td>\n",
       "      <td>1340</td>\n",
       "      <td>5650</td>\n",
       "    </tr>\n",
       "    <tr>\n",
       "      <th>1</th>\n",
       "      <td>6414100192</td>\n",
       "      <td>20141209T000000</td>\n",
       "      <td>538000.0</td>\n",
       "      <td>3</td>\n",
       "      <td>2.25</td>\n",
       "      <td>2570</td>\n",
       "      <td>7242</td>\n",
       "      <td>2.0</td>\n",
       "      <td>0</td>\n",
       "      <td>0</td>\n",
       "      <td>3</td>\n",
       "      <td>7</td>\n",
       "      <td>2170</td>\n",
       "      <td>1951</td>\n",
       "      <td>1991</td>\n",
       "      <td>98125</td>\n",
       "      <td>47.7210</td>\n",
       "      <td>-122.319</td>\n",
       "      <td>1690</td>\n",
       "      <td>7639</td>\n",
       "    </tr>\n",
       "    <tr>\n",
       "      <th>2</th>\n",
       "      <td>5631500400</td>\n",
       "      <td>20150225T000000</td>\n",
       "      <td>180000.0</td>\n",
       "      <td>2</td>\n",
       "      <td>1.00</td>\n",
       "      <td>770</td>\n",
       "      <td>10000</td>\n",
       "      <td>1.0</td>\n",
       "      <td>0</td>\n",
       "      <td>0</td>\n",
       "      <td>3</td>\n",
       "      <td>6</td>\n",
       "      <td>770</td>\n",
       "      <td>1933</td>\n",
       "      <td>0</td>\n",
       "      <td>98028</td>\n",
       "      <td>47.7379</td>\n",
       "      <td>-122.233</td>\n",
       "      <td>2720</td>\n",
       "      <td>8062</td>\n",
       "    </tr>\n",
       "    <tr>\n",
       "      <th>3</th>\n",
       "      <td>2487200875</td>\n",
       "      <td>20141209T000000</td>\n",
       "      <td>604000.0</td>\n",
       "      <td>4</td>\n",
       "      <td>3.00</td>\n",
       "      <td>1960</td>\n",
       "      <td>5000</td>\n",
       "      <td>1.0</td>\n",
       "      <td>0</td>\n",
       "      <td>0</td>\n",
       "      <td>5</td>\n",
       "      <td>7</td>\n",
       "      <td>1050</td>\n",
       "      <td>1965</td>\n",
       "      <td>0</td>\n",
       "      <td>98136</td>\n",
       "      <td>47.5208</td>\n",
       "      <td>-122.393</td>\n",
       "      <td>1360</td>\n",
       "      <td>5000</td>\n",
       "    </tr>\n",
       "    <tr>\n",
       "      <th>4</th>\n",
       "      <td>1954400510</td>\n",
       "      <td>20150218T000000</td>\n",
       "      <td>510000.0</td>\n",
       "      <td>3</td>\n",
       "      <td>2.00</td>\n",
       "      <td>1680</td>\n",
       "      <td>8080</td>\n",
       "      <td>1.0</td>\n",
       "      <td>0</td>\n",
       "      <td>0</td>\n",
       "      <td>3</td>\n",
       "      <td>8</td>\n",
       "      <td>1680</td>\n",
       "      <td>1987</td>\n",
       "      <td>0</td>\n",
       "      <td>98074</td>\n",
       "      <td>47.6168</td>\n",
       "      <td>-122.045</td>\n",
       "      <td>1800</td>\n",
       "      <td>7503</td>\n",
       "    </tr>\n",
       "    <tr>\n",
       "      <th>5</th>\n",
       "      <td>7237550310</td>\n",
       "      <td>20140512T000000</td>\n",
       "      <td>1230000.0</td>\n",
       "      <td>4</td>\n",
       "      <td>4.50</td>\n",
       "      <td>5420</td>\n",
       "      <td>101930</td>\n",
       "      <td>1.0</td>\n",
       "      <td>0</td>\n",
       "      <td>0</td>\n",
       "      <td>3</td>\n",
       "      <td>11</td>\n",
       "      <td>3890</td>\n",
       "      <td>2001</td>\n",
       "      <td>0</td>\n",
       "      <td>98053</td>\n",
       "      <td>47.6561</td>\n",
       "      <td>-122.005</td>\n",
       "      <td>4760</td>\n",
       "      <td>101930</td>\n",
       "    </tr>\n",
       "    <tr>\n",
       "      <th>6</th>\n",
       "      <td>1321400060</td>\n",
       "      <td>20140627T000000</td>\n",
       "      <td>257500.0</td>\n",
       "      <td>3</td>\n",
       "      <td>2.25</td>\n",
       "      <td>1715</td>\n",
       "      <td>6819</td>\n",
       "      <td>2.0</td>\n",
       "      <td>0</td>\n",
       "      <td>0</td>\n",
       "      <td>3</td>\n",
       "      <td>7</td>\n",
       "      <td>1715</td>\n",
       "      <td>1995</td>\n",
       "      <td>0</td>\n",
       "      <td>98003</td>\n",
       "      <td>47.3097</td>\n",
       "      <td>-122.327</td>\n",
       "      <td>2238</td>\n",
       "      <td>6819</td>\n",
       "    </tr>\n",
       "    <tr>\n",
       "      <th>7</th>\n",
       "      <td>2008000270</td>\n",
       "      <td>20150115T000000</td>\n",
       "      <td>291850.0</td>\n",
       "      <td>3</td>\n",
       "      <td>1.50</td>\n",
       "      <td>1060</td>\n",
       "      <td>9711</td>\n",
       "      <td>1.0</td>\n",
       "      <td>0</td>\n",
       "      <td>0</td>\n",
       "      <td>3</td>\n",
       "      <td>7</td>\n",
       "      <td>1060</td>\n",
       "      <td>1963</td>\n",
       "      <td>0</td>\n",
       "      <td>98198</td>\n",
       "      <td>47.4095</td>\n",
       "      <td>-122.315</td>\n",
       "      <td>1650</td>\n",
       "      <td>9711</td>\n",
       "    </tr>\n",
       "    <tr>\n",
       "      <th>8</th>\n",
       "      <td>2414600126</td>\n",
       "      <td>20150415T000000</td>\n",
       "      <td>229500.0</td>\n",
       "      <td>3</td>\n",
       "      <td>1.00</td>\n",
       "      <td>1780</td>\n",
       "      <td>7470</td>\n",
       "      <td>1.0</td>\n",
       "      <td>0</td>\n",
       "      <td>0</td>\n",
       "      <td>3</td>\n",
       "      <td>7</td>\n",
       "      <td>1050</td>\n",
       "      <td>1960</td>\n",
       "      <td>0</td>\n",
       "      <td>98146</td>\n",
       "      <td>47.5123</td>\n",
       "      <td>-122.337</td>\n",
       "      <td>1780</td>\n",
       "      <td>8113</td>\n",
       "    </tr>\n",
       "    <tr>\n",
       "      <th>9</th>\n",
       "      <td>3793500160</td>\n",
       "      <td>20150312T000000</td>\n",
       "      <td>323000.0</td>\n",
       "      <td>3</td>\n",
       "      <td>2.50</td>\n",
       "      <td>1890</td>\n",
       "      <td>6560</td>\n",
       "      <td>2.0</td>\n",
       "      <td>0</td>\n",
       "      <td>0</td>\n",
       "      <td>3</td>\n",
       "      <td>7</td>\n",
       "      <td>1890</td>\n",
       "      <td>2003</td>\n",
       "      <td>0</td>\n",
       "      <td>98038</td>\n",
       "      <td>47.3684</td>\n",
       "      <td>-122.031</td>\n",
       "      <td>2390</td>\n",
       "      <td>7570</td>\n",
       "    </tr>\n",
       "  </tbody>\n",
       "</table>\n",
       "</div>"
      ],
      "text/plain": [
       "           id             date      price  bedrooms  bathrooms  sqft_living  \\\n",
       "0  7129300520  20141013T000000   221900.0         3       1.00         1180   \n",
       "1  6414100192  20141209T000000   538000.0         3       2.25         2570   \n",
       "2  5631500400  20150225T000000   180000.0         2       1.00          770   \n",
       "3  2487200875  20141209T000000   604000.0         4       3.00         1960   \n",
       "4  1954400510  20150218T000000   510000.0         3       2.00         1680   \n",
       "5  7237550310  20140512T000000  1230000.0         4       4.50         5420   \n",
       "6  1321400060  20140627T000000   257500.0         3       2.25         1715   \n",
       "7  2008000270  20150115T000000   291850.0         3       1.50         1060   \n",
       "8  2414600126  20150415T000000   229500.0         3       1.00         1780   \n",
       "9  3793500160  20150312T000000   323000.0         3       2.50         1890   \n",
       "\n",
       "   sqft_lot  floors  waterfront  view  condition  grade  sqft_above  yr_built  \\\n",
       "0      5650     1.0           0     0          3      7        1180      1955   \n",
       "1      7242     2.0           0     0          3      7        2170      1951   \n",
       "2     10000     1.0           0     0          3      6         770      1933   \n",
       "3      5000     1.0           0     0          5      7        1050      1965   \n",
       "4      8080     1.0           0     0          3      8        1680      1987   \n",
       "5    101930     1.0           0     0          3     11        3890      2001   \n",
       "6      6819     2.0           0     0          3      7        1715      1995   \n",
       "7      9711     1.0           0     0          3      7        1060      1963   \n",
       "8      7470     1.0           0     0          3      7        1050      1960   \n",
       "9      6560     2.0           0     0          3      7        1890      2003   \n",
       "\n",
       "   yr_renovated  zipcode      lat     long  sqft_living15  sqft_lot15  \n",
       "0             0    98178  47.5112 -122.257           1340        5650  \n",
       "1          1991    98125  47.7210 -122.319           1690        7639  \n",
       "2             0    98028  47.7379 -122.233           2720        8062  \n",
       "3             0    98136  47.5208 -122.393           1360        5000  \n",
       "4             0    98074  47.6168 -122.045           1800        7503  \n",
       "5             0    98053  47.6561 -122.005           4760      101930  \n",
       "6             0    98003  47.3097 -122.327           2238        6819  \n",
       "7             0    98198  47.4095 -122.315           1650        9711  \n",
       "8             0    98146  47.5123 -122.337           1780        8113  \n",
       "9             0    98038  47.3684 -122.031           2390        7570  "
      ]
     },
     "execution_count": 3,
     "metadata": {},
     "output_type": "execute_result"
    }
   ],
   "source": [
    "df.head(10)"
   ]
  },
  {
   "cell_type": "code",
   "execution_count": 4,
   "metadata": {
    "ExecuteTime": {
     "end_time": "2024-04-09T10:27:04.064443Z",
     "start_time": "2024-04-09T10:27:04.064347Z"
    },
    "nbgrader": {
     "grade": true,
     "grade_id": "cell-5bd0d6844b64ea1a",
     "locked": false,
     "points": 1,
     "schema_version": 1,
     "solution": true
    }
   },
   "outputs": [
    {
     "data": {
      "text/html": [
       "<div>\n",
       "<style scoped>\n",
       "    .dataframe tbody tr th:only-of-type {\n",
       "        vertical-align: middle;\n",
       "    }\n",
       "\n",
       "    .dataframe tbody tr th {\n",
       "        vertical-align: top;\n",
       "    }\n",
       "\n",
       "    .dataframe thead th {\n",
       "        text-align: right;\n",
       "    }\n",
       "</style>\n",
       "<table border=\"1\" class=\"dataframe\">\n",
       "  <thead>\n",
       "    <tr style=\"text-align: right;\">\n",
       "      <th></th>\n",
       "      <th>id</th>\n",
       "      <th>price</th>\n",
       "      <th>bedrooms</th>\n",
       "      <th>bathrooms</th>\n",
       "      <th>sqft_living</th>\n",
       "      <th>sqft_lot</th>\n",
       "      <th>floors</th>\n",
       "      <th>waterfront</th>\n",
       "      <th>view</th>\n",
       "      <th>condition</th>\n",
       "      <th>grade</th>\n",
       "      <th>sqft_above</th>\n",
       "      <th>yr_built</th>\n",
       "      <th>yr_renovated</th>\n",
       "      <th>zipcode</th>\n",
       "      <th>lat</th>\n",
       "      <th>long</th>\n",
       "      <th>sqft_living15</th>\n",
       "      <th>sqft_lot15</th>\n",
       "    </tr>\n",
       "  </thead>\n",
       "  <tbody>\n",
       "    <tr>\n",
       "      <th>count</th>\n",
       "      <td>5.000000e+03</td>\n",
       "      <td>5.000000e+03</td>\n",
       "      <td>5000.0000</td>\n",
       "      <td>5000.000000</td>\n",
       "      <td>5000.000000</td>\n",
       "      <td>5.000000e+03</td>\n",
       "      <td>5000.000000</td>\n",
       "      <td>5000.000000</td>\n",
       "      <td>5000.000000</td>\n",
       "      <td>5000.000000</td>\n",
       "      <td>5000.000000</td>\n",
       "      <td>5000.000000</td>\n",
       "      <td>5000.000000</td>\n",
       "      <td>5000.000000</td>\n",
       "      <td>5000.000000</td>\n",
       "      <td>5000.000000</td>\n",
       "      <td>5000.000000</td>\n",
       "      <td>5000.00000</td>\n",
       "      <td>5000.000000</td>\n",
       "    </tr>\n",
       "    <tr>\n",
       "      <th>mean</th>\n",
       "      <td>4.630823e+09</td>\n",
       "      <td>5.394699e+05</td>\n",
       "      <td>3.3714</td>\n",
       "      <td>2.062150</td>\n",
       "      <td>2061.036800</td>\n",
       "      <td>1.615893e+04</td>\n",
       "      <td>1.432600</td>\n",
       "      <td>0.009400</td>\n",
       "      <td>0.243000</td>\n",
       "      <td>3.455000</td>\n",
       "      <td>7.595200</td>\n",
       "      <td>1753.151000</td>\n",
       "      <td>1966.660800</td>\n",
       "      <td>95.052800</td>\n",
       "      <td>98078.812600</td>\n",
       "      <td>47.559312</td>\n",
       "      <td>-122.215864</td>\n",
       "      <td>1976.84520</td>\n",
       "      <td>13451.164600</td>\n",
       "    </tr>\n",
       "    <tr>\n",
       "      <th>std</th>\n",
       "      <td>2.870890e+09</td>\n",
       "      <td>3.873115e+05</td>\n",
       "      <td>0.9104</td>\n",
       "      <td>0.773592</td>\n",
       "      <td>923.727509</td>\n",
       "      <td>4.600220e+04</td>\n",
       "      <td>0.510793</td>\n",
       "      <td>0.096506</td>\n",
       "      <td>0.774643</td>\n",
       "      <td>0.677692</td>\n",
       "      <td>1.166537</td>\n",
       "      <td>818.390844</td>\n",
       "      <td>28.286855</td>\n",
       "      <td>425.234932</td>\n",
       "      <td>54.126332</td>\n",
       "      <td>0.139521</td>\n",
       "      <td>0.141807</td>\n",
       "      <td>674.73601</td>\n",
       "      <td>26514.749009</td>\n",
       "    </tr>\n",
       "    <tr>\n",
       "      <th>min</th>\n",
       "      <td>1.000102e+06</td>\n",
       "      <td>7.500000e+04</td>\n",
       "      <td>0.0000</td>\n",
       "      <td>0.000000</td>\n",
       "      <td>380.000000</td>\n",
       "      <td>6.090000e+02</td>\n",
       "      <td>1.000000</td>\n",
       "      <td>0.000000</td>\n",
       "      <td>0.000000</td>\n",
       "      <td>1.000000</td>\n",
       "      <td>3.000000</td>\n",
       "      <td>380.000000</td>\n",
       "      <td>1900.000000</td>\n",
       "      <td>0.000000</td>\n",
       "      <td>98001.000000</td>\n",
       "      <td>47.155900</td>\n",
       "      <td>-122.514000</td>\n",
       "      <td>620.00000</td>\n",
       "      <td>660.000000</td>\n",
       "    </tr>\n",
       "    <tr>\n",
       "      <th>25%</th>\n",
       "      <td>2.154075e+09</td>\n",
       "      <td>3.179062e+05</td>\n",
       "      <td>3.0000</td>\n",
       "      <td>1.500000</td>\n",
       "      <td>1410.000000</td>\n",
       "      <td>5.400000e+03</td>\n",
       "      <td>1.000000</td>\n",
       "      <td>0.000000</td>\n",
       "      <td>0.000000</td>\n",
       "      <td>3.000000</td>\n",
       "      <td>7.000000</td>\n",
       "      <td>1190.000000</td>\n",
       "      <td>1949.000000</td>\n",
       "      <td>0.000000</td>\n",
       "      <td>98033.000000</td>\n",
       "      <td>47.463675</td>\n",
       "      <td>-122.329000</td>\n",
       "      <td>1490.00000</td>\n",
       "      <td>5391.500000</td>\n",
       "    </tr>\n",
       "    <tr>\n",
       "      <th>50%</th>\n",
       "      <td>4.022900e+09</td>\n",
       "      <td>4.490000e+05</td>\n",
       "      <td>3.0000</td>\n",
       "      <td>2.000000</td>\n",
       "      <td>1890.000000</td>\n",
       "      <td>7.875000e+03</td>\n",
       "      <td>1.000000</td>\n",
       "      <td>0.000000</td>\n",
       "      <td>0.000000</td>\n",
       "      <td>3.000000</td>\n",
       "      <td>7.000000</td>\n",
       "      <td>1530.000000</td>\n",
       "      <td>1968.000000</td>\n",
       "      <td>0.000000</td>\n",
       "      <td>98070.000000</td>\n",
       "      <td>47.572850</td>\n",
       "      <td>-122.235000</td>\n",
       "      <td>1820.00000</td>\n",
       "      <td>7800.000000</td>\n",
       "    </tr>\n",
       "    <tr>\n",
       "      <th>75%</th>\n",
       "      <td>7.345078e+09</td>\n",
       "      <td>6.500000e+05</td>\n",
       "      <td>4.0000</td>\n",
       "      <td>2.500000</td>\n",
       "      <td>2500.000000</td>\n",
       "      <td>1.123400e+04</td>\n",
       "      <td>2.000000</td>\n",
       "      <td>0.000000</td>\n",
       "      <td>0.000000</td>\n",
       "      <td>4.000000</td>\n",
       "      <td>8.000000</td>\n",
       "      <td>2130.000000</td>\n",
       "      <td>1990.000000</td>\n",
       "      <td>0.000000</td>\n",
       "      <td>98118.000000</td>\n",
       "      <td>47.679200</td>\n",
       "      <td>-122.129000</td>\n",
       "      <td>2340.00000</td>\n",
       "      <td>10469.250000</td>\n",
       "    </tr>\n",
       "    <tr>\n",
       "      <th>max</th>\n",
       "      <td>9.842300e+09</td>\n",
       "      <td>7.060000e+06</td>\n",
       "      <td>9.0000</td>\n",
       "      <td>6.750000</td>\n",
       "      <td>10040.000000</td>\n",
       "      <td>1.651359e+06</td>\n",
       "      <td>3.500000</td>\n",
       "      <td>1.000000</td>\n",
       "      <td>4.000000</td>\n",
       "      <td>5.000000</td>\n",
       "      <td>13.000000</td>\n",
       "      <td>7680.000000</td>\n",
       "      <td>2015.000000</td>\n",
       "      <td>2015.000000</td>\n",
       "      <td>98199.000000</td>\n",
       "      <td>47.777600</td>\n",
       "      <td>-121.315000</td>\n",
       "      <td>5790.00000</td>\n",
       "      <td>434728.000000</td>\n",
       "    </tr>\n",
       "  </tbody>\n",
       "</table>\n",
       "</div>"
      ],
      "text/plain": [
       "                 id         price   bedrooms    bathrooms   sqft_living  \\\n",
       "count  5.000000e+03  5.000000e+03  5000.0000  5000.000000   5000.000000   \n",
       "mean   4.630823e+09  5.394699e+05     3.3714     2.062150   2061.036800   \n",
       "std    2.870890e+09  3.873115e+05     0.9104     0.773592    923.727509   \n",
       "min    1.000102e+06  7.500000e+04     0.0000     0.000000    380.000000   \n",
       "25%    2.154075e+09  3.179062e+05     3.0000     1.500000   1410.000000   \n",
       "50%    4.022900e+09  4.490000e+05     3.0000     2.000000   1890.000000   \n",
       "75%    7.345078e+09  6.500000e+05     4.0000     2.500000   2500.000000   \n",
       "max    9.842300e+09  7.060000e+06     9.0000     6.750000  10040.000000   \n",
       "\n",
       "           sqft_lot       floors   waterfront         view    condition  \\\n",
       "count  5.000000e+03  5000.000000  5000.000000  5000.000000  5000.000000   \n",
       "mean   1.615893e+04     1.432600     0.009400     0.243000     3.455000   \n",
       "std    4.600220e+04     0.510793     0.096506     0.774643     0.677692   \n",
       "min    6.090000e+02     1.000000     0.000000     0.000000     1.000000   \n",
       "25%    5.400000e+03     1.000000     0.000000     0.000000     3.000000   \n",
       "50%    7.875000e+03     1.000000     0.000000     0.000000     3.000000   \n",
       "75%    1.123400e+04     2.000000     0.000000     0.000000     4.000000   \n",
       "max    1.651359e+06     3.500000     1.000000     4.000000     5.000000   \n",
       "\n",
       "             grade   sqft_above     yr_built  yr_renovated       zipcode  \\\n",
       "count  5000.000000  5000.000000  5000.000000   5000.000000   5000.000000   \n",
       "mean      7.595200  1753.151000  1966.660800     95.052800  98078.812600   \n",
       "std       1.166537   818.390844    28.286855    425.234932     54.126332   \n",
       "min       3.000000   380.000000  1900.000000      0.000000  98001.000000   \n",
       "25%       7.000000  1190.000000  1949.000000      0.000000  98033.000000   \n",
       "50%       7.000000  1530.000000  1968.000000      0.000000  98070.000000   \n",
       "75%       8.000000  2130.000000  1990.000000      0.000000  98118.000000   \n",
       "max      13.000000  7680.000000  2015.000000   2015.000000  98199.000000   \n",
       "\n",
       "               lat         long  sqft_living15     sqft_lot15  \n",
       "count  5000.000000  5000.000000     5000.00000    5000.000000  \n",
       "mean     47.559312  -122.215864     1976.84520   13451.164600  \n",
       "std       0.139521     0.141807      674.73601   26514.749009  \n",
       "min      47.155900  -122.514000      620.00000     660.000000  \n",
       "25%      47.463675  -122.329000     1490.00000    5391.500000  \n",
       "50%      47.572850  -122.235000     1820.00000    7800.000000  \n",
       "75%      47.679200  -122.129000     2340.00000   10469.250000  \n",
       "max      47.777600  -121.315000     5790.00000  434728.000000  "
      ]
     },
     "execution_count": 4,
     "metadata": {},
     "output_type": "execute_result"
    }
   ],
   "source": [
    "df.describe()"
   ]
  },
  {
   "cell_type": "markdown",
   "metadata": {
    "nbgrader": {
     "grade": false,
     "grade_id": "cell-9b9bd1b387905904",
     "locked": true,
     "schema_version": 1,
     "solution": false
    }
   },
   "source": [
    "We will start with simple linear regression with one feature by extracting the target column (`price`) and the first feature (`sqft_living`) from the dataset. We use pandas and select both columns as separate variables and transform them into a numpy array."
   ]
  },
  {
   "cell_type": "code",
   "execution_count": 5,
   "metadata": {
    "ExecuteTime": {
     "start_time": "2024-04-09T10:27:04.067277Z"
    },
    "nbgrader": {
     "grade": true,
     "grade_id": "cell-c7cd243e8b5fe5aa",
     "locked": false,
     "points": 1,
     "schema_version": 1,
     "solution": true
    }
   },
   "outputs": [
    {
     "name": "stdout",
     "output_type": "stream",
     "text": [
      "[1180 2570  770 ... 1580 1230 2200]\n"
     ]
    }
   ],
   "source": [
    "X = df['sqft_living'].values\n",
    "y = df['price'].values\n",
    "print(X)"
   ]
  },
  {
   "cell_type": "markdown",
   "metadata": {
    "nbgrader": {
     "grade": false,
     "grade_id": "cell-508e7e1a13f9bbe4",
     "locked": true,
     "schema_version": 1,
     "solution": false
    }
   },
   "source": [
    "### Normalization\n",
    "\n",
    "As the number of features grows, calculating gradients gets computationally expensive. We can speed this up by normalizing the input data to ensure all values are within the same range. This is especially important for datasets with high standard deviations or differences in the ranges of the attributes. Use [Standardization](https://en.wikipedia.org/wiki/Feature_scaling) for the fearures (`X`) and the true labels (`y`). \n",
    "\n",
    "Please note that normalization is not always necessary or a good idea. For example, normalization may not be a good idea for datasets with outliers.\n",
    "\n",
    "Implement Standartization transformation:\n",
    "$$\n",
    "x'_i = \\frac{x_i - \\bar{x}}{\\sigma},\\qquad \\bar{x} = \\frac{1}{n} \\sum_{i=1}^n x_i, \\quad \\sigma = \\sqrt{\\frac{1}{n} \\sum_{i=1}^n (x_i - \\bar{x})^2}\n",
    "$$\n",
    "(here $x = (x_1, x_2, \\dots, x_n)$ is a sequence of values)\n",
    "This transformation is applied to each feature independently, as well as to the target variable.\n",
    "\n",
    "Your implementation should not contain loops.\n",
    "\n",
    "---\n",
    "Complete the function `preprocess` in `hw1.py`"
   ]
  },
  {
   "cell_type": "code",
   "execution_count": 6,
   "metadata": {
    "ExecuteTime": {
     "end_time": "2024-04-09T10:27:04.070751Z",
     "start_time": "2024-04-09T10:27:04.069564Z"
    }
   },
   "outputs": [
    {
     "name": "stdout",
     "output_type": "stream",
     "text": [
      "[-0.9538797   0.55104357 -1.39777793 ... -0.52080825 -0.89974577\n",
      "  0.15045248]\n"
     ]
    }
   ],
   "source": [
    "from hw1 import preprocess\n",
    "\n",
    "X, y = preprocess(X, y)\n",
    "X.shape, y.shape\n",
    "print(X)"
   ]
  },
  {
   "cell_type": "markdown",
   "metadata": {},
   "source": [
    "### Train/Test Split\n",
    "\n",
    "We partition the data into two random parts: \n",
    "1. The training dataset will contain 80% of the data and will be used for model training.\n",
    "2. The validation dataset will contain the remaining 20% of the data and will be used for model evaluation.\n",
    "\n",
    "Testing a model on a dataset that was not used for training provides reliable evaluation of our model's expected performance on unseen instances."
   ]
  },
  {
   "cell_type": "code",
   "execution_count": 7,
   "metadata": {
    "ExecuteTime": {
     "end_time": "2024-04-09T10:27:04.072211Z",
     "start_time": "2024-04-09T10:27:04.072095Z"
    }
   },
   "outputs": [],
   "source": [
    "# training and validation split\n",
    "np.random.seed(42)\n",
    "indices = np.random.permutation(X.shape[0])\n",
    "idx_train, idx_val = indices[:int(0.8*X.shape[0])], indices[int(0.8*X.shape[0]):]\n",
    "X_train, X_val = X[idx_train], X[idx_val]\n",
    "y_train, y_val = y[idx_train], y[idx_val]"
   ]
  },
  {
   "cell_type": "markdown",
   "metadata": {
    "nbgrader": {
     "grade": false,
     "grade_id": "cell-0c168d036748663e",
     "locked": true,
     "schema_version": 1,
     "solution": false
    }
   },
   "source": [
    "### Data Visualization\n",
    "Another useful concept is data visualization. The code below plots the target value (`price`) against the first feature (`sqft_living`). Since we are currently considering just one feature, we can visualize its relation to the target value using a two-dimensional scatterplot. Once we consider more than two features, visualization becomes much more complicated. We will be using `matplotlib` for all data visualization purposes since it offers a wide range of visualization tools and is easy to use."
   ]
  },
  {
   "cell_type": "code",
   "execution_count": 8,
   "metadata": {
    "ExecuteTime": {
     "start_time": "2024-04-09T10:27:04.075135Z"
    },
    "nbgrader": {
     "grade": false,
     "grade_id": "cell-cbad8871e083093f",
     "locked": true,
     "schema_version": 1,
     "solution": false
    }
   },
   "outputs": [
    {
     "data": {
      "image/png": "[encoded data removed]",
      "text/plain": [
       "<Figure size 640x480 with 1 Axes>"
      ]
     },
     "metadata": {},
     "output_type": "display_data"
    }
   ],
   "source": [
    "plt.plot(X_train, y_train, 'ro', ms=1, mec='k') # the parameters control the size, shape and color of the scatter plot\n",
    "plt.ylabel('Price in USD')\n",
    "plt.xlabel('sq.ft')\n",
    "plt.show()"
   ]
  },
  {
   "cell_type": "markdown",
   "metadata": {
    "nbgrader": {
     "grade": false,
     "grade_id": "cell-c50f0a0e569142ed",
     "locked": true,
     "schema_version": 1,
     "solution": false
    }
   },
   "source": [
    "### Bias/Intercept Consideration\n",
    "\n",
    "Recall that linear regression contains a bias/intercept parameter, $\\theta_0$:\n",
    "\n",
    "$$\n",
    "\\hat{y} = \\theta^T x = \\theta_0 + \\theta_1 x_1\n",
    "$$\n",
    "\n",
    "Thus, to solve linear regression problems, we need to add an \"all-1\" column as the 0th column of the feature matrix. Do this for both the training and validation data.\n",
    "\n",
    "---\n",
    "Complete the function `apply_bias_trick` in `hw1.py`"
   ]
  },
  {
   "cell_type": "code",
   "execution_count": 9,
   "metadata": {
    "ExecuteTime": {
     "start_time": "2024-04-09T10:27:04.077336Z"
    }
   },
   "outputs": [
    {
     "name": "stdout",
     "output_type": "stream",
     "text": [
      "[[ 1.         -0.78065112]\n",
      " [ 1.         -0.21765824]\n",
      " [ 1.          1.66620254]\n",
      " ...\n",
      " [ 1.         -0.85643862]\n",
      " [ 1.         -0.3259261 ]\n",
      " [ 1.         -0.27179217]]\n"
     ]
    }
   ],
   "source": [
    "from hw1 import apply_bias_trick\n",
    "\n",
    "X_train = apply_bias_trick(X_train)\n",
    "X_val = apply_bias_trick(X_val)\n",
    "\n",
    "print(X_train)\n"
   ]
  },
  {
   "cell_type": "markdown",
   "metadata": {},
   "source": [
    "## 2. The Loss Function (5 points)\n",
    "Our task is to find the linear function of the first feature (`sqft_living`) that \"best explains\" the target (or response) variable in our dataset (`price`). Since we are currently considering only one feature, the regression formula is:\n",
    "$$\n",
    "\\hat{y} = \\theta^\\top x = \\theta_0 + \\theta_1 x_1.\n",
    "$$\n",
    "The parameter vector of our model is $\\theta = (\\theta_0, \\theta_1)$.\n",
    "\n",
    "The model that \"best explains\" the target variable in the training data minimizes the loss function $J$:\n",
    "$$\n",
    "J(\\theta) = \\frac{1}{2n} \\sum_{i=1}^{n}(\\theta^\\top x^{(i)}-y^{(i)})^2.\n",
    "$$\n",
    "This loss function is called the *mean squared error* and it is obtained by scaling the *sum of squared errors* loss shown in the lecture by a (constant) factor of $\\frac{1}{2n}$. Therefore, the minimizers of these two loss functions are identical. Scaling allows us to compare losses across datasets of different sizes.\n",
    "\n",
    "---\n",
    "Complete the function `compute_loss` in `hw1.py`"
   ]
  },
  {
   "cell_type": "code",
   "execution_count": 22,
   "metadata": {
    "ExecuteTime": {
     "start_time": "2024-04-09T10:27:04.079579Z"
    }
   },
   "outputs": [
    {
     "name": "stdout",
     "output_type": "stream",
     "text": [
      "1.6003214548835494\n"
     ]
    }
   ],
   "source": [
    "from hw1 import compute_loss\n",
    "theta = np.array([-1, 2])\n",
    "J = compute_loss(X_train, y_train, theta)\n",
    "print (J)\n"
   ]
  },
  {
   "cell_type": "markdown",
   "metadata": {},
   "source": [
    "## 3. Gradient Descent (15 points)\n",
    "\n",
    "We now wish to use *gradient descent* to find the $\\theta$ that minimizes the loss function $J(\\theta)$. We start with an initial guess for $\\theta$, and then update it sequentially as follows:\n",
    "$$\n",
    "\\theta \\leftarrow \\theta - \\eta \\nabla J(\\theta),\n",
    "$$\n",
    "where $\\eta$ is the *learning rate*. Note that this is a vector update:\n",
    "$$\n",
    "\\theta_j \\leftarrow \\theta_j - \\eta \\frac{\\partial}{\\partial \\theta_j} J(\\theta_0, \\theta_1),\\quad j=0,1.\n",
    "$$\n",
    "\n",
    "In linear regresion, the gradient is given by the following formula:\n",
    "$$\n",
    "\\nabla J(\\theta) = \\frac{1}{n} \\sum_{i=1}^n (\\theta^\\top x^{(i)}-y^{(i)})x^{(i)}.\n",
    "$$\n",
    "Specifically, when considering a single feaute, we get:\n",
    "$$\n",
    "\\begin{align*}\n",
    "\\frac{\\partial}{\\partial \\theta_0} J(\\theta_0, \\theta_1) &= \\frac{1}{n} \\sum_{i=1}^n (\\theta_0 + \\theta_1 x_1^{(i)} - y^{(i)}), \\\\\n",
    "\\frac{\\partial}{\\partial \\theta_1} J(\\theta_0, \\theta_1) &= \\frac{1}{n} \\sum_{i=1}^n (\\theta_0 + \\theta_1 x_1^{(i)} - y^{(i)})x_1^{(i)}.\n",
    "\\end{align*}\n",
    "$$\n",
    "\n",
    "---\n",
    "Complete the function `gradient_descent` in `hw1.py`"
   ]
  },
  {
   "cell_type": "code",
   "execution_count": 38,
   "metadata": {
    "ExecuteTime": {
     "start_time": "2024-04-09T10:27:04.082170Z"
    }
   },
   "outputs": [
    {
     "name": "stdout",
     "output_type": "stream",
     "text": [
      "Iteration 0 completed\n",
      "Iteration 1000 completed\n",
      "Iteration 2000 completed\n",
      "Iteration 3000 completed\n",
      "Iteration 4000 completed\n",
      "Iteration 5000 completed\n",
      "Iteration 6000 completed\n",
      "Iteration 7000 completed\n",
      "Iteration 8000 completed\n",
      "Iteration 9000 completed\n",
      "Iteration 10000 completed\n",
      "Iteration 11000 completed\n",
      "Iteration 12000 completed\n",
      "Iteration 13000 completed\n",
      "Iteration 14000 completed\n",
      "Iteration 15000 completed\n",
      "Iteration 16000 completed\n",
      "Iteration 17000 completed\n",
      "Iteration 18000 completed\n",
      "Iteration 19000 completed\n",
      "Iteration 20000 completed\n",
      "Iteration 21000 completed\n",
      "Iteration 22000 completed\n",
      "Iteration 23000 completed\n",
      "Iteration 24000 completed\n",
      "Iteration 25000 completed\n",
      "Iteration 26000 completed\n",
      "Iteration 27000 completed\n",
      "Iteration 28000 completed\n",
      "Iteration 29000 completed\n",
      "Iteration 30000 completed\n",
      "Iteration 31000 completed\n",
      "Iteration 32000 completed\n",
      "Iteration 33000 completed\n",
      "Iteration 34000 completed\n",
      "Iteration 35000 completed\n",
      "Iteration 36000 completed\n",
      "Iteration 37000 completed\n",
      "Iteration 38000 completed\n",
      "Iteration 39000 completed\n"
     ]
    }
   ],
   "source": [
    "from hw1 import gradient_descent\n",
    "\n",
    "np.random.seed(42)\n",
    "theta = np.random.random(size=2)\n",
    "iterations = 40000\n",
    "eta = 0.1\n",
    "\n",
    "theta, J_history = gradient_descent(X_train ,y_train, theta, eta, iterations)\n",
    "\n"
   ]
  },
  {
   "cell_type": "markdown",
   "metadata": {
    "nbgrader": {
     "grade": false,
     "grade_id": "cell-86125cd57f0fdb89",
     "locked": true,
     "schema_version": 1,
     "solution": false
    }
   },
   "source": [
    "You can monitor the learning process by tracing the loss as training progresses. In the following graph, we visualize the loss as a function of the iterations. This is possible since we are saving the loss value at every iteration in the `J_history` array. This visualization might help you find problems with your code. Notice that we are using a logarithmic scale for the number of iterations."
   ]
  },
  {
   "cell_type": "code",
   "execution_count": 34,
   "metadata": {
    "ExecuteTime": {
     "end_time": "2024-04-09T10:27:04.085265Z",
     "start_time": "2024-04-09T10:27:04.085138Z"
    },
    "nbgrader": {
     "grade": false,
     "grade_id": "cell-a565f1f721f6377f",
     "locked": true,
     "schema_version": 1,
     "solution": false
    }
   },
   "outputs": [
    {
     "data": {
      "image/png": "[encoded data removed]",
      "text/plain": [
       "<Figure size 640x480 with 1 Axes>"
      ]
     },
     "metadata": {},
     "output_type": "display_data"
    }
   ],
   "source": [
    "plt.plot(np.arange(iterations), J_history)\n",
    "plt.xscale('log')\n",
    "plt.xlabel('Iterations')\n",
    "plt.ylabel('Loss')\n",
    "plt.title('Loss as a function of iterations')\n",
    "plt.show()"
   ]
  },
  {
   "cell_type": "markdown",
   "metadata": {
    "nbgrader": {
     "grade": false,
     "grade_id": "cell-3bdd058ecc5db0eb",
     "locked": true,
     "schema_version": 1,
     "solution": false
    }
   },
   "source": [
    "## 4. Analytical Solution to Linear Regression (10 points)\n",
    "\n",
    "The pseudo inverse method is a direct approach to finding the best-fitting parameters of the linear model. In your implementation, **do not use `np.linalg.pinv`**. Instead, use only direct matrix multiplication as you saw in class (you can calculate the inverse of a matrix using `np.linalg.inv`).\n",
    "\n",
    "---\n",
    "Complete the function `compute_pinv` in `hw1.py`"
   ]
  },
  {
   "cell_type": "code",
   "execution_count": 35,
   "metadata": {
    "ExecuteTime": {
     "end_time": "2024-04-09T10:27:04.203177Z",
     "start_time": "2024-04-09T10:27:04.088316Z"
    }
   },
   "outputs": [],
   "source": [
    "from hw1 import compute_pinv"
   ]
  },
  {
   "cell_type": "code",
   "execution_count": 36,
   "metadata": {
    "ExecuteTime": {
     "start_time": "2024-04-09T10:27:04.091214Z"
    },
    "nbgrader": {
     "grade": false,
     "grade_id": "cell-ee89ac06af3087ae",
     "locked": true,
     "schema_version": 1,
     "solution": false
    }
   },
   "outputs": [],
   "source": [
    "theta_pinv = compute_pinv(X_train ,y_train)\n",
    "J_pinv = compute_loss(X_train, y_train, theta_pinv)"
   ]
  },
  {
   "cell_type": "markdown",
   "metadata": {},
   "source": [
    "We can add the loss of the $\\theta$ calculated using the psuedo-inverse method to our graph. This provides us with another sanity check, since the loss obtained by gradient descent should converge to the psuedo-inverse loss."
   ]
  },
  {
   "cell_type": "code",
   "execution_count": 37,
   "metadata": {
    "ExecuteTime": {
     "start_time": "2024-04-09T10:27:04.095590Z"
    },
    "nbgrader": {
     "grade": false,
     "grade_id": "cell-639b53fc41479335",
     "locked": true,
     "schema_version": 1,
     "solution": false
    }
   },
   "outputs": [
    {
     "data": {
      "image/png": "[encoded data removed]",
      "text/plain": [
       "<Figure size 640x480 with 1 Axes>"
      ]
     },
     "metadata": {},
     "output_type": "display_data"
    }
   ],
   "source": [
    "plt.plot(np.arange(len(J_history)), J_history)\n",
    "plt.xscale('log')\n",
    "plt.xlabel('Iterations')\n",
    "plt.ylabel('Loss')\n",
    "plt.title('Loss as a function of iterations')\n",
    "plt.hlines(y = J_pinv, xmin = 0, xmax = len(J_history), color='r',\n",
    "           linewidth = 1, linestyle = 'dashed')\n",
    "plt.show()"
   ]
  },
  {
   "cell_type": "markdown",
   "metadata": {},
   "source": [
    "## 5. Tuning The Learning rate (5 points)\n",
    "\n",
    "The learning rate is another factor that determines the performance of optimization algorithms. It may affect performance in several ways:\n",
    "1. If the learning rate is too high, the algorithm may diverge (see example in the lecture).\n",
    "2. If the learning rate is too low, the algorithm may converge very slowly and bloat the runtime.\n",
    "3. In non-convex optimization problems like neural network optimization (not in this course), the learning rate may not only change the speed of convergence but also the convergence point and thus the quality of the learned parameters.\n",
    "\n",
    "In the case of linear regression, unless the learning rate is very high and leads to divergence, it should only affect the convergence rate and not the convergence point. \n",
    "\n",
    "We will check several learning rates and choose the ones the attain minimum loss after a fixed number of iterations. \n",
    "\n",
    "Complete the function `find_best_learning_rate`. Use the training dataset to learn the parameters ($\\theta$), and use the **validation dataset** to compute the loss associated with these parameters.\n",
    "\n",
    "---\n",
    "Complete the function `find_best_learning_rate` in `hw1.py`"
   ]
  },
  {
   "cell_type": "markdown",
   "metadata": {
    "nbgrader": {
     "grade": false,
     "grade_id": "cell-5043aa5363cbe5c9",
     "locked": true,
     "schema_version": 1,
     "solution": false
    }
   },
   "source": [
    "## 6. Adding A Halting Condition to The Gradient Descent (5 points)\n",
    "Earlier you implemented a function `gradient_descent` that performs a fixed number of iterations. We can use a better approach for the implementation of `gradient_descent`. Instead of performing a constant number of iterations, we wish to stop when the improvement of the loss btween two consecutive iterations is smaller than $\\epsilon$=`1e-8`. \n",
    "\n",
    "---\n",
    "Complete the function `gradient_descent_stop_condition` in `hw1.py`"
   ]
  },
  {
   "cell_type": "markdown",
   "metadata": {},
   "source": [
    "**In the remaining parts of this assignment, use the function `gradient_descent_stop_condition` with the best learning rate you computed above.**"
   ]
  },
  {
   "cell_type": "code",
   "execution_count": 39,
   "metadata": {
    "ExecuteTime": {
     "start_time": "2024-04-09T10:27:04.100113Z"
    }
   },
   "outputs": [],
   "source": [
    "from hw1 import gradient_descent_stop_condition, find_best_learning_rate"
   ]
  },
  {
   "cell_type": "code",
   "execution_count": 42,
   "metadata": {
    "ExecuteTime": {
     "start_time": "2024-04-09T10:27:04.103913Z"
    },
    "nbgrader": {
     "grade": false,
     "grade_id": "cell-a8b088fe7a10910a",
     "locked": true,
     "schema_version": 1,
     "solution": false
    }
   },
   "outputs": [
    {
     "name": "stdout",
     "output_type": "stream",
     "text": [
      "eta: 1e-05\n",
      "Iteration 0 completed\n",
      "Iteration 1000 completed\n",
      "Iteration 2000 completed\n",
      "Iteration 3000 completed\n",
      "Iteration 4000 completed\n",
      "Iteration 5000 completed\n",
      "Iteration 6000 completed\n",
      "Iteration 7000 completed\n",
      "Iteration 8000 completed\n",
      "Iteration 9000 completed\n",
      "Iteration 10000 completed\n",
      "Iteration 11000 completed\n",
      "Iteration 12000 completed\n",
      "Iteration 13000 completed\n",
      "Iteration 14000 completed\n",
      "Iteration 15000 completed\n",
      "Iteration 16000 completed\n",
      "Iteration 17000 completed\n",
      "Iteration 18000 completed\n",
      "Iteration 19000 completed\n",
      "Iteration 20000 completed\n",
      "Iteration 21000 completed\n",
      "Iteration 22000 completed\n",
      "Iteration 23000 completed\n",
      "Iteration 24000 completed\n",
      "Iteration 25000 completed\n",
      "Iteration 26000 completed\n",
      "Iteration 27000 completed\n",
      "Iteration 28000 completed\n",
      "Iteration 29000 completed\n",
      "Iteration 30000 completed\n",
      "Iteration 31000 completed\n",
      "Iteration 32000 completed\n",
      "Iteration 33000 completed\n",
      "Iteration 34000 completed\n",
      "Iteration 35000 completed\n",
      "Iteration 36000 completed\n",
      "Iteration 37000 completed\n",
      "Iteration 38000 completed\n",
      "Iteration 39000 completed\n",
      "eta: 3e-05\n",
      "Iteration 0 completed\n",
      "Iteration 1000 completed\n",
      "Iteration 2000 completed\n",
      "Iteration 3000 completed\n",
      "Iteration 4000 completed\n",
      "Iteration 5000 completed\n",
      "Iteration 6000 completed\n",
      "Iteration 7000 completed\n",
      "Iteration 8000 completed\n",
      "Iteration 9000 completed\n",
      "Iteration 10000 completed\n",
      "Iteration 11000 completed\n",
      "Iteration 12000 completed\n",
      "Iteration 13000 completed\n",
      "Iteration 14000 completed\n",
      "Iteration 15000 completed\n",
      "Iteration 16000 completed\n",
      "Iteration 17000 completed\n",
      "Iteration 18000 completed\n",
      "Iteration 19000 completed\n",
      "Iteration 20000 completed\n",
      "Iteration 21000 completed\n",
      "Iteration 22000 completed\n",
      "Iteration 23000 completed\n",
      "Iteration 24000 completed\n",
      "Iteration 25000 completed\n",
      "Iteration 26000 completed\n",
      "Iteration 27000 completed\n",
      "Iteration 28000 completed\n",
      "Iteration 29000 completed\n",
      "Iteration 30000 completed\n",
      "Iteration 31000 completed\n",
      "Iteration 32000 completed\n",
      "Iteration 33000 completed\n",
      "Iteration 34000 completed\n",
      "Iteration 35000 completed\n",
      "Iteration 36000 completed\n",
      "Iteration 37000 completed\n",
      "Iteration 38000 completed\n",
      "Iteration 39000 completed\n",
      "eta: 0.0001\n",
      "Iteration 0 completed\n",
      "Iteration 1000 completed\n",
      "Iteration 2000 completed\n",
      "Iteration 3000 completed\n",
      "Iteration 4000 completed\n",
      "Iteration 5000 completed\n",
      "Iteration 6000 completed\n",
      "Iteration 7000 completed\n",
      "Iteration 8000 completed\n",
      "Iteration 9000 completed\n",
      "Iteration 10000 completed\n",
      "Iteration 11000 completed\n",
      "Iteration 12000 completed\n",
      "Iteration 13000 completed\n",
      "Iteration 14000 completed\n",
      "Iteration 15000 completed\n",
      "Iteration 16000 completed\n",
      "Iteration 17000 completed\n",
      "Iteration 18000 completed\n",
      "Iteration 19000 completed\n",
      "Iteration 20000 completed\n",
      "Iteration 21000 completed\n",
      "Iteration 22000 completed\n",
      "Iteration 23000 completed\n",
      "Iteration 24000 completed\n",
      "Iteration 25000 completed\n",
      "Iteration 26000 completed\n",
      "Iteration 27000 completed\n",
      "Iteration 28000 completed\n",
      "Iteration 29000 completed\n",
      "Iteration 30000 completed\n",
      "Iteration 31000 completed\n",
      "Iteration 32000 completed\n",
      "Iteration 33000 completed\n",
      "Iteration 34000 completed\n",
      "Iteration 35000 completed\n",
      "Iteration 36000 completed\n",
      "Iteration 37000 completed\n",
      "Iteration 38000 completed\n",
      "Iteration 39000 completed\n",
      "eta: 0.0003\n",
      "Iteration 0 completed\n",
      "Iteration 1000 completed\n",
      "Iteration 2000 completed\n",
      "Iteration 3000 completed\n",
      "Iteration 4000 completed\n",
      "Iteration 5000 completed\n",
      "Iteration 6000 completed\n",
      "Iteration 7000 completed\n",
      "Iteration 8000 completed\n",
      "Iteration 9000 completed\n",
      "Iteration 10000 completed\n",
      "Iteration 11000 completed\n",
      "Iteration 12000 completed\n",
      "Iteration 13000 completed\n",
      "Iteration 14000 completed\n",
      "Iteration 15000 completed\n",
      "Stopping early at iteration 15853\n",
      "eta: 0.001\n",
      "Iteration 0 completed\n",
      "Iteration 1000 completed\n",
      "Iteration 2000 completed\n",
      "Iteration 3000 completed\n",
      "Iteration 4000 completed\n",
      "Iteration 5000 completed\n",
      "Stopping early at iteration 5349\n",
      "eta: 0.003\n",
      "Iteration 0 completed\n",
      "Iteration 1000 completed\n",
      "Stopping early at iteration 1962\n",
      "eta: 0.01\n",
      "Iteration 0 completed\n",
      "Stopping early at iteration 646\n",
      "eta: 0.03\n",
      "Iteration 0 completed\n",
      "Stopping early at iteration 231\n",
      "eta: 0.1\n",
      "Iteration 0 completed\n",
      "Stopping early at iteration 73\n",
      "eta: 0.3\n",
      "Iteration 0 completed\n",
      "Stopping early at iteration 23\n",
      "eta: 1\n",
      "Iteration 0 completed\n",
      "Stopping early at iteration 3\n",
      "eta: 2\n",
      "Iteration 0 completed\n",
      "Iteration 1000 completed\n",
      "Iteration 2000 completed\n",
      "Iteration 3000 completed\n",
      "Iteration 4000 completed\n",
      "Iteration 5000 completed\n",
      "Iteration 6000 completed\n",
      "Iteration 7000 completed\n",
      "Iteration 8000 completed\n",
      "Iteration 9000 completed\n"
     ]
    },
    {
     "name": "stderr",
     "output_type": "stream",
     "text": [
      "/Users/nadavhershkovitz/.pyenv/versions/3.8.18/lib/python3.8/site-packages/numpy/core/fromnumeric.py:86: RuntimeWarning: overflow encountered in reduce\n",
      "  return ufunc.reduce(obj, axis, dtype, out, **passkwargs)\n",
      "/Users/nadavhershkovitz/Desktop/Runi/MLL/ML_ex1/hw1.py:242: RuntimeWarning: invalid value encountered in scalar subtract\n",
      "  if delta_J < epsilon:\n",
      "/Users/nadavhershkovitz/Desktop/Runi/MLL/ML_ex1/hw1.py:83: RuntimeWarning: overflow encountered in square\n",
      "  J = (1 / (2 * n)) * np.sum((y_hat - y) ** 2)\n"
     ]
    },
    {
     "name": "stdout",
     "output_type": "stream",
     "text": [
      "Iteration 10000 completed\n",
      "Iteration 11000 completed\n",
      "Iteration 12000 completed\n",
      "Iteration 13000 completed\n",
      "Iteration 14000 completed\n",
      "Iteration 15000 completed\n",
      "Iteration 16000 completed\n",
      "Iteration 17000 completed\n",
      "Iteration 18000 completed\n"
     ]
    },
    {
     "name": "stderr",
     "output_type": "stream",
     "text": [
      "/Users/nadavhershkovitz/Desktop/Runi/MLL/ML_ex1/hw1.py:230: RuntimeWarning: overflow encountered in scalar add\n",
      "  # Update theta\n",
      "/Users/nadavhershkovitz/Desktop/Runi/MLL/ML_ex1/hw1.py:230: RuntimeWarning: invalid value encountered in scalar add\n",
      "  # Update theta\n",
      "/Users/nadavhershkovitz/Desktop/Runi/MLL/ML_ex1/hw1.py:234: RuntimeWarning: invalid value encountered in scalar subtract\n",
      "  # y_hat = X @ theta\n"
     ]
    },
    {
     "name": "stdout",
     "output_type": "stream",
     "text": [
      "Iteration 19000 completed\n",
      "Iteration 20000 completed\n",
      "Iteration 21000 completed\n",
      "Iteration 22000 completed\n",
      "Iteration 23000 completed\n",
      "Iteration 24000 completed\n",
      "Iteration 25000 completed\n",
      "Iteration 26000 completed\n",
      "Iteration 27000 completed\n",
      "Iteration 28000 completed\n",
      "Iteration 29000 completed\n",
      "Iteration 30000 completed\n",
      "Iteration 31000 completed\n",
      "Iteration 32000 completed\n",
      "Iteration 33000 completed\n",
      "Iteration 34000 completed\n",
      "Iteration 35000 completed\n",
      "Iteration 36000 completed\n",
      "Iteration 37000 completed\n",
      "Iteration 38000 completed\n",
      "Iteration 39000 completed\n",
      "eta: 3\n",
      "Iteration 0 completed\n",
      "Iteration 1000 completed\n",
      "Iteration 2000 completed\n",
      "Iteration 3000 completed\n",
      "Iteration 4000 completed\n",
      "Iteration 5000 completed\n",
      "Iteration 6000 completed\n",
      "Iteration 7000 completed\n",
      "Iteration 8000 completed\n",
      "Iteration 9000 completed\n",
      "Iteration 10000 completed\n",
      "Iteration 11000 completed\n",
      "Iteration 12000 completed\n",
      "Iteration 13000 completed\n",
      "Iteration 14000 completed\n",
      "Iteration 15000 completed\n",
      "Iteration 16000 completed\n",
      "Iteration 17000 completed\n",
      "Iteration 18000 completed\n",
      "Iteration 19000 completed\n",
      "Iteration 20000 completed\n",
      "Iteration 21000 completed\n",
      "Iteration 22000 completed\n",
      "Iteration 23000 completed\n",
      "Iteration 24000 completed\n",
      "Iteration 25000 completed\n",
      "Iteration 26000 completed\n",
      "Iteration 27000 completed\n",
      "Iteration 28000 completed\n",
      "Iteration 29000 completed\n",
      "Iteration 30000 completed\n",
      "Iteration 31000 completed\n",
      "Iteration 32000 completed\n",
      "Iteration 33000 completed\n",
      "Iteration 34000 completed\n",
      "Iteration 35000 completed\n",
      "Iteration 36000 completed\n",
      "Iteration 37000 completed\n",
      "Iteration 38000 completed\n",
      "Iteration 39000 completed\n"
     ]
    }
   ],
   "source": [
    "eta_dict = find_best_learning_rate(X_train, y_train, X_val, y_val, 40000)"
   ]
  },
  {
   "cell_type": "markdown",
   "metadata": {
    "nbgrader": {
     "grade": false,
     "grade_id": "cell-5bd93130c022d3e1",
     "locked": true,
     "schema_version": 1,
     "solution": false
    }
   },
   "source": [
    "We can now obtain the best learning rate from the dictionary `eta_dict` in a single line."
   ]
  },
  {
   "cell_type": "code",
   "execution_count": 44,
   "metadata": {
    "ExecuteTime": {
     "start_time": "2024-04-09T10:27:04.106620Z"
    },
    "nbgrader": {
     "grade": false,
     "grade_id": "cell-4f81cf375ac46b73",
     "locked": false,
     "schema_version": 1,
     "solution": true
    }
   },
   "outputs": [
    {
     "name": "stdout",
     "output_type": "stream",
     "text": [
      "0.0001\n",
      "{1e-05: 0.32248139503478357, 3e-05: 0.2455841567230713, 0.0001: 0.23021043996671978, 0.0003: 0.23032691081891746, 0.001: 0.23038357022421213, 0.003: 0.2304148991139238, 0.01: 0.2304351193618013, 0.03: 0.23044574474628104, 0.1: 0.23045303225513478, 0.3: 0.23045666153421127, 1: 0.23045959838012664, 2: nan, 3: nan}\n"
     ]
    }
   ],
   "source": [
    "best_learning_rate = min(eta_dict, key=eta_dict.get)\n",
    "print(best_learning_rate)\n",
    "print(eta_dict)"
   ]
  },
  {
   "cell_type": "markdown",
   "metadata": {
    "nbgrader": {
     "grade": false,
     "grade_id": "cell-d16367ecb7183996",
     "locked": true,
     "schema_version": 1,
     "solution": false
    }
   },
   "source": [
    "The following code gets the best three learning rates you just calculated and provides a graph with three lines indicating the training loss as a function of iterations. Use it as a test for your implementation. You can change this code as you see fit."
   ]
  },
  {
   "cell_type": "code",
   "execution_count": null,
   "metadata": {
    "ExecuteTime": {
     "start_time": "2024-04-09T10:27:04.109987Z"
    },
    "nbgrader": {
     "grade": true,
     "grade_id": "cell-448638e817503ca3",
     "locked": false,
     "points": 0,
     "schema_version": 1,
     "solution": true
    }
   },
   "outputs": [
    {
     "name": "stdout",
     "output_type": "stream",
     "text": [
      "Iteration 0 completed\n",
      "Iteration 1000 completed\n",
      "Iteration 2000 completed\n",
      "Iteration 3000 completed\n"
     ]
    }
   ],
   "source": [
    "top_3_etas = sorted([(value, key) for key, value in eta_dict.items()], reverse=False)[:3]\n",
    "top_3_etas = [x[1] for x in top_3_etas]\n",
    "\n",
    "histories = []\n",
    "for eta in top_3_etas:\n",
    "    params = np.random.random(size=2)\n",
    "    _, J_history = gradient_descent(X_train ,y_train, params, eta, num_iters=20000)\n",
    "    histories.append(J_history)\n",
    "\n",
    "for i, (eta, color) in enumerate(zip(top_3_etas, ['b','g','r'])):\n",
    "    plt.plot(np.arange(20000), histories[i], color, label='eta='+str(eta))\n",
    "\n",
    "plt.xscale('log')\n",
    "plt.ylim(0.25, 0.5)\n",
    "plt.xlabel('Iterations')\n",
    "plt.ylabel('Loss')\n",
    "plt.title('Loss as a function of iterations')\n",
    "plt.legend()\n",
    "plt.show()\n"
   ]
  },
  {
   "cell_type": "markdown",
   "metadata": {
    "nbgrader": {
     "grade": false,
     "grade_id": "cell-b73893d236bff1d5",
     "locked": true,
     "schema_version": 1,
     "solution": false
    }
   },
   "source": [
    "The function below plots the regression lines of the models you obtained via gradient descent and the pseudoinverse method. Use this to check your solution, as both models should exhibit similar trends. "
   ]
  },
  {
   "cell_type": "code",
   "execution_count": 58,
   "metadata": {
    "ExecuteTime": {
     "start_time": "2024-04-09T10:27:04.112034Z"
    },
    "nbgrader": {
     "grade": false,
     "grade_id": "cell-c7ee7d8763464371",
     "locked": true,
     "schema_version": 1,
     "solution": false
    }
   },
   "outputs": [
    {
     "name": "stdout",
     "output_type": "stream",
     "text": [
      "[0.6502316513701708, 0.6501542068177034, 0.6500767776976974, 0.6499993640070775, 0.6499219657427683, 0.6498445829016961, 0.6497672154807872, 0.6496898634769684, 0.6496125268871675, 0.6495352057083128, 0.649457899937333, 0.6493806095711578, 0.649303334606717, 0.6492260750409414, 0.6491488308707621, 0.6490716020931114, 0.6489943887049217, 0.6489171907031259, 0.6488400080846579, 0.6487628408464521, 0.6486856889854434, 0.6486085524985674, 0.6485314313827603, 0.6484543256349589, 0.6483772352521006, 0.6483001602311234, 0.6482231005689657, 0.6481460562625673, 0.6480690273088676, 0.6479920137048071, 0.647915015447327, 0.647838032533369, 0.6477610649598751, 0.6476841127237886, 0.6476071758220527, 0.6475302542516117, 0.6474533480094102, 0.6473764570923936, 0.6472995814975079, 0.6472227212216997, 0.6471458762619159, 0.6470690466151043, 0.6469922322782135, 0.6469154332481923, 0.6468386495219904, 0.646761881096558, 0.6466851279688458, 0.6466083901358054, 0.6465316675943886, 0.6464549603415483, 0.6463782683742374, 0.64630159168941, 0.6462249302840205, 0.6461482841550238, 0.6460716532993759, 0.6459950377140329, 0.6459184373959516, 0.6458418523420891, 0.6457652825494045, 0.6456887280148558, 0.6456121887354024, 0.6455356647080042, 0.6454591559296219, 0.6453826623972161, 0.6453061841077492, 0.6452297210581833, 0.6451532732454813, 0.6450768406666066, 0.6450004233185237, 0.6449240211981968, 0.6448476343025917, 0.6447712626286743, 0.6446949061734112, 0.6446185649337695, 0.6445422389067169, 0.6444659280892218, 0.6443896324782533, 0.6443133520707809, 0.6442370868637749, 0.644160836854206, 0.6440846020390457, 0.6440083824152657, 0.6439321779798391, 0.6438559887297388, 0.6437798146619386, 0.6437036557734129, 0.643627512061137, 0.6435513835220863, 0.6434752701532369, 0.6433991719515662, 0.6433230889140507, 0.6432470210376694, 0.6431709683194001, 0.6430949307562227, 0.6430189083451167, 0.6429429010830626, 0.6428669089670416, 0.6427909319940353, 0.6427149701610255, 0.6426390234649955, 0.6425630919029288, 0.6424871754718092, 0.6424112741686215, 0.642335387990351, 0.6422595169339834, 0.642183660996505, 0.6421078201749034, 0.642031994466166, 0.6419561838672807, 0.6418803883752369, 0.6418046079870239, 0.6417288426996313, 0.6416530925100503, 0.641577357415272, 0.6415016374122883, 0.6414259324980915, 0.6413502426696748, 0.6412745679240318, 0.6411989082581567, 0.6411232636690445, 0.6410476341536905, 0.6409720197090909, 0.6408964203322421, 0.6408208360201416, 0.6407452667697874, 0.6406697125781774, 0.6405941734423108, 0.6405186493591878, 0.6404431403258081, 0.6403676463391725, 0.6402921673962828, 0.6402167034941407, 0.6401412546297489, 0.6400658208001108, 0.6399904020022301, 0.639914998233111, 0.639839609489759, 0.6397642357691793, 0.6396888770683785, 0.6396135333843631, 0.6395382047141405, 0.6394628910547189, 0.6393875924031067, 0.6393123087563132, 0.6392370401113483, 0.639161786465222, 0.6390865478149456, 0.6390113241575307, 0.6389361154899894, 0.6388609218093345, 0.6387857431125792, 0.6387105793967376, 0.6386354306588241, 0.6385602968958543, 0.6384851781048435, 0.6384100742828079, 0.6383349854267651, 0.6382599115337321, 0.638184852600727, 0.6381098086247688, 0.6380347796028766, 0.6379597655320703, 0.6378847664093708, 0.6378097822317986, 0.6377348129963756, 0.6376598587001243, 0.6375849193400672, 0.6375099949132284, 0.6374350854166312, 0.6373601908473007, 0.637285311202262, 0.637210446478541, 0.637135596673164, 0.6370607617831583, 0.6369859418055512, 0.6369111367373711, 0.6368363465756468, 0.6367615713174075, 0.6366868109596835, 0.6366120654995052, 0.6365373349339037, 0.6364626192599109, 0.6363879184745591, 0.6363132325748814, 0.6362385615579108, 0.6361639054206819, 0.6360892641602295, 0.6360146377735887, 0.6359400262577953, 0.635865429609886, 0.6357908478268977, 0.6357162809058682, 0.6356417288438357, 0.6355671916378391, 0.6354926692849179, 0.635418161782112, 0.635343669126462, 0.6352691913150093, 0.6351947283447955, 0.6351202802128633, 0.6350458469162551, 0.634971428452015, 0.634897024817187, 0.6348226360088158, 0.6347482620239469, 0.6346739028596258, 0.6345995585128995, 0.6345252289808149, 0.6344509142604197, 0.6343766143487621, 0.6343023292428911, 0.6342280589398561, 0.6341538034367072, 0.6340795627304949, 0.6340053368182706, 0.6339311256970861, 0.6338569293639935, 0.6337827478160462, 0.6337085810502975, 0.6336344290638015, 0.6335602918536131, 0.6334861694167876, 0.6334120617503809, 0.6333379688514494, 0.6332638907170506, 0.6331898273442417, 0.6331157787300811, 0.6330417448716278, 0.6329677257659411, 0.632893721410081, 0.6328197318011083, 0.632745756936084, 0.63267179681207, 0.6325978514261285, 0.6325239207753225, 0.6324500048567158, 0.6323761036673722, 0.6323022172043564, 0.632228345464734, 0.6321544884455707, 0.632080646143933, 0.6320068185568878, 0.6319330056815029, 0.6318592075148464, 0.6317854240539871, 0.6317116552959945, 0.6316379012379384, 0.6315641618768897, 0.631490437209919, 0.6314167272340986, 0.6313430319465003, 0.6312693513441971, 0.6311956854242629, 0.6311220341837711, 0.6310483976197968, 0.630974775729415, 0.6309011685097017, 0.630827575957733, 0.6307539980705862, 0.6306804348453386, 0.6306068862790684, 0.6305333523688542, 0.6304598331117757, 0.6303863285049123, 0.6303128385453447, 0.630239363230154, 0.6301659025564216, 0.6300924565212299, 0.6300190251216615, 0.6299456083548001, 0.6298722062177292, 0.6297988187075336, 0.6297254458212985, 0.6296520875561097, 0.629578743909053, 0.6295054148772156, 0.6294321004576848, 0.6293588006475486, 0.6292855154438958, 0.6292122448438151, 0.6291389888443969, 0.6290657474427312, 0.6289925206359089, 0.6289193084210215, 0.6288461107951612, 0.6287729277554205, 0.6286997592988927, 0.6286266054226717, 0.6285534661238517, 0.6284803413995278, 0.6284072312467957, 0.6283341356627511, 0.6282610546444912, 0.6281879881891129, 0.6281149362937144, 0.6280418989553939, 0.6279688761712506, 0.6278958679383838, 0.6278228742538939, 0.6277498951148818, 0.6276769305184485, 0.6276039804616961, 0.6275310449417272, 0.6274581239556447, 0.6273852175005522, 0.6273123255735541, 0.6272394481717549, 0.6271665852922604, 0.6270937369321763, 0.6270209030886092, 0.6269480837586661, 0.6268752789394547, 0.6268024886280834, 0.626729712821661, 0.6266569515172968, 0.626584204712101, 0.6265114724031837, 0.6264387545876565, 0.6263660512626309, 0.6262933624252195, 0.6262206880725347, 0.6261480282016902, 0.6260753828098, 0.6260027518939787, 0.6259301354513415, 0.6258575334790042, 0.6257849459740827, 0.6257123729336944, 0.6256398143549563, 0.625567270234987, 0.6254947405709049, 0.6254222253598288, 0.625349724598879, 0.6252772382851756, 0.6252047664158394, 0.6251323089879921, 0.6250598659987557, 0.6249874374452526, 0.6249150233246066, 0.6248426236339408, 0.6247702383703799, 0.6246978675310487, 0.6246255111130729, 0.6245531691135784, 0.6244808415296919, 0.6244085283585404, 0.6243362295972521, 0.624263945242955, 0.6241916752927784, 0.6241194197438515, 0.6240471785933044, 0.6239749518382678, 0.6239027394758729, 0.6238305415032519, 0.6237583579175364, 0.6236861887158599, 0.6236140338953557, 0.6235418934531581, 0.6234697673864014, 0.6233976556922212, 0.6233255583677528, 0.6232534754101332, 0.6231814068164988, 0.6231093525839873, 0.6230373127097367, 0.6229652871908858, 0.6228932760245739, 0.6228212792079405, 0.6227492967381261, 0.6226773286122715, 0.6226053748275184, 0.6225334353810088, 0.6224615102698853, 0.622389599491291, 0.62231770304237, 0.6222458209202661, 0.6221739531221249, 0.6221020996450913, 0.6220302604863116, 0.6219584356429325, 0.6218866251121011, 0.6218148288909652, 0.6217430469766728, 0.6216712793663731, 0.6215995260572157, 0.6215277870463504, 0.6214560623309279, 0.6213843519080992, 0.621312655775016, 0.6212409739288309, 0.6211693063666966, 0.6210976530857668, 0.6210260140831949, 0.6209543893561361, 0.620882778901745, 0.6208111827171777, 0.6207396007995903, 0.6206680331461398, 0.6205964797539834, 0.6205249406202792, 0.6204534157421856, 0.6203819051168619, 0.6203104087414676, 0.6202389266131632, 0.6201674587291091, 0.6200960050864667, 0.6200245656823984, 0.6199531405140662, 0.6198817295786334, 0.6198103328732639, 0.6197389503951213, 0.6196675821413706, 0.6195962281091775, 0.6195248882957074, 0.6194535626981269, 0.619382251313603, 0.6193109541393035, 0.6192396711723961, 0.61916840241005, 0.6190971478494344, 0.6190259074877188, 0.6189546813220739, 0.6188834693496706, 0.6188122715676804, 0.6187410879732754, 0.6186699185636283, 0.6185987633359122, 0.6185276222873013, 0.6184564954149694, 0.6183853827160918, 0.6183142841878437, 0.6182431998274014, 0.6181721296319413, 0.6181010735986406, 0.6180300317246772, 0.6179590040072291, 0.6178879904434756, 0.6178169910305957, 0.6177460057657695, 0.6176750346461777, 0.617604077669001, 0.6175331348314215, 0.6174622061306211, 0.6173912915637827, 0.6173203911280899, 0.6172495048207264, 0.6171786326388764, 0.6171077745797252, 0.6170369306404585, 0.6169661008182625, 0.6168952851103234, 0.6168244835138291, 0.616753696025967, 0.6166829226439258, 0.6166121633648942, 0.6165414181860619, 0.6164706871046188, 0.6163999701177556, 0.6163292672226637, 0.6162585784165346, 0.6161879036965608, 0.6161172430599352, 0.6160465965038509, 0.6159759640255023, 0.6159053456220835, 0.6158347412907902, 0.6157641510288175, 0.615693574833362, 0.6156230127016203, 0.6155524646307899, 0.6154819306180687, 0.6154114106606551, 0.615340904755748, 0.6152704129005471, 0.6151999350922527, 0.6151294713280651, 0.6150590216051859, 0.6149885859208168, 0.6149181642721602, 0.6148477566564191, 0.6147773630707968, 0.6147069835124974, 0.6146366179787256, 0.6145662664666863, 0.6144959289735857, 0.6144256054966297, 0.6143552960330251, 0.6142850005799794, 0.6142147191347007, 0.6141444516943971, 0.6140741982562782, 0.614003958817553, 0.6139337333754322, 0.6138635219271261, 0.6137933244698462, 0.6137231410008044, 0.6136529715172129, 0.6135828160162848, 0.6135126744952334, 0.613442546951273, 0.6133724333816182, 0.613302333783484, 0.6132322481540861, 0.6131621764906411, 0.6130921187903654, 0.6130220750504766, 0.6129520452681927, 0.612882029440732, 0.6128120275653139, 0.6127420396391577, 0.6126720656594836, 0.6126021056235124, 0.6125321595284652, 0.612462227371564, 0.612392309150031, 0.6123224048610894, 0.6122525145019624, 0.612182638069874, 0.6121127755620491, 0.6120429269757128, 0.6119730923080906, 0.6119032715564089, 0.6118334647178942, 0.611763671789774, 0.6116938927692765, 0.6116241276536298, 0.6115543764400629, 0.6114846391258059, 0.6114149157080884, 0.6113452061841408, 0.611275510551195, 0.6112058288064826, 0.6111361609472353, 0.6110665069706868, 0.6109968668740701, 0.6109272406546191, 0.6108576283095688, 0.6107880298361538, 0.6107184452316099, 0.6106488744931731, 0.6105793176180804, 0.6105097746035689, 0.6104402454468766, 0.6103707301452419, 0.6103012286959033, 0.6102317410961009, 0.6101622673430743, 0.6100928074340641, 0.6100233613663117, 0.6099539291370586, 0.609884510743547, 0.6098151061830198, 0.6097457154527204, 0.6096763385498923, 0.6096069754717803, 0.6095376262156292, 0.6094682907786847, 0.6093989691581926, 0.6093296613513999, 0.6092603673555536, 0.6091910871679012, 0.6091218207856914, 0.6090525682061725, 0.6089833294265943, 0.6089141044442066, 0.6088448932562599, 0.608775695860005, 0.6087065122526937, 0.608637342431578, 0.6085681863939105, 0.6084990441369446, 0.6084299156579339, 0.6083608009541326, 0.6082917000227958, 0.6082226128611787, 0.6081535394665375, 0.6080844798361283, 0.6080154339672084, 0.6079464018570352, 0.6078773835028671, 0.6078083789019625, 0.6077393880515807, 0.6076704109489816, 0.6076014475914253, 0.6075324979761729, 0.6074635621004856, 0.6073946399616252, 0.6073257315568547, 0.6072568368834367, 0.6071879559386351, 0.6071190887197135, 0.6070502352239373, 0.6069813954485712, 0.6069125693908812, 0.6068437570481336, 0.6067749584175952, 0.6067061734965332, 0.606637402282216, 0.6065686447719117, 0.6064999009628894, 0.6064311708524189, 0.6063624544377701, 0.6062937517162138, 0.6062250626850212, 0.6061563873414639, 0.6060877256828144, 0.6060190777063452, 0.6059504434093301, 0.6058818227890429, 0.6058132158427582, 0.6057446225677505, 0.605676042961296, 0.6056074770206703, 0.6055389247431504, 0.6054703861260132, 0.6054018611665366, 0.6053333498619988, 0.605264852209679, 0.605196368206856, 0.6051278978508099, 0.605059441138821, 0.6049909980681707, 0.6049225686361402, 0.6048541528400118, 0.6047857506770676, 0.6047173621445914, 0.6046489872398663, 0.604580625960177, 0.6045122783028083, 0.6044439442650449, 0.6043756238441733, 0.6043073170374796, 0.6042390238422508, 0.6041707442557743, 0.6041024782753384, 0.6040342258982314, 0.6039659871217423, 0.6038977619431611, 0.6038295503597778, 0.6037613523688831, 0.6036931679677681, 0.6036249971537249, 0.6035568399240456, 0.6034886962760233, 0.6034205662069512, 0.6033524497141236, 0.6032843467948347, 0.6032162574463794, 0.6031481816660536, 0.6030801194511533, 0.6030120707989751, 0.6029440357068163, 0.6028760141719745, 0.6028080061917482, 0.6027400117634358, 0.6026720308843374, 0.6026040635517519, 0.6025361097629804, 0.6024681695153238, 0.6024002428060832, 0.6023323296325609, 0.6022644299920598, 0.6021965438818824, 0.6021286712993327, 0.602060812241715, 0.6019929667063336, 0.6019251346904942, 0.6018573161915024, 0.6017895112066647, 0.6017217197332876, 0.6016539417686787, 0.6015861773101463, 0.6015184263549982, 0.6014506889005441, 0.601382964944093, 0.6013152544829554, 0.6012475575144417, 0.6011798740358631, 0.6011122040445314, 0.6010445475377587, 0.6009769045128578, 0.6009092749671421, 0.6008416588979253, 0.6007740563025218, 0.6007064671782468, 0.6006388915224155, 0.6005713293323437, 0.6005037806053481, 0.600436245338746, 0.6003687235298545, 0.6003012151759921, 0.6002337202744773, 0.6001662388226292, 0.6000987708177677, 0.6000313162572133, 0.5999638751382862, 0.5998964474583082, 0.5998290332146007, 0.5997616324044867, 0.5996942450252886, 0.5996268710743301, 0.5995595105489353, 0.5994921634464284, 0.5994248297641348, 0.5993575094993798, 0.5992902026494898, 0.5992229092117913, 0.5991556291836116, 0.5990883625622783, 0.5990211093451197, 0.5989538695294646, 0.5988866431126423, 0.5988194300919826, 0.5987522304648162, 0.5986850442284736, 0.5986178713802865, 0.5985507119175868, 0.5984835658377071, 0.5984164331379804, 0.5983493138157403, 0.5982822078683208, 0.5982151152930565, 0.5981480360872828, 0.5980809702483353, 0.5980139177735503, 0.5979468786602643, 0.5978798529058149, 0.5978128405075398, 0.5977458414627774, 0.5976788557688665, 0.5976118834231465, 0.5975449244229578, 0.5974779787656401, 0.597411046448535, 0.5973441274689838, 0.5972772218243286, 0.5972103295119122, 0.5971434505290774, 0.5970765848731681, 0.5970097325415281, 0.5969428935315028, 0.5968760678404367, 0.596809255465676, 0.5967424564045668, 0.5966756706544564, 0.5966088982126917, 0.5965421390766207, 0.5964753932435917, 0.5964086607109538, 0.5963419414760565, 0.5962752355362497, 0.596208542888884, 0.5961418635313105, 0.5960751974608807, 0.5960085446749467, 0.595941905170861, 0.5958752789459772, 0.5958086659976486, 0.5957420663232297, 0.5956754799200752, 0.5956089067855402, 0.5955423469169805, 0.5954758003117526, 0.5954092669672134, 0.5953427468807202, 0.5952762400496308, 0.5952097464713035, 0.5951432661430979, 0.5950767990623731, 0.595010345226489, 0.5949439046328062, 0.5948774772786859, 0.5948110631614897, 0.5947446622785797, 0.5946782746273183, 0.5946119002050689, 0.5945455390091953, 0.5944791910370616, 0.5944128562860326, 0.5943465347534734, 0.5942802264367499, 0.5942139313332286, 0.5941476494402762, 0.5940813807552601, 0.5940151252755481, 0.5939488829985087, 0.5938826539215111, 0.5938164380419244, 0.5937502353571186, 0.5936840458644644, 0.5936178695613328, 0.5935517064450956, 0.5934855565131243, 0.5934194197627921, 0.5933532961914718, 0.5932871857965373, 0.5932210885753627, 0.5931550045253225, 0.5930889336437924, 0.5930228759281477, 0.5929568313757649, 0.5928907999840208, 0.5928247817502927, 0.5927587766719584, 0.5926927847463963, 0.5926268059709853, 0.592560840343105, 0.5924948878601349, 0.5924289485194558, 0.5923630223184486, 0.5922971092544949, 0.5922312093249765, 0.5921653225272762, 0.5920994488587769, 0.5920335883168623, 0.5919677408989164, 0.5919019066023239, 0.59183608542447, 0.5917702773627402, 0.591704482414521, 0.5916387005771987, 0.591572931848161, 0.5915071762247953, 0.59144143370449, 0.591375704284634, 0.5913099879626167, 0.5912442847358275, 0.5911785946016572, 0.5911129175574965, 0.591047253600737, 0.5909816027287703, 0.5909159649389891, 0.5908503402287861, 0.5907847285955552, 0.5907191300366899, 0.590653544549585, 0.5905879721316355, 0.5905224127802369, 0.5904568664927854, 0.5903913332666777, 0.5903258130993106, 0.5902603059880818, 0.5901948119303897, 0.5901293309236328, 0.5900638629652101, 0.5899984080525217, 0.5899329661829676, 0.5898675373539486, 0.5898021215628658, 0.5897367188071212, 0.5896713290841171, 0.5896059523912561, 0.5895405887259418, 0.5894752380855778, 0.5894099004675686, 0.5893445758693191, 0.5892792642882347, 0.5892139657217212, 0.5891486801671852, 0.5890834076220336, 0.5890181480836738, 0.5889529015495139, 0.5888876680169622, 0.588822447483428, 0.5887572399463209, 0.5886920454030503, 0.5886268638510276, 0.5885616952876633, 0.5884965397103692, 0.5884313971165575, 0.5883662675036407, 0.5883011508690322, 0.5882360472101453, 0.5881709565243944, 0.5881058788091941, 0.5880408140619597, 0.587975762280107, 0.5879107234610521, 0.5878456976022115, 0.5877806847010029, 0.587715684754844, 0.587650697761153, 0.5875857237173486, 0.5875207626208504, 0.5874558144690781, 0.5873908792594521, 0.5873259569893932, 0.5872610476563229, 0.5871961512576629, 0.5871312677908358, 0.5870663972532644, 0.5870015396423722, 0.5869366949555832, 0.5868718631903217, 0.586807044344013, 0.5867422384140824, 0.5866774453979559, 0.5866126652930598, 0.5865478980968214, 0.5864831438066683, 0.5864184024200284, 0.5863536739343304, 0.5862889583470031, 0.5862242556554765, 0.5861595658571805, 0.5860948889495456, 0.5860302249300032, 0.5859655737959847, 0.5859009355449225, 0.5858363101742489, 0.5857716976813975, 0.5857070980638016, 0.5856425113188957, 0.5855779374441145, 0.5855133764368929, 0.585448828294667, 0.5853842930148729, 0.5853197705949474, 0.5852552610323278, 0.5851907643244516, 0.5851262804687574, 0.585061809462684, 0.5849973513036705, 0.584932905989157, 0.5848684735165834, 0.5848040538833911, 0.5847396470870208, 0.584675253124915, 0.5846108719945158, 0.584546503693266, 0.584482148218609, 0.5844178055679888, 0.5843534757388499, 0.5842891587286368, 0.5842248545347956, 0.5841605631547716, 0.5840962845860115, 0.5840320188259623, 0.5839677658720714, 0.5839035257217869, 0.5838392983725571, 0.583775083821831, 0.5837108820670582, 0.5836466931056886, 0.5835825169351729, 0.583518353552962, 0.5834542029565073, 0.5833900651432612, 0.5833259401106757, 0.5832618278562045, 0.5831977283773006, 0.5831336416714185, 0.5830695677360124, 0.5830055065685377, 0.5829414581664497, 0.5828774225272046, 0.5828133996482593, 0.5827493895270704, 0.582685392161096, 0.5826214075477939, 0.5825574356846229, 0.5824934765690419, 0.582429530198511, 0.5823655965704899, 0.5823016756824394, 0.5822377675318209, 0.5821738721160957, 0.5821099894327261, 0.5820461194791748, 0.5819822622529052, 0.5819184177513806, 0.5818545859720655, 0.5817907669124245, 0.5817269605699227, 0.5816631669420258, 0.5815993860262004, 0.5815356178199129, 0.5814718623206304, 0.5814081195258212, 0.5813443894329527, 0.5812806720394944, 0.5812169673429153, 0.581153275340685, 0.5810895960302738, 0.5810259294091525, 0.5809622754747925, 0.5808986342246654, 0.5808350056562434, 0.5807713897669994, 0.5807077865544068, 0.5806441960159392, 0.5805806181490709, 0.5805170529512766, 0.580453500420032, 0.5803899605528123, 0.5803264333470943, 0.5802629188003546, 0.5801994169100706, 0.5801359276737198, 0.5800724510887809, 0.5800089871527325, 0.579945535863054, 0.5798820972172252, 0.5798186712127262, 0.5797552578470382, 0.5796918571176423, 0.5796284690220204, 0.5795650935576547, 0.5795017307220282, 0.5794383805126242, 0.5793750429269264, 0.5793117179624192, 0.5792484056165874, 0.5791851058869165, 0.5791218187708923, 0.5790585442660009, 0.5789952823697295, 0.5789320330795652, 0.5788687963929957, 0.5788055723075097, 0.5787423608205959, 0.5786791619297434, 0.5786159756324426, 0.5785528019261833, 0.5784896408084566, 0.5784264922767537, 0.5783633563285666, 0.5783002329613876, 0.5782371221727096, 0.5781740239600257, 0.5781109383208299, 0.5780478652526168, 0.5779848047528806, 0.5779217568191173, 0.5778587214488226, 0.5777956986394924, 0.577732688388624, 0.5776696906937145, 0.5776067055522619, 0.5775437329617644, 0.577480772919721, 0.5774178254236308, 0.5773548904709938, 0.5772919680593102, 0.577229058186081, 0.5771661608488073, 0.5771032760449911, 0.5770404037721348, 0.576977544027741, 0.5769146968093133, 0.5768518621143551, 0.5767890399403708, 0.5767262302848656, 0.5766634331453443, 0.576600648519313, 0.576537876404278, 0.5764751167977461, 0.5764123696972244, 0.5763496351002209, 0.5762869130042436, 0.5762242034068017, 0.5761615063054043, 0.5760988216975611, 0.5760361495807823, 0.5759734899525788, 0.575910842810462, 0.5758482081519434, 0.5757855859745353, 0.5757229762757506, 0.5756603790531026, 0.5755977943041047, 0.5755352220262715, 0.5754726622171175, 0.5754101148741582, 0.5753475799949088, 0.5752850575768862, 0.5752225476176065, 0.5751600501145872, 0.5750975650653462, 0.5750350924674013, 0.5749726323182714, 0.5749101846154757, 0.5748477493565339, 0.5747853265389661, 0.5747229161602929, 0.5746605182180357, 0.5745981327097159, 0.574535759632856, 0.5744733989849782, 0.574411050763606, 0.5743487149662628, 0.5742863915904729, 0.5742240806337608, 0.5741617820936518, 0.5740994959676713, 0.5740372222533454, 0.5739749609482009, 0.5739127120497647, 0.5738504755555643, 0.5737882514631281, 0.5737260397699845, 0.5736638404736624, 0.5736016535716916, 0.573539479061602, 0.5734773169409241, 0.5734151672071891, 0.5733530298579284, 0.573290904890674, 0.5732287923029583, 0.5731666920923145, 0.5731046042562762, 0.5730425287923769, 0.5729804656981514, 0.5729184149711348, 0.5728563766088622, 0.5727943506088697, 0.5727323369686937, 0.5726703356858714, 0.5726083467579399, 0.5725463701824371, 0.5724844059569016, 0.5724224540788722, 0.5723605145458881, 0.5722985873554894, 0.5722366725052166, 0.57217476999261, 0.5721128798152115, 0.5720510019705628, 0.5719891364562059, 0.5719272832696839, 0.5718654424085401, 0.5718036138703182, 0.5717417976525624, 0.5716799937528176, 0.5716182021686291, 0.5715564228975426, 0.5714946559371042, 0.5714329012848608, 0.5713711589383597, 0.5713094288951481, 0.5712477111527748, 0.5711860057087881, 0.5711243125607374, 0.5710626317061721, 0.5710009631426426, 0.5709393068676996, 0.5708776628788937, 0.570816031173777, 0.5707544117499014, 0.5706928046048196, 0.5706312097360847, 0.5705696271412498, 0.5705080568178698, 0.5704464987634984, 0.570384952975691, 0.5703234194520033, 0.570261898189991, 0.5702003891872105, 0.5701388924412192, 0.5700774079495741, 0.5700159357098334, 0.5699544757195554, 0.5698930279762991, 0.569831592477624, 0.5697701692210899, 0.569708758204257, 0.5696473594246865, 0.5695859728799394, 0.5695245985675779, 0.5694632364851641, 0.5694018866302606, 0.5693405490004311, 0.5692792235932393, 0.5692179104062494, 0.569156609437026, 0.5690953206831345, 0.5690340441421405, 0.5689727798116103, 0.5689115276891107, 0.5688502877722087, 0.5687890600584721, 0.5687278445454688, 0.5686666412307677, 0.5686054501119376, 0.5685442711865486, 0.5684831044521703, 0.5684219499063735, 0.5683608075467292, 0.5682996773708089, 0.5682385593761846, 0.568177453560429, 0.568116359921115, 0.5680552784558158, 0.5679942091621056, 0.567933152037559, 0.5678721070797506, 0.567811074286256, 0.5677500536546511, 0.5676890451825121, 0.5676280488674158, 0.5675670647069399, 0.5675060926986619, 0.5674451328401601, 0.5673841851290136, 0.5673232495628016, 0.5672623261391034, 0.5672014148554997, 0.5671405157095709, 0.5670796286988985, 0.567018753821064, 0.5669578910736497, 0.5668970404542378, 0.5668362019604122, 0.5667753755897559, 0.5667145613398531, 0.5666537592082884, 0.5665929691926469, 0.5665321912905141, 0.5664714254994762, 0.5664106718171192, 0.5663499302410308, 0.5662892007687976, 0.5662284833980082, 0.5661677781262509, 0.5661070849511143, 0.5660464038701881, 0.565985734881062, 0.5659250779813263, 0.5658644331685719, 0.5658038004403902, 0.5657431797943729, 0.5656825712281123, 0.5656219747392008, 0.565561390325232, 0.5655008179837996, 0.5654402577124976, 0.5653797095089207, 0.5653191733706641, 0.5652586492953233, 0.5651981372804946, 0.5651376373237745, 0.5650771494227599, 0.5650166735750484, 0.564956209778238, 0.5648957580299274, 0.5648353183277154, 0.5647748906692014, 0.5647144750519854, 0.5646540714736676, 0.5645936799318494, 0.5645333004241315, 0.5644729329481163, 0.5644125775014058, 0.5643522340816031, 0.5642919026863109, 0.5642315833131335, 0.5641712759596749, 0.5641109806235397, 0.5640506973023334, 0.5639904259936613, 0.5639301666951299, 0.5638699194043455, 0.5638096841189153, 0.563749460836447, 0.5636892495545484, 0.5636290502708282, 0.5635688629828953, 0.5635086876883593, 0.5634485243848301, 0.563388373069918, 0.5633282337412341, 0.5632681063963894, 0.5632079910329963, 0.5631478876486669, 0.5630877962410139, 0.5630277168076506, 0.5629676493461908, 0.5629075938542488, 0.5628475503294392, 0.5627875187693774, 0.5627274991716787, 0.5626674915339595, 0.5626074958538363, 0.5625475121289263, 0.5624875403568469, 0.5624275805352164, 0.562367632661653, 0.5623076967337759, 0.5622477727492043, 0.5621878607055585, 0.5621279606004587, 0.5620680724315257, 0.5620081961963811, 0.5619483318926465, 0.5618884795179443, 0.5618286390698971, 0.5617688105461286, 0.5617089939442622, 0.561649189261922, 0.5615893964967329, 0.56152961564632, 0.5614698467083089, 0.5614100896803255, 0.5613503445599967, 0.5612906113449493, 0.561230890032811, 0.5611711806212096, 0.5611114831077736, 0.561051797490132, 0.5609921237659141, 0.5609324619327499, 0.5608728119882697, 0.5608131739301042, 0.5607535477558849, 0.5606939334632435, 0.5606343310498121, 0.5605747405132235, 0.5605151618511108, 0.560455595061108, 0.5603960401408487, 0.5603364970879677, 0.5602769659001003, 0.5602174465748818, 0.560157939109948, 0.5600984435029361, 0.5600389597514822, 0.5599794878532244, 0.5599200278058, 0.5598605796068478, 0.5598011432540064, 0.5597417187449153, 0.5596823060772141, 0.5596229052485432, 0.5595635162565431, 0.5595041390988552, 0.559444773773121, 0.5593854202769827, 0.559326078608083, 0.5592667487640647, 0.5592074307425715, 0.5591481245412475, 0.559088830157737, 0.559029547589685, 0.558970276834737, 0.5589110178905387, 0.5588517707547365, 0.5587925354249774, 0.5587333118989085, 0.5586741001741776, 0.558614900248433, 0.5585557121193233, 0.5584965357844976, 0.5584373712416059, 0.5583782184882978, 0.5583190775222241, 0.5582599483410359, 0.5582008309423845, 0.5581417253239223, 0.5580826314833014, 0.5580235494181746, 0.5579644791261956, 0.557905420605018, 0.5578463738522962, 0.557787338865685, 0.5577283156428398, 0.557669304181416, 0.5576103044790698, 0.5575513165334581, 0.557492340342238, 0.5574333759030667, 0.5573744232136028, 0.5573154822715044, 0.5572565530744306, 0.5571976356200409, 0.5571387299059951, 0.5570798359299538, 0.5570209536895777, 0.5569620831825279, 0.5569032244064668, 0.5568443773590561, 0.5567855420379586, 0.5567267184408377, 0.5566679065653567, 0.5566091064091799, 0.5565503179699721, 0.5564915412453979, 0.5564327762331231, 0.5563740229308137, 0.5563152813361358, 0.5562565514467567, 0.5561978332603437, 0.5561391267745642, 0.5560804319870872, 0.5560217488955809, 0.5559630774977149, 0.5559044177911584, 0.555845769773582, 0.5557871334426562, 0.555728508796052, 0.555669895831441, 0.5556112945464953, 0.5555527049388873, 0.5554941270062898, 0.5554355607463765, 0.555377006156821, 0.5553184632352978, 0.5552599319794815, 0.5552014123870476, 0.5551429044556715, 0.5550844081830298, 0.5550259235667988, 0.5549674506046558, 0.5549089892942783, 0.5548505396333444, 0.5547921016195325, 0.5547336752505215, 0.5546752605239911, 0.554616857437621, 0.5545584659890915, 0.5545000861760835, 0.5544417179962783, 0.5543833614473574, 0.5543250165270033, 0.5542666832328987, 0.5542083615627265, 0.55415005151417, 0.5540917530849138, 0.5540334662726423, 0.5539751910750401, 0.5539169274897932, 0.5538586755145868, 0.553800435147108, 0.5537422063850429, 0.5536839892260793, 0.5536257836679047, 0.5535675897082074, 0.5535094073446759, 0.5534512365749994, 0.5533930773968675, 0.5533349298079702, 0.553276793805998, 0.553218669388642, 0.5531605565535933, 0.5531024552985441, 0.5530443656211864, 0.5529862875192135, 0.5529282209903182, 0.5528701660321944, 0.5528121226425362, 0.5527540908190386, 0.5526960705593961, 0.5526380618613045, 0.5525800647224598, 0.5525220791405587, 0.5524641051132979, 0.5524061426383748, 0.5523481917134875, 0.552290252336334, 0.5522323245046132, 0.5521744082160243, 0.552116503468267, 0.5520586102590415, 0.5520007285860481, 0.5519428584469883, 0.5518849998395633, 0.5518271527614754, 0.5517693172104267, 0.55171149318412, 0.5516536806802592, 0.5515958796965477, 0.5515380902306897, 0.5514803122803901, 0.5514225458433542, 0.5513647909172873, 0.5513070474998958, 0.551249315588886, 0.5511915951819653, 0.5511338862768407, 0.5510761888712205, 0.5510185029628126, 0.5509608285493264, 0.5509031656284707, 0.5508455141979558, 0.5507878742554914, 0.5507302457987885, 0.5506726288255579, 0.5506150233335114, 0.5505574293203611, 0.5504998467838192, 0.5504422757215989, 0.5503847161314134, 0.5503271680109767, 0.5502696313580032, 0.5502121061702073, 0.5501545924453047, 0.5500970901810108, 0.5500395993750417, 0.549982120025114, 0.5499246521289449, 0.5498671956842518, 0.5498097506887525, 0.5497523171401657, 0.54969489503621, 0.5496374843746048, 0.5495800851530701, 0.5495226973693258, 0.5494653210210927, 0.5494079561060918, 0.549350602622045, 0.549293260566674, 0.5492359299377015, 0.5491786107328506, 0.5491213029498442, 0.5490640065864066, 0.5490067216402622, 0.5489494481091353, 0.5488921859907513, 0.548834935282836, 0.5487776959831154, 0.5487204680893163, 0.5486632515991654, 0.5486060465103904, 0.5485488528207191, 0.5484916705278801, 0.548434499629602, 0.5483773401236142, 0.5483201920076465, 0.548263055279429, 0.5482059299366925, 0.5481488159771677, 0.5480917133985868, 0.5480346221986813, 0.5479775423751839, 0.5479204739258275, 0.5478634168483452, 0.5478063711404713, 0.5477493367999394, 0.5476923138244848, 0.5476353022118426, 0.5475783019597482, 0.5475213130659377, 0.5474643355281477, 0.5474073693441153, 0.5473504145115777, 0.5472934710282729, 0.5472365388919391, 0.5471796181003151, 0.5471227086511405, 0.5470658105421545, 0.5470089237710974, 0.5469520483357099, 0.5468951842337328, 0.5468383314629077, 0.5467814900209766, 0.5467246599056819, 0.5466678411147662, 0.5466110336459731, 0.546554237497046, 0.5464974526657292, 0.5464406791497676, 0.5463839169469059, 0.5463271660548898, 0.5462704264714653, 0.5462136981943787, 0.5461569812213771, 0.5461002755502075, 0.5460435811786181, 0.5459868981043566, 0.5459302263251723, 0.5458735658388136, 0.5458169166430307, 0.5457602787355733, 0.5457036521141919, 0.5456470367766374, 0.5455904327206614, 0.5455338399440154, 0.5454772584444518, 0.5454206882197232, 0.5453641292675828, 0.5453075815857844, 0.5452510451720819, 0.5451945200242296, 0.5451380061399828, 0.5450815035170965, 0.545025012153327, 0.5449685320464303, 0.5449120631941632, 0.5448556055942827, 0.5447991592445468, 0.5447427241427132, 0.5446863002865407, 0.5446298876737882, 0.5445734863022151, 0.544517096169581, 0.5444607172736468, 0.5444043496121727, 0.5443479931829202, 0.5442916479836507, 0.5442353140121265, 0.5441789912661102, 0.5441226797433646, 0.5440663794416531, 0.5440100903587398, 0.5439538124923889, 0.5438975458403652, 0.5438412904004338, 0.5437850461703604, 0.5437288131479113, 0.5436725913308527, 0.5436163807169518, 0.5435601813039762, 0.5435039930896935, 0.5434478160718722, 0.5433916502482811, 0.5433354956166891, 0.5432793521748663, 0.5432232199205825, 0.5431670988516083, 0.543110988965715, 0.5430548902606736, 0.5429988027342562, 0.5429427263842351, 0.5428866612083831, 0.5428306072044734, 0.5427745643702797, 0.5427185327035758, 0.5426625122021368, 0.5426065028637373, 0.5425505046861528, 0.5424945176671593, 0.5424385418045331, 0.5423825770960506, 0.5423266235394897, 0.5422706811326273, 0.5422147498732421, 0.5421588297591122, 0.5421029207880169, 0.5420470229577355, 0.5419911362660479, 0.5419352607107342, 0.5418793962895755, 0.5418235430003524, 0.5417677008408472, 0.5417118698088418, 0.5416560499021185, 0.5416002411184604, 0.5415444434556509, 0.5414886569114737, 0.5414328814837135, 0.5413771171701546, 0.5413213639685822, 0.5412656218767822, 0.5412098908925402, 0.5411541710136432, 0.5410984622378777, 0.5410427645630314, 0.5409870779868919, 0.5409314025072476, 0.540875738121887, 0.5408200848285996, 0.5407644426251745, 0.5407088115094023, 0.5406531914790728, 0.5405975825319773, 0.5405419846659071, 0.5404863978786539, 0.5404308221680101, 0.540375257531768, 0.540319703967721, 0.5402641614736625, 0.5402086300473866, 0.5401531096866877, 0.5400976003893605, 0.5400421021532006, 0.5399866149760035, 0.5399311388555652, 0.5398756737896829, 0.5398202197761529, 0.5397647768127735, 0.5397093448973419, 0.5396539240276569, 0.5395985142015172, 0.5395431154167221, 0.5394877276710712, 0.5394323509623645, 0.5393769852884029, 0.5393216306469871, 0.539266287035919, 0.5392109544529999, 0.5391556328960323, 0.5391003223628191, 0.5390450228511634, 0.538989734358869, 0.5389344568837396, 0.53887919042358, 0.5388239349761952, 0.5387686905393904, 0.5387134571109714, 0.5386582346887444, 0.5386030232705165, 0.5385478228540943, 0.5384926334372858, 0.5384374550178986, 0.5383822875937415, 0.5383271311626233, 0.5382719857223532, 0.538216851270741, 0.5381617278055968, 0.5381066153247314, 0.5380515138259558, 0.5379964233070814, 0.5379413437659203, 0.5378862752002846, 0.5378312176079874, 0.5377761709868418, 0.5377211353346616, 0.5376661106492606, 0.5376110969284537, 0.5375560941700557, 0.537501102371882, 0.5374461215317485, 0.5373911516474716, 0.5373361927168678, 0.5372812447377545, 0.5372263077079492, 0.5371713816252698, 0.5371164664875351, 0.5370615622925634, 0.5370066690381746, 0.5369517867221884, 0.5368969153424246, 0.5368420548967043, 0.5367872053828484, 0.5367323667986783, 0.536677539142016, 0.536622722410684, 0.536567916602505, 0.5365131217153023, 0.5364583377468994, 0.5364035646951206, 0.5363488025577905, 0.5362940513327339, 0.5362393110177762, 0.5361845816107434, 0.5361298631094616, 0.5360751555117577, 0.5360204588154587, 0.5359657730183923, 0.5359110981183864, 0.5358564341132694, 0.5358017810008704, 0.5357471387790185, 0.5356925074455435, 0.5356378869982755, 0.5355832774350452, 0.5355286787536836, 0.5354740909520221, 0.5354195140278928, 0.5353649479791279, 0.5353103928035603, 0.535255848499023, 0.5352013150633497, 0.5351467924943744, 0.5350922807899317, 0.5350377799478565, 0.5349832899659842, 0.5349288108421506, 0.5348743425741918, 0.5348198851599444, 0.5347654385972457, 0.534711002883933, 0.5346565780178444, 0.5346021639968183, 0.5345477608186933, 0.5344933684813088, 0.5344389869825045, 0.5343846163201204, 0.534330256491997, 0.5342759074959753, 0.5342215693298965, 0.5341672419916028, 0.5341129254789364, 0.5340586197897398, 0.5340043249218559, 0.5339500408731287, 0.5338957676414019, 0.53384150522452, 0.5337872536203276, 0.5337330128266704, 0.5336787828413935, 0.5336245636623436, 0.5335703552873667, 0.5335161577143104, 0.5334619709410215, 0.5334077949653482, 0.5333536297851388, 0.5332994753982415, 0.5332453318025059, 0.5331911989957815, 0.5331370769759182, 0.5330829657407662, 0.5330288652881766, 0.5329747756160007, 0.5329206967220899, 0.5328666286042965, 0.5328125712604731, 0.5327585246884726, 0.5327044888861483, 0.5326504638513542, 0.5325964495819445, 0.5325424460757738, 0.5324884533306975, 0.5324344713445707, 0.5323805001152496, 0.5323265396405906, 0.5322725899184506, 0.5322186509466867, 0.5321647227231565, 0.5321108052457184, 0.5320568985122307, 0.5320030025205524, 0.531949117268543, 0.531895242754062, 0.53184137897497, 0.5317875259291275, 0.5317336836143955, 0.5316798520286357, 0.53162603116971, 0.5315722210354805, 0.5315184216238104, 0.5314646329325626, 0.5314108549596009, 0.5313570877027894, 0.5313033311599925, 0.5312495853290752, 0.5311958502079028, 0.5311421257943411, 0.5310884120862561, 0.5310347090815147, 0.530981016777984, 0.5309273351735311, 0.5308736642660242, 0.5308200040533315, 0.5307663545333219, 0.5307127157038645, 0.5306590875628288, 0.5306054701080848, 0.5305518633375031, 0.5304982672489543, 0.5304446818403104, 0.5303911071094422, 0.5303375430542223, 0.5302839896725233, 0.5302304469622181, 0.5301769149211802, 0.5301233935472833, 0.5300698828384018, 0.5300163827924104, 0.5299628934071838, 0.5299094146805983, 0.5298559466105291, 0.5298024891948532, 0.5297490424314469, 0.5296956063181878, 0.5296421808529532, 0.5295887660336214, 0.5295353618580709, 0.5294819683241806, 0.5294285854298298, 0.5293752131728982, 0.5293218515512662, 0.5292685005628143, 0.5292151602054235, 0.529161830476975, 0.5291085113753511, 0.5290552028984341, 0.5290019050441064, 0.5289486178102514, 0.5288953411947523, 0.5288420751954936, 0.5287888198103594, 0.5287355750372347, 0.5286823408740043, 0.5286291173185546, 0.528575904368771, 0.5285227020225405, 0.5284695102777498, 0.5284163291322862, 0.5283631585840377, 0.5283099986308923, 0.5282568492707388, 0.5282037105014662, 0.5281505823209638, 0.5280974647271216, 0.5280443577178299, 0.5279912612909794, 0.5279381754444613, 0.5278851001761671, 0.5278320354839888, 0.5277789813658187, 0.5277259378195499, 0.5276729048430755, 0.5276198824342889, 0.5275668705910845, 0.527513869311357, 0.5274608785930007, 0.5274078984339114, 0.5273549288319849, 0.5273019697851171, 0.5272490212912048, 0.5271960833481448, 0.5271431559538349, 0.5270902391061726, 0.5270373328030564, 0.5269844370423848, 0.5269315518220572, 0.5268786771399727, 0.5268258129940319, 0.5267729593821345, 0.5267201163021817, 0.5266672837520746, 0.5266144617297148, 0.5265616502330044, 0.5265088492598456, 0.5264560588081417, 0.5264032788757957, 0.5263505094607115, 0.526297750560793, 0.5262450021739451, 0.5261922642980724, 0.5261395369310804, 0.5260868200708751, 0.5260341137153625, 0.5259814178624492, 0.5259287325100425, 0.5258760576560496, 0.5258233932983788, 0.5257707394349377, 0.5257180960636358, 0.5256654631823817, 0.5256128407890852, 0.5255602288816563, 0.5255076274580053, 0.525455036516043, 0.5254024560536804, 0.5253498860688296, 0.5252973265594024, 0.5252447775233113, 0.5251922389584692, 0.5251397108627894, 0.5250871932341856, 0.525034686070572, 0.5249821893698632, 0.5249297031299738, 0.5248772273488196, 0.5248247620243162, 0.5247723071543797, 0.5247198627369271, 0.5246674287698752, 0.5246150052511414, 0.5245625921786436, 0.5245101895503004, 0.5244577973640299, 0.5244054156177516, 0.5243530443093852, 0.5243006834368503, 0.5242483329980675, 0.5241959929909574, 0.5241436634134413, 0.5240913442634407, 0.5240390355388778, 0.5239867372376747, 0.5239344493577548, 0.5238821718970409, 0.5238299048534567, 0.5237776482249265, 0.5237254020093747, 0.523673166204726, 0.5236209408089062, 0.5235687258198407, 0.5235165212354557, 0.5234643270536778, 0.523412143272434, 0.5233599698896517, 0.5233078069032588, 0.5232556543111833, 0.523203512111354, 0.5231513803016997, 0.5230992588801503, 0.5230471478446354, 0.5229950471930853, 0.5229429569234306, 0.5228908770336027, 0.5228388075215328, 0.522786748385153, 0.5227346996223957, 0.5226826612311937, 0.5226306332094798, 0.522578615555188, 0.5225266082662521, 0.5224746113406065, 0.5224226247761862, 0.5223706485709261, 0.5223186827227622, 0.5222667272296303, 0.522214782089467, 0.522162847300209, 0.5221109228597939, 0.522059008766159, 0.5220071050172428, 0.5219552116109835, 0.5219033285453203, 0.5218514558181924, 0.5217995934275393, 0.5217477413713016, 0.5216958996474198, 0.5216440682538346, 0.5215922471884876, 0.5215404364493208, 0.521488636034276, 0.5214368459412959, 0.5213850661683238, 0.5213332967133029, 0.5212815375741772, 0.521229788748891, 0.5211780502353887, 0.5211263220316157, 0.5210746041355172, 0.5210228965450394, 0.5209711992581284, 0.5209195122727311, 0.5208678355867944, 0.5208161691982659, 0.5207645131050938, 0.5207128673052261, 0.520661231796612, 0.5206096065772001, 0.5205579916449403, 0.5205063869977826, 0.5204547926336774, 0.5204032085505755, 0.5203516347464281, 0.5203000712191869, 0.5202485179668038, 0.5201969749872314, 0.5201454422784223, 0.52009391983833, 0.520042407664908, 0.5199909057561106, 0.519939414109892, 0.5198879327242072, 0.5198364615970116, 0.5197850007262609, 0.5197335501099108, 0.5196821097459186, 0.5196306796322405, 0.5195792597668341, 0.5195278501476573, 0.519476450772668, 0.5194250616398249, 0.519373682747087, 0.5193223140924134, 0.5192709556737641, 0.5192196074890993, 0.5191682695363795, 0.5191169418135657, 0.5190656243186194, 0.5190143170495022, 0.5189630200041766, 0.5189117331806049, 0.5188604565767504, 0.5188091901905764, 0.5187579340200468, 0.5187066880631257, 0.5186554523177779, 0.5186042267819683, 0.5185530114536624, 0.5185018063308263, 0.518450611411426, 0.5183994266934284, 0.5183482521748002, 0.5182970878535094, 0.5182459337275235, 0.5181947897948109, 0.5181436560533405, 0.518092532501081, 0.5180414191360022, 0.517990315956074, 0.5179392229592666, 0.5178881401435509, 0.517837067506898, 0.5177860050472791, 0.5177349527626666, 0.5176839106510326, 0.5176328787103498, 0.5175818569385915, 0.5175308453337313, 0.5174798438937428, 0.5174288526166008, 0.5173778715002799, 0.5173269005427551, 0.5172759397420021, 0.517224989095997, 0.5171740486027161, 0.517123118260136, 0.5170721980662342, 0.517021288018988, 0.5169703881163755, 0.5169194983563752, 0.5168686187369655, 0.5168177492561263, 0.5167668899118366, 0.5167160407020768, 0.516665201624827, 0.5166143726780681, 0.5165635538597815, 0.5165127451679484, 0.5164619466005513, 0.5164111581555725, 0.5163603798309944, 0.5163096116248007, 0.5162588535349748, 0.5162081055595009, 0.5161573676963633, 0.5161066399435469, 0.5160559222990367, 0.5160052147608187, 0.5159545173268787, 0.5159038299952033, 0.5158531527637791, 0.5158024856305935, 0.5157518285936342, 0.5157011816508891, 0.5156505448003467, 0.5155999180399958, 0.5155493013678257, 0.5154986947818261, 0.5154480982799869, 0.5153975118602987, 0.5153469355207523, 0.5152963692593389, 0.51524581307405, 0.5151952669628779, 0.5151447309238151, 0.5150942049548541, 0.5150436890539885, 0.5149931832192118, 0.514942687448518, 0.5148922017399016, 0.5148417260913575, 0.5147912605008809, 0.5147408049664673, 0.514690359486113, 0.5146399240578142, 0.5145894986795682, 0.5145390833493716, 0.5144886780652226, 0.5144382828251187, 0.5143878976270588, 0.5143375224690416, 0.5142871573490664, 0.5142368022651326, 0.5141864572152405, 0.5141361221973904, 0.5140857972095833, 0.51403548224982, 0.5139851773161026, 0.513934882406433, 0.5138845975188137, 0.5138343226512472, 0.5137840578017369, 0.5137338029682864, 0.5136835581488999, 0.5136333233415817, 0.5135830985443365, 0.5135328837551697, 0.5134826789720867, 0.5134324841930936, 0.5133822994161971, 0.5133321246394035, 0.5132819598607201, 0.5132318050781548, 0.5131816602897155, 0.5131315254934102, 0.5130814006872483, 0.5130312858692384, 0.5129811810373905, 0.5129310861897144, 0.5128810013242205, 0.5128309264389195, 0.5127808615318227, 0.5127308066009416, 0.5126807616442882, 0.5126307266598746, 0.512580701645714, 0.5125306865998193, 0.5124806815202038, 0.512430686404882, 0.5123807012518676, 0.512330726059176, 0.5122807608248218, 0.5122308055468207, 0.5121808602231885, 0.5121309248519417, 0.5120809994310971, 0.5120310839586715, 0.5119811784326825, 0.5119312828511482, 0.5118813972120866, 0.5118315215135165, 0.511781655753457, 0.5117317999299276, 0.5116819540409481, 0.5116321180845387, 0.5115822920587203, 0.5115324759615137, 0.5114826697909404, 0.5114328735450224, 0.5113830872217817, 0.511333310819241, 0.5112835443354236, 0.5112337877683526, 0.5111840411160516, 0.5111343043765454, 0.5110845775478582, 0.5110348606280152, 0.5109851536150415, 0.510935456506963, 0.5108857693018061, 0.5108360919975972, 0.510786424592363, 0.5107367670841313, 0.5106871194709296, 0.510637481750786, 0.5105878539217293, 0.510538235981788, 0.5104886279289919, 0.5104390297613702, 0.5103894414769534, 0.5103398630737719, 0.5102902945498565, 0.5102407359032385, 0.5101911871319497, 0.5101416482340219, 0.5100921192074879, 0.5100426000503802, 0.5099930907607323, 0.5099435913365777, 0.5098941017759504, 0.509844622076885, 0.5097951522374162, 0.5097456922555791, 0.5096962421294093, 0.5096468018569431, 0.5095973714362166, 0.5095479508652665, 0.5094985401421301, 0.5094491392648449, 0.5093997482314488, 0.5093503670399803, 0.509300995688478, 0.5092516341749809, 0.5092022824975286, 0.5091529406541611, 0.5091036086429185, 0.5090542864618417, 0.5090049741089715, 0.5089556715823494, 0.5089063788800176, 0.5088570960000178, 0.5088078229403931, 0.5087585596991863, 0.5087093062744407, 0.5086600626642003, 0.5086108288665091, 0.5085616048794117, 0.5085123907009533, 0.5084631863291791, 0.5084139917621349, 0.5083648069978666, 0.508315632034421, 0.5082664668698449, 0.5082173115021856, 0.5081681659294908, 0.5081190301498085, 0.5080699041611874, 0.5080207879616762, 0.507971681549324, 0.5079225849221807, 0.5078734980782964, 0.5078244210157211, 0.5077753537325058, 0.5077262962267018, 0.5076772484963608, 0.5076282105395343, 0.507579182354275, 0.5075301639386355, 0.5074811552906692, 0.5074321564084293, 0.5073831672899698, 0.507334187933345, 0.5072852183366097, 0.5072362584978187, 0.5071873084150278, 0.5071383680862928, 0.5070894375096696, 0.5070405166832149, 0.5069916056049861, 0.5069427042730402, 0.5068938126854351, 0.5068449308402291, 0.5067960587354805, 0.5067471963692485, 0.5066983437395922, 0.5066495008445716, 0.5066006676822465, 0.5065518442506777, 0.5065030305479257, 0.506454226572052, 0.5064054323211181, 0.5063566477931865, 0.5063078729863191, 0.5062591078985788, 0.5062103525280288, 0.5061616068727328, 0.5061128709307549, 0.5060641447001591, 0.5060154281790102, 0.5059667213653737, 0.5059180242573147, 0.5058693368528993, 0.5058206591501935, 0.5057719911472643, 0.5057233328421787, 0.505674684233004, 0.5056260453178081, 0.5055774160946592, 0.5055287965616259, 0.5054801867167771, 0.5054315865581823, 0.5053829960839111, 0.5053344152920337, 0.5052858441806206, 0.5052372827477427, 0.5051887309914713, 0.505140188909878, 0.505091656501035, 0.5050431337630147, 0.5049946206938897, 0.5049461172917334, 0.5048976235546194, 0.5048491394806217, 0.5048006650678145, 0.5047522003142727, 0.5047037452180714, 0.504655299777286, 0.5046068639899923, 0.5045584378542669, 0.5045100213681862, 0.5044616145298274, 0.5044132173372677, 0.5043648297885853, 0.5043164518818579, 0.5042680836151645, 0.5042197249865839, 0.5041713759941953, 0.5041230366360786, 0.5040747069103138, 0.5040263868149814, 0.5039780763481623, 0.5039297755079377, 0.5038814842923894, 0.5038332026995994, 0.50378493072765, 0.5037366683746238, 0.5036884156386042, 0.5036401725176748, 0.5035919390099193, 0.5035437151134222, 0.5034955008262681, 0.5034472961465422, 0.5033991010723297, 0.5033509156017166, 0.5033027397327892, 0.5032545734636339, 0.5032064167923379, 0.5031582697169884, 0.503110132235673, 0.5030620043464804, 0.5030138860474984, 0.5029657773368164, 0.5029176782125233, 0.5028695886727091, 0.5028215087154635, 0.502773438338877, 0.5027253775410406, 0.5026773263200452, 0.5026292846739826, 0.5025812526009446, 0.5025332300990233, 0.5024852171663117, 0.5024372138009028, 0.50238922000089, 0.5023412357643672, 0.5022932610894284, 0.5022452959741686, 0.5021973404166823, 0.5021493944150651, 0.5021014579674128, 0.5020535310718214, 0.5020056137263873, 0.5019577059292076, 0.5019098076783793, 0.5018619189720002, 0.5018140398081682, 0.5017661701849818, 0.5017183101005397, 0.501670459552941, 0.5016226185402852, 0.5015747870606723, 0.5015269651122025, 0.5014791526929767, 0.5014313498010955, 0.5013835564346606, 0.5013357725917738, 0.5012879982705372, 0.5012402334690532, 0.5011924781854251, 0.5011447324177559, 0.5010969961641493, 0.5010492694227096, 0.501001552191541, 0.5009538444687484, 0.5009061462524369, 0.5008584575407122, 0.5008107783316802, 0.5007631086234473, 0.5007154484141202, 0.5006677977018057, 0.5006201564846117, 0.5005725247606457, 0.5005249025280162, 0.5004772897848314, 0.5004296865292005, 0.500382092759233, 0.5003345084730384, 0.5002869336687268, 0.5002393683444087, 0.5001918124981951, 0.5001442661281971, 0.5000967292325261, 0.5000492018092945, 0.5000016838566144, 0.4999541753725985, 0.4999066763553601, 0.4998591868030125, 0.49981170671366965, 0.49976423608544585, 0.4997167749164555, 0.4996693232048137, 0.499621880948636, 0.49957444814603785, 0.49952702479513555, 0.49947961089404563, 0.4994322064408847, 0.49938481143377017, 0.49933742587081964, 0.4992900497501511, 0.49924268306988295, 0.49919532582813403, 0.49914797802302313, 0.49910063965266993, 0.49905331071519443, 0.4990059912087167, 0.49895868113135744, 0.4989113804812376, 0.4988640892564785, 0.4988168074552019, 0.4987695350755301, 0.49872227211558523, 0.49867501857349045, 0.49862777444736883, 0.4985805397353441, 0.4985333144355402, 0.4984860985460814, 0.4984388920650926, 0.49839169499069874, 0.4983445073210254, 0.4982973290541984, 0.49825016018834395, 0.49820300072158874, 0.49815585065205953, 0.4981087099778839, 0.4980615786971895, 0.49801445680810436, 0.4979673443087569, 0.4979202411972761, 0.4978731474717911, 0.49782606313043154, 0.4977789881713273, 0.49773192259260873, 0.49768486639240656, 0.4976378195688518, 0.49759078212007596, 0.4975437540442108, 0.4974967353393887, 0.49744972600374193, 0.4974027260354037, 0.4973557354325071, 0.49730875419318593, 0.49726178231557416, 0.49721481979780635, 0.4971678666380172, 0.49712092283434184, 0.4970739883849159, 0.4970270632878752, 0.4969801475413561, 0.49693324114349513, 0.4968863440924296, 0.49683945638629656, 0.49679257802323395, 0.49674570900138, 0.496698849318873, 0.4966519989738519, 0.4966051579644561, 0.4965583262888251, 0.49651150394509885, 0.4964646909314179, 0.4964178872459227, 0.4963710928867545, 0.49632430785205495, 0.4962775321399656, 0.49623076574862884, 0.49618400867618717, 0.4961372609207837, 0.4960905224805615, 0.4960437933536645, 0.4959970735382367, 0.4959503630324225, 0.4959036618343666, 0.49585696994221445, 0.49581028735411137, 0.49576361406820335, 0.4957169500826367, 0.49567029539555796, 0.4956236500051144, 0.4955770139094532, 0.4955303871067221, 0.49548376959506935, 0.4954371613726433, 0.49539056243759305, 0.49534397278806763, 0.49529739242221676, 0.4952508213381904, 0.4952042595341389, 0.49515770700821293, 0.4951111637585635, 0.49506462978334226, 0.4950181050807009, 0.49497158964879157, 0.4949250834857669, 0.4948785865897798, 0.49483209895898356, 0.49478562059153186, 0.4947391514855787, 0.4946926916392784, 0.49464624105078575, 0.494599799718256, 0.4945533676398447, 0.4945069448137075, 0.4944605312380006, 0.4944141269108809, 0.4943677318305051, 0.49432134599503064, 0.49427496940261517, 0.4942286020514169, 0.4941822439395941, 0.49413589506530564, 0.49408955542671074, 0.4940432250219689, 0.49399690384924, 0.4939505919066843, 0.49390428919246243, 0.4938579957047355, 0.4938117114416647, 0.49376543640141196, 0.4937191705821392, 0.49367291398200913, 0.4936266665991843, 0.4935804284318282, 0.4935341994781042, 0.49348797973617625, 0.4934417692042088, 0.49339556788036626, 0.4933493757628138, 0.49330319284971696, 0.4932570191392412, 0.49321085462955294, 0.4931646993188185, 0.49311855320520476, 0.49307241628687903, 0.49302628856200886, 0.49298017002876215, 0.49293406068530726, 0.4928879605298129, 0.49284186956044806, 0.4927957877753822, 0.49274971517278504, 0.4927036517508268, 0.492657597507678, 0.49261155244150945, 0.4925655165504923, 0.49251948983279853, 0.49247347228659966, 0.49242746391006825, 0.4923814647013769, 0.49233547465869887, 0.4922894937802073, 0.4922435220640762, 0.49219755950847954, 0.49215160611159203, 0.49210566187158833, 0.49205972678664395, 0.4920138008549343, 0.4919678840746354, 0.49192197644392355, 0.4918760779609755, 0.49183018862396827, 0.49178430843107945, 0.4917384373804866, 0.4916925754703679, 0.491646722698902, 0.4916008790642677, 0.49155504456464416, 0.49150921919821117, 0.4914634029631485, 0.49141759585763656, 0.4913717978798562, 0.4913260090279882, 0.49128022930021403, 0.4912344586947156, 0.49118869720967506, 0.4911429448432748, 0.49109720159369774, 0.49105146745912703, 0.49100574243774636, 0.49096002652773957, 0.49091431972729105, 0.49086862203458553, 0.490822933447808, 0.4907772539651438, 0.4907315835847788, 0.4906859223048989, 0.4906402701236909, 0.4905946270393414, 0.49054899305003774, 0.4905033681539674, 0.4904577523493183, 0.4904121456342788, 0.4903665480070376, 0.4903209594657835, 0.4902753800087062, 0.4902298096339951, 0.4901842483398405, 0.4901386961244327, 0.4900931529859627, 0.49004761892262155, 0.4900020939326008, 0.4899565780140924, 0.48991107116528854, 0.4898655733843819, 0.48982008466956545, 0.48977460501903247, 0.4897291344309766, 0.48968367290359216, 0.4896382204350733, 0.48959277702361487, 0.4895473426674121, 0.4895019173646604, 0.48945650111355565, 0.48941109391229415, 0.4893656957590722, 0.4893203066520871, 0.48927492658953586, 0.48922955556961634, 0.4891841935905264, 0.4891388406504644, 0.48909349674762925, 0.4890481618802198, 0.48900283604643585, 0.4889575192444768, 0.48891221147254305, 0.48886691272883503, 0.4888216230115537, 0.4887763423189003, 0.4887310706490764, 0.48868580800028394, 0.48864055437072523, 0.488595309758603, 0.4885500741621203, 0.48850484757948043, 0.48845963000888726, 0.48841442144854474, 0.48836922189665743, 0.4883240313514302, 0.48827884981106817, 0.4882336772737768, 0.4881885137377622, 0.4881433592012304, 0.48809821366238815, 0.4880530771194424, 0.4880079495706005, 0.48796283101407006, 0.4879177214480591, 0.48787262087077615, 0.48782752928042983, 0.4877824466752294, 0.4877373730533841, 0.487692308413104, 0.4876472527525991, 0.4876022060700801, 0.4875571683637577, 0.4875121396318433, 0.48746711987254854, 0.4874221090840853, 0.48737710726466593, 0.48733211441250307, 0.48728713052580974, 0.48724215560279943, 0.4871971896416859, 0.48715223264068314, 0.4871072845980055, 0.4870623455118681, 0.48701741538048593, 0.4869724942020746, 0.4869275819748498, 0.4868826786970279, 0.4868377843668256, 0.4867928989824597, 0.48674802254214755, 0.48670315504410677, 0.4866582964865554, 0.4866134468677118, 0.48656860618579484, 0.4865237744390232, 0.48647895162561683, 0.48643413774379507, 0.4863893327917784, 0.4863445367677872, 0.4862997496700422, 0.48625497149676483, 0.4862102022461764, 0.486165441916499, 0.48612069050595486, 0.4860759480127666, 0.48603121443515723, 0.48598648977134995, 0.4859417740195687, 0.4858970671780372, 0.4858523692449801, 0.4858076802186222, 0.48576300009718826, 0.4857183288789041, 0.48567366656199523, 0.48562901314468804, 0.48558436862520893, 0.4855397330017848, 0.485495106272643, 0.48545048843601085, 0.4854058794901165, 0.4853612794331881, 0.4853166882634544, 0.4852721059791443, 0.48522753257848716, 0.48518296805971267, 0.4851384124210509, 0.48509386566073226, 0.4850493277769875, 0.48500479876804764, 0.4849602786321443, 0.48491576736750913, 0.4848712649723744, 0.4848267714449726, 0.48478228678353663, 0.48473781098629964, 0.4846933440514953, 0.4846488859773574, 0.48460443676212034, 0.48455999640401853, 0.4845155649012873, 0.4844711422521618, 0.48442672845487755, 0.4843823235076709, 0.484337927408778, 0.4842935401564358, 0.48424916174888116, 0.48420479218435164, 0.48416043146108495, 0.4841160795773193, 0.4840717365312933, 0.48402740232124564, 0.48398307694541554, 0.4839387604020425, 0.48389445268936654, 0.48385015380562785, 0.48380586374906703, 0.48376158251792506, 0.4837173101104431, 0.48367304652486304, 0.4836287917594267, 0.48358454581237653, 0.48354030868195513, 0.4834960803664056, 0.48345186086397146, 0.4834076501728963, 0.48336344829142425, 0.4833192552177998, 0.4832750709502677, 0.48323089548707326, 0.48318672882646185, 0.4831425709666793, 0.4830984219059719, 0.4830542816425861, 0.4830101501747689, 0.48296602750076745, 0.4829219136188294, 0.48287780852720286, 0.4828337122241359, 0.4827896247078771, 0.4827455459766758, 0.48270147602878094, 0.48265741486244246, 0.4826133624759105, 0.48256931886743515, 0.48252528403526745, 0.4824812579776582, 0.48243724069285904, 0.4823932321791217, 0.4823492324346983, 0.48230524145784137, 0.4822612592468037, 0.48221728579983836, 0.48217332111519906, 0.4821293651911395, 0.4820854180259142, 0.48204147961777744, 0.4819975499649843, 0.48195362906578987, 0.4819097169184499, 0.4818658135212204, 0.4818219188723576, 0.48177803297011806, 0.481734155812759, 0.48169028739853753, 0.4816464277257116, 0.48160257679253904, 0.4815587345972784, 0.48151490113818823, 0.4814710764135279, 0.48142726042155665, 0.48138345316053427, 0.4813396546287209, 0.48129586482437703, 0.4812520837457635, 0.4812083113911415, 0.48116454775877243, 0.4811207928469182, 0.4810770466538411, 0.4810333091778036, 0.4809895804170687, 0.4809458603698995, 0.4809021490345597, 0.4808584464093132, 0.4808147524924242, 0.48077106728215746, 0.48072739077677795, 0.4806837229745509, 0.4806400638737421, 0.48059641347261745, 0.48055277176944333, 0.4805091387624865, 0.480465514450014, 0.4804218988302931, 0.4803782919015917, 0.48033469366217785, 0.48029110411031994, 0.48024752324428677, 0.4802039510623474, 0.48016038756277135, 0.48011683274382855, 0.48007328660378895, 0.48002974914092306, 0.4799862203535019, 0.4799427002397965, 0.47989918879807847, 0.47985568602661965, 0.4798121919236923, 0.47976870648756903, 0.47972522971652265, 0.4796817616088264, 0.479638302162754, 0.4795948513765793, 0.47955140924857653, 0.47950797577702065, 0.47946455096018614, 0.47942113479634874, 0.4793777272837838, 0.47933432842076756, 0.47929093820557633, 0.4792475566364866, 0.47920418371177576, 0.47916081942972083, 0.4791174637885997, 0.47907411678669054, 0.4790307784222716, 0.4789874486936217, 0.47894412759901983, 0.4789008151367456, 0.4788575113050787, 0.47881421610229935, 0.4787709295266878, 0.478727651576525, 0.4786843822500922, 0.47864112154567073, 0.4785978694615424, 0.47855462599598964, 0.4785113911472948, 0.4784681649137406, 0.47842494729361057, 0.47838173828518815, 0.478338537886757, 0.4782953460966016, 0.4782521629130065, 0.47820898833425657, 0.478165822358637, 0.4781226649844334, 0.478079516209932, 0.47803637603341875, 0.47799324445318025, 0.4779501214675037, 0.47790700707467637, 0.47786390127298584, 0.47782080406072003, 0.47777771543616737, 0.4777346353976165, 0.47769156394335655, 0.4776485010716767, 0.47760544678086675, 0.4775624010692166, 0.4775193639350168, 0.47747633537655804, 0.4774333153921313, 0.47739030398002813, 0.4773473011385401, 0.4773043068659593, 0.4772613211605782, 0.47721834402068963, 0.4771753754445865, 0.4771324154305625, 0.47708946397691127, 0.4770465210819269, 0.477003586743904, 0.47696066096113726, 0.47691774373192175, 0.47687483505455314, 0.4768319349273271, 0.47678904334853983, 0.47674616031648775, 0.47670328582946786, 0.4766604198857773, 0.47661756248371356, 0.4765747136215745, 0.4765318732976582, 0.4764890415102634, 0.4764462182576889, 0.4764034035382338, 0.47636059735019787, 0.47631779969188087, 0.47627501056158295, 0.4762322299576047, 0.4761894578782472, 0.47614669432181167, 0.47610393928659955, 0.47606119277091286, 0.47601845477305377, 0.47597572529132504, 0.4759330043240294, 0.47589029186947035, 0.47584758792595133, 0.47580489249177643, 0.47576220556524984, 0.4757195271446762, 0.47567685722836045, 0.47563419581460803, 0.47559154290172445, 0.4755488984880158, 0.4755062625717883, 0.47546363515134865, 0.4754210162250037, 0.47537840579106105, 0.4753358038478283, 0.4752932103936133, 0.47525062542672447, 0.4752080489454704, 0.4751654809481604, 0.47512292143310353, 0.4750803703986095, 0.4750378278429885, 0.4749952937645508, 0.4749527681616071, 0.4749102510324685, 0.47486774237544616, 0.4748252421888521, 0.4747827504709981, 0.4747402672201967, 0.4746977924347607, 0.4746553261130029, 0.47461286825323684, 0.47457041885377627, 0.47452797791293516, 0.47448554542902804, 0.4744431214003695, 0.4744007058252747, 0.4743582987020591, 0.4743159000290384, 0.4742735098045285, 0.4742311280268461, 0.4741887546943078, 0.47414638980523066, 0.47410403335793216, 0.47406168535073007, 0.47401934578194244, 0.4739770146498877, 0.4739346919528846, 0.4738923776892523, 0.4738500718573102, 0.47380777445537803, 0.47376548548177594, 0.4737232049348243, 0.473680932812844, 0.47363866911415603, 0.47359641383708184, 0.47355416697994335, 0.4735119285410625, 0.47346969851876175, 0.47342747691136394, 0.47338526371719214, 0.47334305893456985, 0.4733008625618208, 0.4732586745972692, 0.47321649503923924, 0.47317432388605607, 0.4731321611360446, 0.4730900067875302, 0.4730478608388388, 0.47300572328829654, 0.4729635941342297, 0.4729214733749652, 0.4728793610088302, 0.472837257034152, 0.4727951614492584, 0.47275307425247776, 0.4727109954421382, 0.4726689250165687, 0.47262686297409834, 0.47258480931305663, 0.4725427640317732, 0.47250072712857827, 0.4724586986018023, 0.472416678449776, 0.47237466667083056, 0.4723326632632974, 0.4722906682255083, 0.47224868155579525, 0.4722067032524909, 0.472164733313928, 0.4721227717384396, 0.47208081852435896, 0.47203887367002023, 0.4719969371737572, 0.47195500903390447, 0.47191308924879677, 0.4718711778167692, 0.4718292747361571, 0.47178738000529646, 0.4717454936225231, 0.47170361558617363, 0.4716617458945848, 0.47161988454609366, 0.47157803153903766, 0.47153618687175447, 0.4714943505425822, 0.4714525225498594, 0.4714107028919247, 0.4713688915671172, 0.4713270885737763, 0.4712852939102417, 0.4712435075748536, 0.4712017295659522, 0.4711599598818784, 0.47111819852097336, 0.4710764454815782, 0.47103470076203474, 0.47099296436068516, 0.4709512362758717, 0.4709095165059371, 0.47086780504922443, 0.4708261019040772, 0.47078440706883884, 0.4707427205418536, 0.4707010423214658, 0.4706593724060201, 0.47061771079386155, 0.4705760574833355, 0.4705344124727876, 0.470492775760564, 0.4704511473450108, 0.47040952722447493, 0.47036791539730327, 0.47032631186184315, 0.47028471661644217, 0.4702431296594485, 0.47020155098921035, 0.4701599806040763, 0.4701184185023956, 0.47007686468251725, 0.47003531914279095, 0.4699937818815668, 0.4699522528971951, 0.46991073218802626, 0.46986921975241147, 0.4698277155887019, 0.46978621969524914, 0.4697447320704052, 0.4697032527125223, 0.4696617816199529, 0.4696203187910503, 0.4695788642241674, 0.4695374179176579, 0.4694959798698758, 0.469454550079175, 0.4694131285439105, 0.469371715262437, 0.46933031023310967, 0.4692889134542841, 0.4692475249243162, 0.46920614464156213, 0.4691647726043785, 0.4691234088111221, 0.46908205326014996, 0.4690407059498199, 0.46899936687848964, 0.46895803604451713, 0.4689167134462613, 0.4688753990820806, 0.4688340929503343, 0.468792795049382, 0.46875150537758326, 0.46871022393329836, 0.4686689507148878, 0.4686276857207122, 0.4685864289491328, 0.468545180398511, 0.46850394006720864, 0.4684627079535878, 0.46842148405601064, 0.46838026837284014, 0.46833906090243943, 0.4682978616431717, 0.4682566705934008, 0.46821548775149074, 0.46817431311580593, 0.4681331466847111, 0.4680919884565712, 0.4680508384297515, 0.46800969660261776, 0.4679685629735361, 0.4679274375408728, 0.4678863203029943, 0.46784521125826783, 0.4678041104050606, 0.46776301774174023, 0.46772193326667466, 0.4676808569782323, 0.4676397888747815, 0.4675987289546914, 0.4675576772163313, 0.46751663365807056, 0.4674755982782793, 0.46743457107532754, 0.4673935520475861, 0.4673525411934256, 0.4673115385112175, 0.46727054399933315, 0.4672295576561444, 0.46718857948002346, 0.46714760946934286, 0.4671066476224753, 0.46706569393779424, 0.4670247484136729, 0.4669838110484851, 0.46694288184060495, 0.46690196078840707, 0.46686104789026606, 0.46682014314455705, 0.46677924654965547, 0.46673835810393716, 0.46669747780577814, 0.4666566056535546, 0.46661574164564357, 0.46657488578042183, 0.46653403805626686, 0.46649319847155635, 0.4664523670246682, 0.46641154371398097, 0.466370728537873, 0.46632992149472363, 0.4662891225829119, 0.4662483318008175, 0.4662075491468204, 0.4661667746193008, 0.4661260082166394, 0.466085249937217, 0.4660444997794149, 0.46600375774161473, 0.46596302382219823, 0.4659222980195477, 0.4658815803320456, 0.4658408707580749, 0.46580016929601864, 0.4657594759442603, 0.46571879070118394, 0.46567811356517336, 0.4656374445346133, 0.4655967836078883, 0.46555613078338365, 0.46551548605948473, 0.46547484943457723, 0.46543422090704734, 0.4653936004752813, 0.46535298813766596, 0.46531238389258817, 0.46527178773843547, 0.46523119967359555, 0.4651906196964563, 0.46515004780540603, 0.46510948399883345, 0.4650689282751275, 0.4650283806326775, 0.46498784106987295, 0.46494730958510383, 0.46490678617676046, 0.46486627084323334, 0.46482576358291333, 0.46478526439419166, 0.46474477327545993, 0.4647042902251098, 0.4646638152415337, 0.4646233483231239, 0.4645828894682733, 0.46454243867537515, 0.4645019959428227, 0.4644615612690097, 0.4644211346523305, 0.46438071609117926, 0.4643403055839508, 0.46429990312904024, 0.4642595087248429, 0.46421912236975443, 0.46417874406217086, 0.46413837380048856, 0.46409801158310404, 0.46405765740841454, 0.4640173112748171, 0.4639769731807094, 0.46393664312448946, 0.46389632110455536, 0.46385600711930586, 0.4638157011671396, 0.46377540324645605, 0.4637351133556546, 0.4636948314931351, 0.4636545576572977, 0.4636142918465429, 0.46357403405927156, 0.46353378429388464, 0.4634935425487837, 0.46345330882237046, 0.4634130831130469, 0.4633728654192157, 0.46333265573927923, 0.4632924540716407, 0.46325226041470347, 0.4632120747668711, 0.46317189712654766, 0.46313172749213743, 0.4630915658620451, 0.4630514122346754, 0.46301126660843384, 0.46297112898172577, 0.4629309993529572, 0.4628908777205343, 0.46285076408286363, 0.46281065843835195, 0.46277056078540657, 0.4627304711224349, 0.46269038944784474, 0.4626503157600441, 0.4626102500574415, 0.4625701923384457, 0.4625301426014657, 0.462490100844911, 0.4624500670671912, 0.46241004126671637, 0.4623700234418967, 0.46233001359114306, 0.4622900117128663, 0.4622500178054777, 0.4622100318673888, 0.4621700538970117, 0.46213008389275856, 0.4620901218530417, 0.4620501677762743, 0.4620102216608693, 0.46197028350524044, 0.46193035330780136, 0.46189043106696637, 0.4618505167811496, 0.46181061044876603, 0.46177071206823067, 0.461730821637959, 0.46169093915636655, 0.46165106462186967, 0.4616111980328843, 0.46157133938782746, 0.46153148868511595, 0.4614916459231669, 0.46145181110039823, 0.46141198421522756, 0.46137216526607344, 0.4613323542513542, 0.46129255116948875, 0.46125275601889626, 0.46121296879799617, 0.4611731895052084, 0.4611334181389531, 0.46109365469765057, 0.4610538991797216, 0.46101415158358733, 0.4609744119076691, 0.4609346801503887, 0.4608949563101678, 0.4608552403854292, 0.46081553237459527, 0.460775832276089, 0.46073614008833363, 0.4606964558097529, 0.46065677943877054, 0.4606171109738108, 0.46057745041329823, 0.4605377977556577, 0.4604981529993143, 0.4604585161426935, 0.4604188871842211, 0.46037926612232327, 0.4603396529554262, 0.46030004768195704, 0.46026045030034235, 0.4602208608090097, 0.4601812792063867, 0.4601417054909015, 0.4601021396609821, 0.46006258171505726, 0.46002303165155606, 0.4599834894689074, 0.45994395516554104, 0.4599044287398867, 0.4598649101903747, 0.4598253995154354, 0.4597858967134996, 0.4597464017829985, 0.4597069147223635, 0.45966743553002626, 0.45962796420441887, 0.45958850074397367, 0.45954904514712336, 0.45950959741230085, 0.4594701575379395, 0.4594307255224728, 0.45939130136433487, 0.45935188506195995, 0.4593124766137822, 0.4592730760182369, 0.459233683273759, 0.4591942983787841, 0.45915492133174785, 0.45911555213108646, 0.4590761907752364, 0.45903683726263417, 0.45899749159171704, 0.4589581537609222, 0.4589188237686874, 0.45887950161345054, 0.45884018729365, 0.4588008808077242, 0.4587615821541123, 0.45872229133125325, 0.4586830083375868, 0.4586437331715526, 0.4586044658315909, 0.45856520631614217, 0.4585259546236472, 0.458486710752547, 0.458447474701283, 0.4584082464682968, 0.4583690260520305, 0.4583298134509265, 0.45829060866342736, 0.458251411687976, 0.45821222252301563, 0.45817304116699, 0.4581338676183428, 0.4580947018755183, 0.4580555439369611, 0.4580163938011156, 0.4579772514664273, 0.4579381169313416, 0.45789899019430413, 0.45785987125376093, 0.4578207601081583, 0.4577816567559431, 0.4577425611955622, 0.4577034734254628, 0.4576643934440926, 0.45762532124989946, 0.45758625684133164, 0.4575472002168375, 0.45750815137486606, 0.45746911031386633, 0.4574300770322879, 0.45739105152858034, 0.4573520338011938, 0.45731302384857875, 0.4572740216691857, 0.45723502726146575, 0.4571960406238702, 0.45715706175485066, 0.45711809065285897, 0.45707912731634737, 0.45704017174376854, 0.45700122393357523, 0.4569622838842205, 0.45692335159415787, 0.4568844270618412, 0.4568455102857244, 0.45680660126426204, 0.4567676999959087, 0.45672880647911934, 0.4566899207123494, 0.4566510426940544, 0.45661217242269025, 0.4565733098967133, 0.4565344551145799, 0.456495608074747, 0.45645676877567176, 0.45641793721581175, 0.4563791133936245, 0.4563402973075683, 0.4563014889561014, 0.4562626883376826, 0.45622389545077074, 0.45618511029382525, 0.45614633286530576, 0.456107563163672, 0.45606880118738446, 0.4560300469349035, 0.45599130040469, 0.4559525615952052, 0.4559138305049104, 0.4558751071322674, 0.45583639147573835, 0.4557976835337855, 0.4557589833048717, 0.45572029078745974, 0.455681605980013, 0.45564292888099506, 0.4556042594888699, 0.45556559780210165, 0.4555269438191549, 0.4554882975384943, 0.4554496589585852, 0.45541102807789285, 0.4553724048948832, 0.4553337894080221, 0.455295181615776, 0.4552565815166115, 0.4552179891089956, 0.4551794043913956, 0.4551408273622789, 0.4551022580201136, 0.4550636963633678, 0.45502514239051, 0.45498659610000886, 0.4549480574903338, 0.454909526559954, 0.454871003307339, 0.45483248773095913, 0.4547939798292846, 0.4547554796007861, 0.45471698704393443, 0.4546785021572008, 0.4546400249390569, 0.4546015553879744, 0.45456309350242574, 0.45452463928088305, 0.4544861927218192, 0.45444775382370733, 0.45440932258502076, 0.4543708990042331, 0.4543324830798184, 0.45429407481025086, 0.4542556741940053, 0.4542172812295562, 0.454178895915379, 0.4541405182499493, 0.45410214823174255, 0.45406378585923524, 0.4540254311309035, 0.45398708404522414, 0.45394874460067425, 0.4539104127957309, 0.4538720886288721, 0.45383377209857545, 0.4537954632033192, 0.4537571619415819, 0.4537188683118426, 0.45368058231258024, 0.4536423039422742, 0.4536040331994044, 0.45356577008245075, 0.4535275145898937, 0.4534892667202138, 0.45345102647189206, 0.4534127938434097, 0.4533745688332484, 0.4533363514398899, 0.4532981416618162, 0.45325993949751014, 0.45322174494545425, 0.4531835580041317, 0.45314537867202576, 0.4531072069476202, 0.45306904282939897, 0.4530308863158463, 0.4529927374054468, 0.4529545960966855, 0.45291646238804734, 0.452878336278018, 0.4528402177650831, 0.45280210684772887, 0.45276400352444174, 0.4527259077937082, 0.45268781965401544, 0.4526497391038506, 0.4526116661417015, 0.45257360076605585, 0.4525355429754019, 0.4524974927682282, 0.4524594501430235, 0.45242141509827694, 0.45238338763247793, 0.45234536774411604, 0.4523073554316816, 0.4522693506936646, 0.4522313535285558, 0.45219336393484605, 0.45215538191102667, 0.452117407455589, 0.45207944056702504, 0.45204148124382676, 0.45200352948448663, 0.4519655852874975, 0.4519276486513521, 0.451889719574544, 0.45185179805556663, 0.45181388409291395, 0.4517759776850803, 0.4517380788305601, 0.45170018752784813, 0.4516623037754397, 0.4516244275718299, 0.45158655891551475, 0.45154869780499013, 0.4515108442387523, 0.45147299821529807, 0.45143515973312426, 0.4513973287907279, 0.45135950538660674, 0.4513216895192585, 0.4512838811871814, 0.4512460803888736, 0.451208287122834, 0.4511705013875617, 0.4511327231815558, 0.451094952503316, 0.45105718935134226, 0.4510194337241347, 0.450981685620194, 0.45094394503802065, 0.45090621197611597, 0.45086848643298133, 0.45083076840711844, 0.45079305789702934, 0.45075535490121615, 0.4507176594181817, 0.4506799714464287, 0.45064229098446046, 0.4506046180307804, 0.4505669525838924, 0.45052929464230035, 0.4504916442045088, 0.45045400126902246, 0.4504163658343463, 0.45037873789898547, 0.4503411174614456, 0.45030350452023266, 0.4502658990738528, 0.45022830112081236, 0.4501907106596183, 0.4501531276887775, 0.4501155522067975, 0.45007798421218587, 0.4500404237034505, 0.45000287067909966, 0.4499653251376421, 0.44992778707758646, 0.449890256497442, 0.44985273339571813, 0.44981521777092454, 0.4497777096215713, 0.4497402089461689, 0.4497027157432276, 0.4496652300112587, 0.4496277517487733, 0.4495902809542829, 0.44955281762629934, 0.4495153617633347, 0.4494779133639014, 0.4494404724265122, 0.4494030389496801, 0.44936561293191835, 0.4493281943717406, 0.44929078326766064, 0.4492533796181928, 0.44921598342185154, 0.44917859467715154, 0.44914121338260793, 0.44910383953673627, 0.44906647313805187, 0.4490291141850709, 0.4489917626763097, 0.4489544186102847, 0.4489170819855128, 0.4488797528005112, 0.4488424310537972, 0.44880511674388857, 0.4487678098693035, 0.44873051042856016, 0.44869321842017723, 0.44865593384267366, 0.4486186566945687, 0.4485813869743818, 0.44854412468063276, 0.4485068698118416, 0.4484696223665289, 0.44843238234321525, 0.44839514974042166, 0.44835792455666934, 0.44832070679048, 0.4482834964403753, 0.4482462935048776, 0.4482090979825094, 0.44817190987179323, 0.4481347291712523, 0.4480975558794099, 0.44806038999478964, 0.44802323151591555, 0.4479860804413118, 0.4479489367695028, 0.4479118004990136, 0.447874671628369, 0.44783755015609467, 0.4478004360807162, 0.44776332940075964, 0.44772623011475116, 0.44768913822121736, 0.44765205371868527, 0.4476149766056818, 0.4475779068807345, 0.44754084454237125, 0.44750378958912, 0.44746674201950903, 0.44742970183206704, 0.44739266902532293, 0.44735564359780594, 0.4473186255480455, 0.44728161487457163, 0.44724461157591416, 0.4472076156506037, 0.44717062709717076, 0.44713364591414634, 0.4470966721000617, 0.44705970565344855, 0.4470227465728386, 0.4469857948567641, 0.44694885050375727, 0.44691191351235116, 0.4468749838810785, 0.4468380616084728, 0.4468011466930676, 0.4467642391333966, 0.44672733892799443, 0.44669044607539526, 0.4466535605741339, 0.4466166824227455, 0.44657981161976534, 0.4465429481637291, 0.4465060920531727, 0.4464692432866325, 0.4464324018626449, 0.4463955677797467, 0.44635874103647505, 0.44632192163136747, 0.4462851095629614, 0.4462483048297951, 0.44621150743040666, 0.4461747173633347, 0.4461379346271181, 0.4461011592202959, 0.4460643911414078, 0.44602763038899323, 0.44599087696159245, 0.44595413085774555, 0.44591739207599335, 0.4458806606148767, 0.4458439364729366, 0.4458072196487148, 0.4457705101407528, 0.4457338079475928, 0.4456971130677772, 0.4456604254998486, 0.4456237452423498, 0.44558707229382416, 0.44555040665281526, 0.44551374831786666, 0.4454770972875227, 0.4454404535603277, 0.44540381713482613, 0.44536718800956315, 0.445330566183084, 0.4452939516539342, 0.4452573444206595, 0.44522074448180615, 0.44518415183592047, 0.44514756648154924, 0.44511098841723934, 0.44507441764153816, 0.4450378541529932, 0.44500129795015225, 0.4449647490315637, 0.44492820739577565, 0.44489167304133714, 0.444855145966797, 0.44481862617070467, 0.4447821136516095, 0.4447456084080617, 0.44470911043861117, 0.4446726197418085, 0.4446361363162044, 0.4445996601603499, 0.4445631912727964, 0.4445267296520955, 0.4444902752967991, 0.4444538282054592, 0.4444173883766285, 0.4443809558088598, 0.44434453050070605, 0.4443081124507205, 0.44427170165745716, 0.4442352981194695, 0.44419890183531197, 0.444162512803539, 0.44412613102270554, 0.44408975649136645, 0.4440533892080772, 0.44401702917139335, 0.44398067637987104, 0.4439443308320663, 0.4439079925265357, 0.4438716614618361, 0.4438353376365245, 0.44379902104915836, 0.44376271169829534, 0.4437264095824933, 0.44369011470031056, 0.4436538270503056, 0.4436175466310373, 0.4435812734410647, 0.44354500747894726, 0.44350874874324464, 0.44347249723251675, 0.44343625294532385, 0.44340001588022643, 0.44336378603578547, 0.443327563410562, 0.44329134800311737, 0.44325513981201325, 0.44321893883581176, 0.443182745073075, 0.44314655852236556, 0.44311037918224633, 0.4430742070512803, 0.44303804212803105, 0.4430018844110622, 0.4429657338989376, 0.4429295905902217, 0.44289345448347883, 0.4428573255772741, 0.44282120387017243, 0.44278508936073924, 0.44274898204754026, 0.4427128819291416, 0.44267678900410923, 0.44264070327100996, 0.4426046247284105, 0.442568553374878, 0.4425324892089799, 0.44249643222928375, 0.44246038243435776, 0.4424243398227699, 0.442388304393089, 0.44235227614388384, 0.44231625507372335, 0.4422802411811772, 0.4422442344648148, 0.4422082349232063, 0.44217224255492205, 0.44213625735853224, 0.44210027933260815, 0.44206430847572054, 0.44202834478644093, 0.44199238826334103, 0.44195643890499275, 0.4419204967099684, 0.4418845616768405, 0.4418486338041819, 0.4418127130905656, 0.44177679953456506, 0.44174089313475406, 0.4417049938897063, 0.44166910179799623, 0.4416332168581984, 0.44159733906888743, 0.4415614684286385, 0.44152560493602716, 0.44148974858962886, 0.44145389938801954, 0.4414180573297756, 0.4413822224134734, 0.4413463946376899, 0.44131057400100193, 0.441274760501987, 0.44123895413922287, 0.4412031549112873, 0.44116736281675856, 0.44113157785421514, 0.441095800022236, 0.44106002931939986, 0.44102426574428627, 0.44098850929547484, 0.4409527599715455, 0.44091701777107845, 0.44088128269265414, 0.4408455547348533, 0.44080983389625716, 0.44077412017544676, 0.44073841357100396, 0.44070271408151046, 0.4406670217055486, 0.4406313364417008, 0.4405956582885498, 0.4405599872446785, 0.4405243233086703, 0.44048866647910895, 0.44045301675457804, 0.44041737413366183, 0.44038173861494484, 0.44034611019701164, 0.4403104888784475, 0.4402748746578373, 0.4402392675337669, 0.4402036675048221, 0.44016807456958895, 0.44013248872665395, 0.4400969099746037, 0.4400613383120252, 0.44002577373750573, 0.4399902162496328, 0.43995466584699433, 0.4399191225281782, 0.439883586291773, 0.4398480571363673, 0.43981253506055007, 0.4397770200629105, 0.4397415121420381, 0.4397060112965227, 0.43967051752495434, 0.43963503082592337, 0.4395995511980204, 0.4395640786398364, 0.43952861314996233, 0.43949315472699, 0.439457703369511, 0.43942225907611726, 0.43938682184540134, 0.43935139167595566, 0.43931596856637317, 0.4392805525152469, 0.43924514352117044, 0.4392097415827374, 0.4391743466985419, 0.439138958867178, 0.43910357808724043, 0.439068204357324, 0.4390328376760238, 0.43899747804193523, 0.438962125453654, 0.43892677990977597, 0.43889144140889746, 0.438856109949615, 0.43882078553052534, 0.4387854681502256, 0.4387501578073131, 0.4387148545003854, 0.4386795582280405, 0.43864426898887665, 0.4386089867814923, 0.438573711604486, 0.43853844345645693, 0.4385031823360045, 0.4384679282417282, 0.4384326811722279, 0.4383974411261038, 0.4383622081019562, 0.4383269820983859, 0.4382917631139938, 0.4382565511473813, 0.43822134619714986, 0.4381861482619013, 0.4381509573402378, 0.4381157734307616, 0.4380805965320755, 0.43804542664278223, 0.43801026376148516, 0.4379751078867878, 0.4379399590172938, 0.4379048171516073, 0.4378696822883326, 0.4378345544260744, 0.43779943356343737, 0.43776431969902685, 0.4377292128314482, 0.4376941129593072, 0.43765902008120977, 0.4376239341957622, 0.43758885530157104, 0.43755378339724316, 0.43751871848138557, 0.4374836605526058, 0.4374486096095113, 0.43741356565071027, 0.4373785286748107, 0.4373434986804212, 0.4373084756661505, 0.4372734596306077, 0.437238450572402, 0.43720344849014314, 0.4371684533824409, 0.43713346524790553, 0.43709848408514734, 0.4370635098927771, 0.4370285426694059, 0.4369935824136447, 0.43695862912410544, 0.4369236827993997, 0.4368887434381395, 0.43685381103893733, 0.43681888560040605, 0.4367839671211581, 0.4367490555998071, 0.43671415103496625, 0.4366792534252495, 0.43664436276927077, 0.43660947906564435, 0.4365746023129849, 0.43653973250990724, 0.4365048696550265, 0.436470013746958, 0.4364351647843176, 0.4364003227657211, 0.4363654876897848, 0.4363306595551253, 0.4362958383603593, 0.4362610241041039, 0.43622621678497625, 0.43619141640159415, 0.43615662295257557, 0.4361218364365385, 0.4360870568521015, 0.43605228419788306, 0.43601751847250253, 0.43598275967457895, 0.4359480078027318, 0.43591326285558113, 0.4358785248317468, 0.4358437937298493, 0.4358090695485093, 0.4357743522863477, 0.4357396419419855, 0.43570493851404446, 0.43567024200114607, 0.4356355524019125, 0.435600869714966, 0.43556619393892915, 0.43553152507242476, 0.435496863114076, 0.4354622080625061, 0.43542755991633897, 0.43539291867419827, 0.4353582843347084, 0.4353236568964938, 0.4352890363581793, 0.4352544227183898, 0.4352198159757507, 0.43518521612888755, 0.43515062317642605, 0.4351160371169927, 0.4350814579492136, 0.43504688567171546, 0.4350123202831254, 0.43497776178207037, 0.4349432101671782, 0.4349086654370763, 0.43487412759039296, 0.43483959662575655, 0.43480507254179546, 0.4347705553371386, 0.4347360450104152, 0.4347015415602547, 0.4346670449852866, 0.4346325552841409, 0.43459807245544796, 0.43456359649783827, 0.4345291274099425, 0.43449466519039176, 0.43446020983781736, 0.43442576135085087, 0.43439131972812417, 0.4343568849682695, 0.4343224570699191, 0.43428803603170585, 0.4342536218522625, 0.4342192145302224, 0.43418481406421894, 0.43415042045288615, 0.4341160336948578, 0.43408165378876834, 0.43404728073325227, 0.43401291452694457, 0.4339785551684804, 0.43394420265649514, 0.4339098569896243, 0.433875518166504, 0.4338411861857705, 0.4338068610460601, 0.4337725427460098, 0.43373823128425637, 0.43370392665943736, 0.4336696288701903, 0.43363533791515296, 0.4336010537929635, 0.4335667765022603, 0.43353250604168203, 0.43349824240986773, 0.4334639856054565, 0.43342973562708786, 0.43339549247340153, 0.4333612561430375, 0.4333270266346363, 0.43329280394683817, 0.4332585880782841, 0.43322437902761524, 0.43319017679347294, 0.4331559813744988, 0.43312179276933466, 0.43308761097662285, 0.4330534359950059, 0.4330192678231264, 0.4329851064596273, 0.4329509519031521, 0.43291680415234407, 0.4328826632058472, 0.4328485290623055, 0.4328144017203634, 0.4327802811786654, 0.4327461674358565, 0.43271206049058186, 0.4326779603414868, 0.4326438669872172, 0.4326097804264189, 0.4325757006577381, 0.4325416276798215, 0.43250756149131575, 0.4324735020908679, 0.4324394494771253, 0.43240540364873564, 0.4323713646043465, 0.4323373323426064, 0.4323033068621633, 0.4322692881616662, 0.43223527623976393, 0.43220127109510587, 0.43216727272634115, 0.4321332811321198, 0.4320992963110917, 0.43206531826190714, 0.43203134698321677, 0.43199738247367125, 0.43196342473192184, 0.4319294737566198, 0.4318955295464167, 0.4318615920999647, 0.4318276614159157, 0.4317937374929221, 0.43175982032963695, 0.4317259099247128, 0.43169200627680315, 0.4316581093845615, 0.4316242192466415, 0.4315903358616973, 0.4315564592283832, 0.4315225893453537, 0.4314887262112638, 0.4314548698247684, 0.43142102018452305, 0.43138717728918347, 0.4313533411374053, 0.43131951172784505, 0.431285689059159, 0.4312518731300039, 0.4312180639390368, 0.43118426148491484, 0.4311504657662956, 0.4311166767818369, 0.4310828945301969, 0.4310491190100337, 0.4310153502200061, 0.43098158815877274, 0.43094783282499316, 0.43091408421732635, 0.4308803423344322, 0.4308466071749705, 0.43081287873760155, 0.43077915702098574, 0.4307454420237839, 0.4307117337446571, 0.4306780321822663, 0.4306443373352733, 0.43061064920233993, 0.430576967782128, 0.4305432930733001, 0.4305096250745187, 0.4304759637844467, 0.43044230920174725, 0.43040866132508376, 0.43037502015311985, 0.4303413856845196, 0.4303077579179469, 0.4302741368520666, 0.43024052248554306, 0.4302069148170416, 0.4301733138452272, 0.43013971956876573, 0.4301061319863227, 0.4300725510965642, 0.4300389768981567, 0.43000540938976667, 0.42997184857006104, 0.42993829443770687, 0.42990474699137166, 0.4298712062297231, 0.4298376721514288, 0.4298041447551573, 0.4297706240395769, 0.4297371100033563, 0.42970360264516455, 0.42967010196367084, 0.4296366079575447, 0.4296031206254559, 0.42956963996607456, 0.42953616597807087, 0.42950269866011553, 0.4294692380108793, 0.42943578402903326, 0.42940233671324884, 0.4293688960621977, 0.42933546207455175, 0.42930203474898293, 0.42926861408416395, 0.4292352000787673, 0.4292017927314661, 0.42916839204093343, 0.42913499800584287, 0.4291016106248682, 0.4290682298966833, 0.4290348558199626, 0.4290014883933804, 0.42896812761561187, 0.4289347734853319, 0.42890142600121567, 0.42886808516193897, 0.42883475096617757, 0.42880142341260774, 0.4287681024999057, 0.42873478822674815, 0.4287014805918121, 0.4286681795937747, 0.4286348852313133, 0.4286015975031056, 0.42856831640782983, 0.4285350419441639, 0.42850177411078655, 0.42846851290637633, 0.4284352583296124, 0.42840201037917414, 0.4283687690537408, 0.42833553435199256, 0.4283023062726093, 0.42826908481427134, 0.42823586997565943, 0.42820266175545424, 0.42816946015233703, 0.4281362651649891, 0.42810307679209225, 0.4280698950323284, 0.42803671988437947, 0.42800355134692825, 0.42797038941865717, 0.42793723409824935, 0.42790408538438796, 0.42787094327575664, 0.4278378077710389, 0.42780467886891893, 0.427771556568081, 0.42773844086720963, 0.42770533176498954, 0.42767222926010595, 0.42763913335124404, 0.4276060440370895, 0.42757296131632827, 0.4275398851876463, 0.4275068156497299, 0.4274737527012659, 0.42744069634094123, 0.42740764656744284, 0.4273746033794583, 0.42734156677567536, 0.42730853675478175, 0.42727551331546587, 0.42724249645641615, 0.42720948617632126, 0.42717648247387024, 0.4271434853477523, 0.4271104947966571, 0.42707751081927414, 0.4270445334142937, 0.427011562580406, 0.4269785983163016, 0.4269456406206714, 0.4269126894922063, 0.4268797449295978, 0.4268468069315375, 0.42681387549671707, 0.42678095062382887, 0.42674803231156516, 0.42671512055861865, 0.42668221536368217, 0.4266493167254491, 0.4266164246426125, 0.4265835391138664, 0.42655066013790455, 0.4265177877134212, 0.42648492183911085, 0.4264520625136682, 0.4264192097357883, 0.42638636350416637, 0.4263535238174978, 0.4263206906744785, 0.4262878640738045, 0.42625504401417197, 0.42622223049427754, 0.42618942351281813, 0.4261566230684906, 0.42612382915999236, 0.426091041786021, 0.4260582609452745, 0.4260254866364507, 0.4259927188582482, 0.42595995760936545, 0.4259272028885015, 0.42589445469435533, 0.4258617130256265, 0.4258289778810146, 0.4257962492592195, 0.42576352715894145, 0.42573081157888076, 0.4256981025177384, 0.42566539997421504, 0.42563270394701214, 0.42560001443483103, 0.4255673314363733, 0.4255346549503413, 0.42550198497543706, 0.42546932151036304, 0.42543666455382223, 0.4254040141045174, 0.425371370161152, 0.42533873272242956, 0.42530610178705375, 0.4252734773537288, 0.4252408594211589, 0.4252082479880488, 0.4251756430531032, 0.4251430446150271, 0.425110452672526, 0.4250778672243056, 0.42504528826907156, 0.42501271580553013, 0.42498014983238763, 0.42494759034835067, 0.4249150373521262, 0.4248824908424214, 0.4248499508179437, 0.4248174172774007, 0.4247848902195004, 0.424752369642951, 0.42471985554646075, 0.4246873479287385, 0.42465484678849336, 0.4246223521244343, 0.4245898639352709, 0.42455738221971284, 0.42452490697647016, 0.4244924382042531, 0.42445997590177215, 0.424427520067738, 0.4243950707008618, 0.4243626277998547, 0.42433019136342837, 0.4242977613902944, 0.42426533787916504, 0.4242329208287524, 0.4242005102377692, 0.4241681061049283, 0.42413570842894244, 0.4241033172085253, 0.4240709324423902, 0.4240385541292512, 0.4240061822678222, 0.42397381685681773, 0.42394145789495224, 0.42390910538094073, 0.4238767593134982, 0.42384441969134007, 0.4238120865131821, 0.42377975977773985, 0.4237474394837299, 0.4237151256298683, 0.42368281821487175, 0.4236505172374574, 0.42361822269634225, 0.42358593459024363, 0.42355365291787933, 0.4235213776779672, 0.4234891088692257, 0.4234568464903729, 0.42342459054012765, 0.4233923410172091, 0.42336009792033613, 0.4233278612482284, 0.4232956309996056, 0.4232634071731877, 0.4232311897676949, 0.4231989787818477, 0.42316677421436694, 0.4231345760639734, 0.4231023843293887, 0.42307019900933385, 0.423038020102531, 0.423005847607702, 0.4229736815235692, 0.42294152184885503, 0.42290936858228223, 0.4228772217225741, 0.4228450812684536, 0.4228129472186445, 0.4227808195718705, 0.4227486983268557, 0.4227165834823244, 0.4226844750370011, 0.42265237298961056, 0.422620277338878, 0.42258818808352877, 0.42255610522228826, 0.4225240287538824, 0.42249195867703726, 0.42245989499047915, 0.4224278376929348, 0.4223957867831309, 0.4223637422597946, 0.4223317041216533, 0.42229967236743454, 0.42226764699586616, 0.42223562800567643, 0.4222036153955935, 0.4221716091643461, 0.42213960931066313, 0.42210761583327366, 0.42207562873090715, 0.42204364800229316, 0.42201167364616154, 0.42197970566124254, 0.4219477440462665, 0.42191578879996405, 0.42188383992106604, 0.4218518974083038, 0.4218199612604086, 0.42178803147611205, 0.42175610805414615, 0.42172419099324315, 0.42169228029213524, 0.42166037594955524, 0.421628477964236, 0.4215965863349108, 0.42156470106031296, 0.4215328221391762, 0.42150094957023443, 0.42146908335222183, 0.4214372234838729, 0.4214053699639223, 0.4213735227911049, 0.42134168196415595, 0.4213098474818109, 0.4212780193428054, 0.4212461975458755, 0.4212143820897573, 0.42118257297318723, 0.4211507701949021, 0.42111897375363866, 0.42108718364813447, 0.42105539987712665, 0.42102362243935315, 0.4209918513335517, 0.42096008655846073, 0.4209283281128186, 0.420896575995364, 0.42086483020483606, 0.4208330907399736, 0.4208013575995166, 0.42076963078220453, 0.4207379102867773, 0.4207061961119753, 0.4206744882565388, 0.4206427867192087, 0.42061109149872594, 0.4205794025938317, 0.42054772000326746, 0.420516043725775, 0.42048437376009623, 0.42045271010497354, 0.4204210527591492, 0.42038940172136596, 0.42035775699036704, 0.4203261185648953, 0.4202944864436946, 0.42026286062550844, 0.4202312411090809, 0.4201996278931562, 0.4201680209764787, 0.42013642035779336, 0.420104826035845, 0.42007323800937885, 0.42004165627714046, 0.4200100808378756, 0.41997851169033024, 0.41994694883325057, 0.41991539226538294, 0.4198838419854743, 0.4198522979922716, 0.4198207602845221, 0.4197892288609731, 0.4197577037203725, 0.41972618486146823, 0.4196946722830086, 0.4196631659837419, 0.4196316659624171, 0.419600172217783, 0.4195686847485889, 0.41953720355358415, 0.4195057286315188, 0.4194742599811425, 0.41944279760120573, 0.4194113414904587, 0.4193798916476523, 0.41934844807153754, 0.4193170107608656, 0.41928557971438785, 0.41925415493085616, 0.41922273640902236, 0.41919132414763877, 0.41915991814545783, 0.4191285184012322, 0.419097124913715, 0.4190657376816593, 0.4190343567038185, 0.4190029819789464, 0.4189716135057971, 0.41894025128312457, 0.41890889530968345, 0.41887754558422824, 0.4188462021055141, 0.41881486487229597, 0.4187835338833296, 0.41875220913737055, 0.4187208906331747, 0.41868957836949827, 0.4186582723450977, 0.4186269725587298, 0.41859567900915134, 0.4185643916951196, 0.41853311061539195, 0.4185018357687261, 0.41847056715388, 0.41843930476961166, 0.41840804861467973, 0.4183767986878427, 0.4183455549878597, 0.41831431751348963, 0.41828308626349203, 0.4182518612366265, 0.41822064243165313, 0.41818942984733176, 0.4181582234824231, 0.4181270233356876, 0.4180958294058862, 0.41806464169178004, 0.41803346019213034, 0.4180022849056991, 0.41797111583124785, 0.41793995296753894, 0.4179087963133347, 0.4178776458673976, 0.41784650162849074, 0.4178153635953771, 0.41778423176682, 0.41775310614158306, 0.41772198671843025, 0.41769087349612544, 0.4176597664734333, 0.41762866564911805, 0.41759757102194484, 0.4175664825906786, 0.4175354003540847, 0.4175043243109286, 0.4174732544599763, 0.4174421907999938, 0.4174111333297474, 0.41738008204800353, 0.41734903695352926, 0.41731799804509145, 0.41728696532145754, 0.41725593878139483, 0.41722491842367126, 0.417193904247055, 0.4171628962503141, 0.4171318944322171, 0.41710089879153295, 0.41706990932703053, 0.4170389260374791, 0.4170079489216482, 0.4169769779783076, 0.41694601320622726, 0.4169150546041774, 0.41688410217092847, 0.41685315590525135, 0.41682221580591694, 0.41679128187169634, 0.41676035410136114, 0.4167294324936831, 0.4166985170474341, 0.4166676077613864, 0.41663670463431224, 0.4166058076649846, 0.41657491685217624, 0.4165440321946603, 0.41651315369121034, 0.41648228134059995, 0.41645141514160305, 0.41642055509299375, 0.41638970119354657, 0.4163588534420361, 0.4163280118372371, 0.4162971763779249, 0.41626634706287474, 0.4162355238908623, 0.41620470686066346, 0.4161738959710543, 0.4161430912208113, 0.41611229260871074, 0.41608150013352974, 0.41605071379404523, 0.41601993358903466, 0.4159891595172756, 0.41595839157754577, 0.41592762976862324, 0.4158968740892864, 0.4158661245383137, 0.415835381114484, 0.4158046438165762, 0.41577391264336977, 0.41574318759364404, 0.41571246866617895, 0.41568175585975453, 0.41565104917315077, 0.41562034860514835, 0.415589654154528, 0.41555896582007057, 0.41552828360055755, 0.41549760749477005, 0.41546693750149005, 0.4154362736194994, 0.41540561584758023, 0.4153749641845151, 0.41534431862908655, 0.41531367918007767, 0.41528304583627146, 0.41525241859645146, 0.41522179745940124, 0.4151911824239046, 0.41516057348874585, 0.4151299706527093, 0.4150993739145796, 0.4150687832731415, 0.4150381987271802, 0.41500762027548094, 0.41497704791682943, 0.4149464816500114, 0.414915921473813, 0.4148853673870204, 0.41485481938842034, 0.41482427747679945, 0.41479374165094496, 0.41476321190964394, 0.414732688251684, 0.4147021706758529, 0.41467165918093873, 0.4146411537657296, 0.41461065442901396, 0.41458016116958074, 0.4145496739862188, 0.41451919287771716, 0.4144887178428657, 0.4144582488804537, 0.4144277859892712, 0.4143973291681085, 0.414366878415756, 0.41433643373100426, 0.41430599511264427, 0.4142755625594672, 0.4142451360702642, 0.4142147156438271, 0.41418430127894773, 0.4141538929744181, 0.41412349072903065, 0.414093094541578, 0.4140627044108529, 0.41403232033564835, 0.4140019423147578, 0.4139715703469748, 0.41394120443109284, 0.4139108445659064, 0.41388049075020933, 0.4138501429827965, 0.4138198012624623, 0.41378946558800206, 0.41375913595821073, 0.4137288123718839, 0.4136984948278174, 0.41366818332480704, 0.4136378778616489, 0.41360757843713963, 0.41357728505007574, 0.41354699769925424, 0.4135167163834722, 0.41348644110152705, 0.4134561718522164, 0.41342590863433815, 0.41339565144669044, 0.41336540028807145, 0.4133351551572799, 0.4133049160531146, 0.4132746829743746, 0.4132444559198591, 0.4132142348883679, 0.4131840198787006, 0.4131538108896572, 0.41312360792003794, 0.4130934109686435, 0.4130632200342744, 0.41303303511573175, 0.4130028562118168, 0.4129726833213309, 0.4129425164430759, 0.41291235557585343, 0.41288220071846593, 0.41285205186971574, 0.4128219090284055, 0.41279177219333807, 0.4127616413633166, 0.41273151653714446, 0.41270139771362524, 0.4126712848915628, 0.41264117806976125, 0.4126110772470248, 0.41258098242215807, 0.4125508935939659, 0.41252081076125324, 0.4124907339228255, 0.412460663077488, 0.4124305982240466, 0.4124005393613072, 0.41237048648807617, 0.4123404396031599, 0.412310398705365, 0.4122803637934985, 0.41225033486636764, 0.4122203119227797, 0.41219029496154236, 0.4121602839814635, 0.41213027898135124, 0.4121002799600141, 0.4120702869162604, 0.41204029984889917, 0.4120103187567395, 0.41198034363859065, 0.4119503744932621, 0.41192041131956364, 0.4118904541163055, 0.41186050288229775, 0.4118305576163509, 0.4118006183172758, 0.4117706849838832, 0.4117407576149846, 0.4117108362093912, 0.41168092076591484, 0.41165101128336723, 0.4116211077605608, 0.4115912101963078, 0.41156131858942085, 0.41153143293871286, 0.4115015532429969, 0.4114716795010863, 0.4114418117117948, 0.4114119498739359, 0.41138209398632397, 0.41135224404777304, 0.41132240005709775, 0.4112925620131129, 0.4112627299146333, 0.41123290376047444, 0.41120308354945156, 0.4111732692803805, 0.41114346095207716, 0.4111136585633578, 0.41108386211303855, 0.4110540715999364, 0.411024287022868, 0.4109945083806505, 0.4109647356721014, 0.41093496889603814, 0.41090520805127856, 0.41087545313664076, 0.41084570415094307, 0.41081596109300395, 0.4107862239616421, 0.4107564927556767, 0.41072676747392695, 0.41069704811521224, 0.4106673346783523, 0.41063762716216706, 0.4106079255654767, 0.41057822988710174, 0.4105485401258627, 0.41051885628058055, 0.4104891783500763, 0.41045950633317146, 0.41042984022868745, 0.4104001800354462, 0.41037052575226973, 0.4103408773779803, 0.4103112349114006, 0.4102815983513532, 0.41025196769666117, 0.41022234294614773, 0.41019272409863633, 0.41016311115295084, 0.4101335041079149, 0.4101039029623529, 0.41007430771508907, 0.41004471836494827, 0.41001513491075514, 0.40998555735133496, 0.40995598568551306, 0.40992641991211487, 0.40989686002996634, 0.4098673060378934, 0.4098377579347225, 0.40980821571927994, 0.40977867939039253, 0.4097491489468874, 0.4097196243875916, 0.4096901057113326, 0.4096605929169381, 0.40963108600323606, 0.40960158496905447, 0.40957208981322185, 0.4095426005345668, 0.4095131171319182, 0.40948363960410494, 0.40945416794995654, 0.40942470216830246, 0.4093952422579725, 0.40936578821779673, 0.4093363400466052, 0.40930689774322865, 0.40927746130649756, 0.4092480307352431, 0.40921860602829624, 0.40918918718448843, 0.4091597742026515, 0.40913036708161715, 0.40910096582021743, 0.4090715704172848, 0.40904218087165195, 0.40901279718215144, 0.40898341934761645, 0.4089540473668803, 0.40892468123877634, 0.4088953209621384, 0.4088659665358005, 0.40883661795859666, 0.40880727522936156, 0.40877793834692966, 0.408748607310136, 0.40871928211781566, 0.408689962768804, 0.4086606492619367, 0.40863134159604936, 0.40860203976997833, 0.40857274378255964, 0.40854345363262995, 0.4085141693190261, 0.40848489084058487, 0.4084556181961436, 0.4084263513845398, 0.4083970904046111, 0.4083678352551954, 0.4083385859351307, 0.40830934244325556, 0.4082801047784086, 0.40825087293942863, 0.4082216469251546, 0.408192426734426, 0.4081632123660823, 0.40813400381896314, 0.4081048010919087, 0.4080756041837591, 0.40804641309335477, 0.40801722781953664, 0.4079880483611453, 0.4079588747170222, 0.4079297068860084, 0.4079005448669457, 0.4078713886586761, 0.40784223826004146, 0.40781309366988405, 0.40778395488704655, 0.40775482191037166, 0.4077256947387024, 0.4076965733708819, 0.4076674578057538, 0.40763834804216176, 0.4076092440789496, 0.40758014591496156, 0.40755105354904186, 0.40752196698003523, 0.4074928862067866, 0.4074638112281409, 0.4074347420429435, 0.40740567865003996, 0.40737662104827593, 0.40734756923649745, 0.4073185232135509, 0.4072894829782825, 0.40726044852953897, 0.40723141986616734, 0.4072023969870147, 0.40717337989092833, 0.40714436857675607, 0.4071153630433455, 0.4070863632895448, 0.4070573693142022, 0.40702838111616635, 0.4069993986942858, 0.4069704220474097, 0.4069414511743872, 0.40691248607406766, 0.40688352674530087, 0.4068545731869367, 0.40682562539782513, 0.4067966833768168, 0.406767747122762, 0.40673881663451167, 0.4067098919109169, 0.4066809729508289, 0.40665205975309926, 0.40662315231657953, 0.40659425064012167, 0.4065653547225781, 0.406536464562801, 0.4065075801596432, 0.4064787015119574, 0.40644982861859696, 0.40642096147841483, 0.40639210009026483, 0.4063632444530007, 0.4063343945654764, 0.40630555042654626, 0.40627671203506466, 0.4062478793898863, 0.4062190524898662, 0.40619023133385945, 0.4061614159207214, 0.4061326062493078, 0.40610380231847437, 0.40607500412707725, 0.4060462116739726, 0.4060174249580171, 0.40598864397806744, 0.40595986873298057, 0.40593109922161374, 0.40590233544282445, 0.4058735773954702, 0.4058448250784089, 0.4058160784904989, 0.40578733763059827, 0.4057586024975658, 0.4057298730902601, 0.40570114940754026, 0.4056724314482656, 0.40564371921129555, 0.4056150126954898, 0.4055863118997084, 0.40555761682281133, 0.40552892746365915, 0.4055002438211125, 0.405471565894032, 0.40544289368127895, 0.40541422718171455, 0.4053855663942003, 0.405356911317598, 0.4053282619507696, 0.4052996182925774, 0.40527098034188375, 0.4052423480975513, 0.40521372155844293, 0.40518510072342184, 0.40515648559135126, 0.40512787616109497, 0.4050992724315165]\n"
     ]
    },
    {
     "data": {
      "image/png": "[encoded data removed]",
      "text/plain": [
       "<Figure size 700x700 with 1 Axes>"
      ]
     },
     "metadata": {},
     "output_type": "display_data"
    }
   ],
   "source": [
    "print(histories[0])\n",
    "plt.figure(figsize=(7, 7))\n",
    "plt.plot(X_train[:,1], y_train, 'ro', ms=1, mec='k')\n",
    "plt.ylabel('Price in USD')\n",
    "plt.xlabel('sq.ft')\n",
    "plt.plot(X_train[:, 1], np.dot(X_train, theta), 'o')\n",
    "plt.plot(X_train[:, 1], np.dot(X_train, theta_pinv), '-')\n",
    "\n",
    "plt.legend(['Training data', 'Linear regression', 'Best theta']);"
   ]
  },
  {
   "cell_type": "markdown",
   "metadata": {
    "nbgrader": {
     "grade": false,
     "grade_id": "cell-e77c602466fab37d",
     "locked": true,
     "schema_version": 1,
     "solution": false
    }
   },
   "source": [
    "##### 7. Generalizing to Multiple Features (10 points)\n",
    "\n",
    "Most datasets have more than one feature, and some might have thousands of features. In those cases, we use a multivariate linear regression model. The regression equation is similar to that of simple linear regression equation:\n",
    "\n",
    "$$\n",
    "\\hat{y} = \\theta^T x = \\theta_0 + \\theta_1 x_1 + ... + \\theta_p x_p\n",
    "$$\n",
    "\n",
    "If you wrote proper vectorized code, this part should be trivial and work without changes. If this is not the case, you should go back and edit your functions such that they support both multivariate and single variable regression. **Make sure to allow for an arbitrary number of features and your code should not explicitly check the dimensionality of the input**. "
   ]
  },
  {
   "cell_type": "code",
   "execution_count": null,
   "metadata": {
    "ExecuteTime": {
     "start_time": "2024-04-09T10:27:04.113998Z"
    },
    "nbgrader": {
     "grade": false,
     "grade_id": "cell-15626dda8db26550",
     "locked": true,
     "schema_version": 1,
     "solution": false
    }
   },
   "outputs": [],
   "source": [
    "# Read comma separated data\n",
    "df = pd.read_csv('data.csv')\n",
    "df.head()"
   ]
  },
  {
   "cell_type": "markdown",
   "metadata": {
    "nbgrader": {
     "grade": false,
     "grade_id": "cell-2dc0f4dc3491520c",
     "locked": true,
     "schema_version": 1,
     "solution": false
    }
   },
   "source": [
    "### Preprocessing\n",
    "\n",
    "Like in the single variable case, we need to create a numpy array from the dataframe. Before doing so, we should notice that some of the features are clearly irrelevant so we will go ahead and drop them."
   ]
  },
  {
   "cell_type": "code",
   "execution_count": null,
   "metadata": {
    "ExecuteTime": {
     "start_time": "2024-04-09T10:27:04.116411Z"
    },
    "nbgrader": {
     "grade": true,
     "grade_id": "cell-a87b4027bd3bda4b",
     "locked": false,
     "points": 0,
     "schema_version": 1,
     "solution": true
    }
   },
   "outputs": [],
   "source": [
    "X = df.drop(columns=['price', 'id', 'date']).values\n",
    "y = df['price'].values"
   ]
  },
  {
   "cell_type": "markdown",
   "metadata": {
    "nbgrader": {
     "grade": false,
     "grade_id": "cell-1aa12f54513b1efa",
     "locked": true,
     "schema_version": 1,
     "solution": false
    }
   },
   "source": [
    "Use the same `preprocess` function you implemented previously. Notice that proper vectorized implementation should work regardless of the dimensionality of the input. You might want to check that your code in the previous parts still works."
   ]
  },
  {
   "cell_type": "code",
   "execution_count": null,
   "metadata": {
    "ExecuteTime": {
     "start_time": "2024-04-09T10:27:04.119199Z"
    },
    "nbgrader": {
     "grade": false,
     "grade_id": "cell-f40a9df530db9399",
     "locked": true,
     "schema_version": 1,
     "solution": false
    }
   },
   "outputs": [],
   "source": [
    "# preprocessing\n",
    "X, y = preprocess(X, y)"
   ]
  },
  {
   "cell_type": "code",
   "execution_count": null,
   "metadata": {
    "ExecuteTime": {
     "start_time": "2024-04-09T10:27:04.121004Z"
    }
   },
   "outputs": [],
   "source": [
    "# training and validation split \n",
    "np.random.seed(42)\n",
    "indices = np.random.permutation(X.shape[0])\n",
    "idx_train, idx_val = indices[:int(0.8*X.shape[0])], indices[int(0.8*X.shape[0]):]\n",
    "X_train, X_val = X[idx_train,:], X[idx_val,:]\n",
    "y_train, y_val = y[idx_train], y[idx_val]"
   ]
  },
  {
   "cell_type": "markdown",
   "metadata": {},
   "source": [
    "### Data Visualization\n",
    "\n",
    "Using 3D visualization, we can still observe trends in the data. Visualizing additional dimensions requires advanced techniques we will learn later in the course."
   ]
  },
  {
   "cell_type": "code",
   "execution_count": null,
   "metadata": {
    "ExecuteTime": {
     "start_time": "2024-04-09T10:27:04.122177Z"
    },
    "nbgrader": {
     "grade": false,
     "grade_id": "cell-0c68216a26a9b5af",
     "locked": true,
     "schema_version": 1,
     "solution": false
    }
   },
   "outputs": [],
   "source": [
    "%matplotlib inline\n",
    "import matplotlib.pyplot as plt\n",
    "from mpl_toolkits.mplot3d import Axes3D  \n",
    "\n",
    "# Create figure\n",
    "fig = plt.figure(figsize=(5,5))\n",
    "\n",
    "# Create 3D axes \n",
    "ax = fig.add_subplot(111, projection='3d')  \n",
    "\n",
    "# Plot data\n",
    "xx = X_train[:, 1][:1000]\n",
    "yy = X_train[:, 2][:1000]\n",
    "zz = y_train[:1000]\n",
    "ax.scatter(xx, yy, zz, marker='o')\n",
    "\n",
    "# Set labels\n",
    "ax.set_xlabel('bathrooms')\n",
    "ax.set_ylabel('sqft_living')\n",
    "ax.set_zlabel('price')\n",
    "\n",
    "plt.show()\n"
   ]
  },
  {
   "cell_type": "markdown",
   "metadata": {
    "nbgrader": {
     "grade": false,
     "grade_id": "cell-70fcd47d69caea00",
     "locked": true,
     "schema_version": 1,
     "solution": false
    }
   },
   "source": [
    "### Data Analysis\n",
    "\n",
    "Make sure the functions `apply_bias_trick`, `compute_loss`, `gradient_descent`, `gradient_descent_stop_condition` and `compute_pinv` work on the multi-dimensional dataset. If you make any changes, make sure your code still works on the simple regression of Part 2. "
   ]
  },
  {
   "cell_type": "code",
   "execution_count": null,
   "metadata": {
    "ExecuteTime": {
     "start_time": "2024-04-09T10:27:04.123215Z"
    },
    "nbgrader": {
     "grade": true,
     "grade_id": "cell-2985911f4b7af3e1",
     "locked": false,
     "points": 0,
     "schema_version": 1,
     "solution": true
    }
   },
   "outputs": [],
   "source": [
    "# bias trick\n",
    "X_train = apply_bias_trick(X_train)\n",
    "X_val = apply_bias_trick(X_val)\n",
    "\n",
    "X_train.shape, X_val.shape"
   ]
  },
  {
   "cell_type": "code",
   "execution_count": null,
   "metadata": {
    "ExecuteTime": {
     "start_time": "2024-04-09T10:27:04.124726Z"
    },
    "nbgrader": {
     "grade": false,
     "grade_id": "cell-81ab741781b2f6ec",
     "locked": true,
     "schema_version": 1,
     "solution": false
    }
   },
   "outputs": [],
   "source": [
    "# calculating the loss\n",
    "shape = X_train.shape[1]\n",
    "theta = np.ones(shape)\n",
    "J = compute_loss(X_train, y_train, theta)"
   ]
  },
  {
   "cell_type": "code",
   "execution_count": null,
   "metadata": {
    "ExecuteTime": {
     "start_time": "2024-04-09T10:27:04.127743Z"
    },
    "nbgrader": {
     "grade": false,
     "grade_id": "cell-6f25fb05bd6c648a",
     "locked": true,
     "schema_version": 1,
     "solution": false
    }
   },
   "outputs": [],
   "source": [
    "# running the efficient version of gradient descent\n",
    "np.random.seed(42)\n",
    "shape = X_train.shape[1]\n",
    "theta = np.random.random(shape)\n",
    "iterations = 40000\n",
    "theta, J_history = gradient_descent_stop_condition(X_train ,y_train, theta, best_learning_rate, iterations)"
   ]
  },
  {
   "cell_type": "code",
   "execution_count": null,
   "metadata": {
    "ExecuteTime": {
     "start_time": "2024-04-09T10:27:04.128749Z"
    },
    "nbgrader": {
     "grade": false,
     "grade_id": "cell-827d1de1293be51f",
     "locked": true,
     "schema_version": 1,
     "solution": false
    }
   },
   "outputs": [],
   "source": [
    "# calculating the pseudoinverse\n",
    "theta_pinv = compute_pinv(X_train ,y_train)\n",
    "J_pinv = compute_loss(X_train, y_train, theta_pinv)"
   ]
  },
  {
   "cell_type": "markdown",
   "metadata": {},
   "source": [
    "The code below plots the progression of the gradient descent. Use this to validate your code. Notice we use logarithmic scale for the number of iterations."
   ]
  },
  {
   "cell_type": "code",
   "execution_count": null,
   "metadata": {
    "ExecuteTime": {
     "start_time": "2024-04-09T10:27:04.130571Z"
    },
    "nbgrader": {
     "grade": false,
     "grade_id": "cell-4fa207b72d2445c2",
     "locked": true,
     "schema_version": 1,
     "solution": false
    }
   },
   "outputs": [],
   "source": [
    "plt.plot(np.arange(len(J_history)), J_history)\n",
    "plt.xscale('log')\n",
    "plt.xlabel('Iterations')\n",
    "plt.ylabel('Loss')\n",
    "plt.title('Loss as a function of iterations - multivariate linear regression')\n",
    "plt.hlines(y = J_pinv, xmin = 0, xmax = len(J_history), color='r',\n",
    "           linewidth = 1, linestyle = 'dashed')\n",
    "plt.show()"
   ]
  },
  {
   "cell_type": "markdown",
   "metadata": {
    "nbgrader": {
     "grade": false,
     "grade_id": "cell-cad652570cee3629",
     "locked": true,
     "schema_version": 1,
     "solution": false
    }
   },
   "source": [
    "## 8. Forward feature selection (12 points)\n",
    "\n",
    "Adding features to a regression model makes it more complicated and potentially more powerful, but it does not necessarily improve its performance. Forward feature selection is a greedy, iterative algorithm used to select the most informative features for a predictive model. This algorithm iteratively adds the feature that obtains the best prediction of the target value in the validation data. \n",
    "\n",
    "Implement forward feature selection using the following guidelines: \n",
    "1. Start with an empty set of model features $M\\leftarrow\\emptyset$.\n",
    "1. For each feature $j\\notin M$, do the following:\n",
    "    - Use the training data to train a linear regression model using the features in $M\\cup\\{j\\}$\n",
    "    - Evaluate this model's performance by calculating its loss on the validation data.\n",
    "1. Choose the feature, $j^*$, which provides the best model performance above and add it to the set of model features: $M\\leftarrow M\\cup\\{j^*\\}$.\n",
    "1. Repeat steps 2-3 until you have five features (not including the bias parameter).\n",
    "\n",
    "---\n",
    "Open `hw1.py` and complete the function `forward_feature_selection`.\n",
    "\n",
    "**Note that you should use the inputs as provided in the code below. Do not forget to add the bias parameter inside `forward_feature_selection`**."
   ]
  },
  {
   "cell_type": "code",
   "execution_count": null,
   "metadata": {
    "ExecuteTime": {
     "start_time": "2024-04-09T10:27:04.132099Z"
    }
   },
   "outputs": [],
   "source": [
    "df = pd.read_csv('data.csv')\n",
    "feature_names = df.drop(columns=['price', 'id', 'date']).columns.values\n",
    "X = df.drop(columns=['price', 'id', 'date']).values\n",
    "y = df['price'].values\n",
    "\n",
    "# preprocessing\n",
    "X, y = preprocess(X, y)\n",
    "\n",
    "# training and validation split\n",
    "np.random.seed(42)\n",
    "indices = np.random.permutation(X.shape[0])\n",
    "idx_train, idx_val = indices[:int(0.8*X.shape[0])], indices[int(0.8*X.shape[0]):]\n",
    "X_train, X_val = X[idx_train,:], X[idx_val,:]\n",
    "y_train, y_val = y[idx_train], y[idx_val]"
   ]
  },
  {
   "cell_type": "code",
   "execution_count": null,
   "metadata": {
    "ExecuteTime": {
     "start_time": "2024-04-09T10:27:04.133547Z"
    }
   },
   "outputs": [],
   "source": [
    "from hw1 import forward_feature_selection"
   ]
  },
  {
   "cell_type": "code",
   "execution_count": null,
   "metadata": {
    "ExecuteTime": {
     "start_time": "2024-04-09T10:27:04.136532Z"
    }
   },
   "outputs": [],
   "source": [
    "ffs = forward_feature_selection(X_train, y_train, X_val, y_val, best_learning_rate, iterations)\n",
    "for feature in ffs:\n",
    "    print(feature_names[feature])"
   ]
  },
  {
   "cell_type": "markdown",
   "metadata": {},
   "source": [
    "## 9. Polynomial regression (12 points)\n",
    "\n",
    "Now, we will try to model the target value using a polynomial of degree 2 of the features. Recall that this can be done by applying the algorithms for linear regression on transformed input.\n",
    "\n",
    "### Transform The Data\n",
    "\n",
    "Implement a function that takes a data matrix and creates the appropriate feature matrix for solving the degree-2 polynomial regression. The function should take a pandas DataFrame as input and should return a new DataFrame with all relevant composite features. If the input DataFrame has $p$ features, then the returned DataFrame should have $2p+\\frac{p(p-1)}{2}$ composite features: all original features, all original features squared, and the product of all feature pairs. The names of composite features in the returned DataFrame should reflect their meaning. Examples: `sqft_lot`, `yr_built^2`, `bedrooms*bathrooms`.\n",
    "\n",
    "Open `hw1.py` and complete the function `create_square_features`.\n"
   ]
  },
  {
   "cell_type": "code",
   "execution_count": null,
   "metadata": {
    "ExecuteTime": {
     "start_time": "2024-04-09T10:27:04.138300Z"
    }
   },
   "outputs": [],
   "source": [
    "from hw1 import create_square_features"
   ]
  },
  {
   "cell_type": "code",
   "execution_count": null,
   "metadata": {
    "ExecuteTime": {
     "start_time": "2024-04-09T10:27:04.139548Z"
    }
   },
   "outputs": [],
   "source": [
    "df = pd.read_csv('data.csv')\n",
    "\n",
    "y = df['price'].values\n",
    "df = df.drop(columns=['price', 'id', 'date'])\n",
    "df = df.astype('float64')\n",
    "df_poly = create_square_features(df)\n",
    "X = df_poly.values\n",
    "X.shape, y.shape"
   ]
  },
  {
   "cell_type": "code",
   "execution_count": null,
   "metadata": {
    "ExecuteTime": {
     "start_time": "2024-04-09T10:27:04.140909Z"
    }
   },
   "outputs": [],
   "source": [
    "# preprocessing\n",
    "X, y = preprocess(X, y)"
   ]
  },
  {
   "cell_type": "code",
   "execution_count": null,
   "metadata": {
    "ExecuteTime": {
     "start_time": "2024-04-09T10:27:04.142803Z"
    }
   },
   "outputs": [],
   "source": [
    "# training and validation split\n",
    "np.random.seed(42)\n",
    "indices = np.random.permutation(X.shape[0])\n",
    "idx_train, idx_val = indices[:int(0.8*X.shape[0])], indices[int(0.8*X.shape[0]):]\n",
    "X_train, X_val = X[idx_train,:], X[idx_val,:]\n",
    "y_train, y_val = y[idx_train], y[idx_val]"
   ]
  },
  {
   "cell_type": "code",
   "execution_count": null,
   "metadata": {
    "ExecuteTime": {
     "start_time": "2024-04-09T10:27:04.144377Z"
    }
   },
   "outputs": [],
   "source": [
    "X_train.shape, X_val.shape, y_train.shape, y_val.shape"
   ]
  },
  {
   "cell_type": "code",
   "execution_count": null,
   "metadata": {
    "ExecuteTime": {
     "start_time": "2024-04-09T10:27:04.145777Z"
    }
   },
   "outputs": [],
   "source": [
    "feature_names = df_poly.columns.values"
   ]
  },
  {
   "cell_type": "markdown",
   "metadata": {},
   "source": [
    "\n",
    "### Solve The Regression Problem\n",
    "\n",
    "After you obtain the polynomial dataframe, use forward feature selection to find (and print) the five best composite features."
   ]
  },
  {
   "cell_type": "code",
   "execution_count": null,
   "metadata": {
    "ExecuteTime": {
     "start_time": "2024-04-09T10:27:04.147012Z"
    }
   },
   "outputs": [],
   "source": [
    "ffs = forward_feature_selection(X_train, y_train, X_val, y_val, best_learning_rate, iterations)"
   ]
  },
  {
   "cell_type": "code",
   "execution_count": null,
   "metadata": {
    "ExecuteTime": {
     "start_time": "2024-04-09T10:27:04.148064Z"
    }
   },
   "outputs": [],
   "source": [
    "for feature in ffs:\n",
    "    print(feature_names[feature])"
   ]
  }
 ],
 "metadata": {
  "celltoolbar": "Create Assignment",
  "kernelspec": {
   "display_name": "Python 3.8 (pyenv)",
   "language": "python",
   "name": "py38"
  },
  "language_info": {
   "codemirror_mode": {
    "name": "ipython",
    "version": 3
   },
   "file_extension": ".py",
   "mimetype": "text/x-python",
   "name": "python",
   "nbconvert_exporter": "python",
   "pygments_lexer": "ipython3",
   "version": "3.8.18"
  }
 },
 "nbformat": 4,
 "nbformat_minor": 4
}
