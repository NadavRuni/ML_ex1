{
 "cells": [
  {
   "cell_type": "markdown",
   "metadata": {
    "nbgrader": {
     "grade": false,
     "grade_id": "cell-35def0d0f4b47a0a",
     "locked": true,
     "schema_version": 1,
     "solution": false
    }
   },
   "source": [
    "# Exercise 1: Regression\n",
    "\n",
    "### Make sure that you read and fully understand all the guidelines listed below before you proceed with the exercise.\n",
    "\n",
    "* HW assignments are a significant part of the learning experience in this course and contribute 50% to your final grade. So, make sure to devote the appropriate time to them.\n",
    "* **Sharing solutions with someone who is not your submitting partner is strictly prohibited**. This includes reading someone else's code or sharing your code / posting it somewhere.\n",
    "* Appeals regarding submissions that do not follow the guidelines will not be accepted. \n",
    "\n",
    "\n",
    "### Guidelines for Programming Exercises:\n",
    "\n",
    "* Complete the required functions in `hw1.py`. Any modifications to this notebook will not be tested by our automated tests.\n",
    "* Write **efficient**, **vectorized** code whenever possible. Some calculations in this exercise can take several minutes when implemented efficiently, but will take much longer otherwise. Unnecessary loops will result in point deductions.\n",
    "* You are responsible for the correctness of your code. You can add tests to this jupyter notebook to validate your solution. The contents of this jupyter notebook will not be graded or checked.\n",
    "* You are allowed to use functions and methods from the [Python Standard Library](https://docs.python.org/3/library/), numpy and pandas only. **Do not import anything else.**\n",
    "* Use `numpy` version 1.15.4 or higher.\n",
    "* Your code must run without errors. Code that cannot run will not be graded.\n",
    "* Your code will be tested using automated scripts. So, failure to follow the instructions may lead to test failure, which might significantly affect your grade. \n",
    "\n",
    "\n",
    "### Guidlines for Theoretical Exercises\n",
    "* Your solution should be written or typed and submitted in a separate file `hw1.pdf`.\n",
    "* If you scan a handwritten solution, make sure that your handwriting is legible and the scan quality is good.\n",
    "* You are expected to solve the questions analytically and provide a step-by-step solution. \n",
    "* It is okay and often recommended to use python to carry out the computations. \n",
    "* You may use the lecture slides and previous homework assignments as references, unless explicitly asked to prove a result from class. \n",
    "\n",
    "### Submission Guidelines:\n",
    "* Submit your solutiuon in a zip file that contains: \n",
    "  - The `hw1.py` script with your solution to the progamming exercise\n",
    "  - This notebook with your added tests (this is not checked or graded)\n",
    "  - The `hw1.pdf` file with your solution to the theoretical exercises.\n",
    "  \n",
    "* The name of the zip file should contain your ID(s). For example, `hw1_123456789_987654321.zip` if you submitted in pairs and `hw1_123456789.zip` if you submitted the exercise alone.\n",
    "* Please use **only a zip** file in your submission.\n",
    "\n",
    "---\n",
    "---\n",
    "\n",
    "## Please sign that you have read and understood the instructions: \n",
    "\n",
    "### *** YOUR ID HERE ***\n",
    "\n",
    "---\n",
    "---"
   ]
  },
  {
   "cell_type": "markdown",
   "metadata": {},
   "source": [
    "# Part 1: Theoretical Exercises (16 points)\n",
    "\n",
    "We have the following data:\n",
    "$$\n",
    "\\begin{array}{c|c}\n",
    "x & y \\\\\n",
    "\\hline\n",
    "-1 & -1 \\\\\n",
    "-1 & 1 \\\\\n",
    "1 & 2 \\\\\n",
    "2 & 3 \\\\\n",
    "\\end{array}\n",
    "$$\n",
    "1. We would like to fit a linear regression model to this data for the purpose of predicting future values of $y$ from $x$.\n",
    "    - Write the data matrix $X$ for this regression. Make sure to include the bias term.\n",
    "    - Write the pseudo inverse $X^\\dagger$ of $X$.\n",
    "    - Use $X^\\dagger$ to find the vector $\\theta^* \\in \\mathbb R^2$ that minimizes the sum of squares loss:\n",
    "    $$\n",
    "    J(\\theta) = \\sum_{i=1}^n \\left( \\theta^\\top (1,x^{(i)}) - y^{(i)}  \\right)^2\n",
    "    $$\n",
    "    - Compute the minimum loss $J(\\theta^*)$.\n",
    "2. Confirm that this is the minimum loss using calculus.\n",
    "    - Exprss the loss in the form\n",
    "    $   J(\\theta) = A \\theta_0^2 + B \\theta_1 \\theta_0 + C \\theta_1^2 + D \\theta_0 + E \\theta_1 + F$,\n",
    "      for some $A$, $B$, $C$, $D$, $E$, and $F$ that depend on $x$ and $y$.\n",
    "    - Find an expression for the gradient $\\nabla J(\\theta) \\in \\mathbb R^2$ for aritrary $\\theta \\in \\mathbb R^2$.  \n",
    "    - Show that $\\nabla J(\\theta^*) = 0$.\n",
    "3. Consider the prediction of $y$ at a test point $x=1.5$. \n",
    "    - What is the predicted value of $y$ at this point based on linear regression with $\\theta^*$?\n",
    "    - What is the predicted value of $y$ at this point based on K-NN with $K=2$?"
   ]
  },
  {
   "cell_type": "markdown",
   "metadata": {},
   "source": [
    "# Part 2: Coding Assignment (84 points)"
   ]
  },
  {
   "cell_type": "code",
   "execution_count": 1,
   "metadata": {
    "ExecuteTime": {
     "end_time": "2025-04-02T08:28:16.252304Z",
     "start_time": "2025-04-02T08:28:16.233731Z"
    },
    "nbgrader": {
     "grade": false,
     "grade_id": "cell-5ed0076cec86f623",
     "locked": true,
     "schema_version": 1,
     "solution": false
    }
   },
   "outputs": [],
   "source": [
    "import numpy as np # used for scientific computing\n",
    "import pandas as pd # used for data analysis and manipulation\n",
    "import matplotlib.pyplot as plt # used for visualization and plotting\n",
    "np.random.seed(42) \n",
    "\n",
    "# make the notebook automatically reload external python modules\n",
    "%load_ext autoreload\n",
    "%autoreload 2"
   ]
  },
  {
   "cell_type": "markdown",
   "metadata": {
    "nbgrader": {
     "grade": false,
     "grade_id": "cell-916f46de8cde2ca7",
     "locked": true,
     "schema_version": 1,
     "solution": false
    }
   },
   "source": [
    "## 1. Data Loading, Exploration, and Preprocessing (10 points)\n",
    "\n",
    "For the following exercise, we will use a dataset containing housing prices in King County. The dataset contains 5,000 observations with 18 features and a single target value - the house price. \n",
    "\n",
    "First, we will read and explore the data using pandas and the `.read_csv` method. Pandas is an open source library providing high-performance, easy-to-use data structures and data analysis tools for the Python programming language."
   ]
  },
  {
   "cell_type": "code",
   "execution_count": 2,
   "metadata": {
    "ExecuteTime": {
     "end_time": "2024-04-09T10:27:04.054729Z",
     "start_time": "2024-04-09T10:27:02.898466Z"
    },
    "nbgrader": {
     "grade": false,
     "grade_id": "cell-9ef8b2769c2c1949",
     "locked": true,
     "schema_version": 1,
     "solution": false
    }
   },
   "outputs": [],
   "source": [
    "# Read comma separated data\n",
    "df = pd.read_csv('data.csv')\n",
    "# df stands for dataframe, which is the default format for datasets in pandas"
   ]
  },
  {
   "cell_type": "markdown",
   "metadata": {
    "nbgrader": {
     "grade": false,
     "grade_id": "cell-6966afc155aa6616",
     "locked": true,
     "schema_version": 1,
     "solution": false
    }
   },
   "source": [
    "### Data Exploration\n",
    "A good practice in data-oriented projects is to explore and characterize general properties of the data. Start by looking at the top of the dataset using the `df.head()` command. This will be the first indication that you read your data properly, and that the headers are correct. Next, you can use `df.describe()` to show statistics on the data and check for trends and irregularities."
   ]
  },
  {
   "cell_type": "code",
   "execution_count": 3,
   "metadata": {
    "ExecuteTime": {
     "end_time": "2024-04-09T10:27:04.063657Z",
     "start_time": "2024-04-09T10:27:04.060650Z"
    }
   },
   "outputs": [
    {
     "data": {
      "text/html": [
       "<div>\n",
       "<style scoped>\n",
       "    .dataframe tbody tr th:only-of-type {\n",
       "        vertical-align: middle;\n",
       "    }\n",
       "\n",
       "    .dataframe tbody tr th {\n",
       "        vertical-align: top;\n",
       "    }\n",
       "\n",
       "    .dataframe thead th {\n",
       "        text-align: right;\n",
       "    }\n",
       "</style>\n",
       "<table border=\"1\" class=\"dataframe\">\n",
       "  <thead>\n",
       "    <tr style=\"text-align: right;\">\n",
       "      <th></th>\n",
       "      <th>id</th>\n",
       "      <th>date</th>\n",
       "      <th>price</th>\n",
       "      <th>bedrooms</th>\n",
       "      <th>bathrooms</th>\n",
       "      <th>sqft_living</th>\n",
       "      <th>sqft_lot</th>\n",
       "      <th>floors</th>\n",
       "      <th>waterfront</th>\n",
       "      <th>view</th>\n",
       "      <th>condition</th>\n",
       "      <th>grade</th>\n",
       "      <th>sqft_above</th>\n",
       "      <th>yr_built</th>\n",
       "      <th>yr_renovated</th>\n",
       "      <th>zipcode</th>\n",
       "      <th>lat</th>\n",
       "      <th>long</th>\n",
       "      <th>sqft_living15</th>\n",
       "      <th>sqft_lot15</th>\n",
       "    </tr>\n",
       "  </thead>\n",
       "  <tbody>\n",
       "    <tr>\n",
       "      <th>0</th>\n",
       "      <td>7129300520</td>\n",
       "      <td>20141013T000000</td>\n",
       "      <td>221900.0</td>\n",
       "      <td>3</td>\n",
       "      <td>1.00</td>\n",
       "      <td>1180</td>\n",
       "      <td>5650</td>\n",
       "      <td>1.0</td>\n",
       "      <td>0</td>\n",
       "      <td>0</td>\n",
       "      <td>3</td>\n",
       "      <td>7</td>\n",
       "      <td>1180</td>\n",
       "      <td>1955</td>\n",
       "      <td>0</td>\n",
       "      <td>98178</td>\n",
       "      <td>47.5112</td>\n",
       "      <td>-122.257</td>\n",
       "      <td>1340</td>\n",
       "      <td>5650</td>\n",
       "    </tr>\n",
       "    <tr>\n",
       "      <th>1</th>\n",
       "      <td>6414100192</td>\n",
       "      <td>20141209T000000</td>\n",
       "      <td>538000.0</td>\n",
       "      <td>3</td>\n",
       "      <td>2.25</td>\n",
       "      <td>2570</td>\n",
       "      <td>7242</td>\n",
       "      <td>2.0</td>\n",
       "      <td>0</td>\n",
       "      <td>0</td>\n",
       "      <td>3</td>\n",
       "      <td>7</td>\n",
       "      <td>2170</td>\n",
       "      <td>1951</td>\n",
       "      <td>1991</td>\n",
       "      <td>98125</td>\n",
       "      <td>47.7210</td>\n",
       "      <td>-122.319</td>\n",
       "      <td>1690</td>\n",
       "      <td>7639</td>\n",
       "    </tr>\n",
       "    <tr>\n",
       "      <th>2</th>\n",
       "      <td>5631500400</td>\n",
       "      <td>20150225T000000</td>\n",
       "      <td>180000.0</td>\n",
       "      <td>2</td>\n",
       "      <td>1.00</td>\n",
       "      <td>770</td>\n",
       "      <td>10000</td>\n",
       "      <td>1.0</td>\n",
       "      <td>0</td>\n",
       "      <td>0</td>\n",
       "      <td>3</td>\n",
       "      <td>6</td>\n",
       "      <td>770</td>\n",
       "      <td>1933</td>\n",
       "      <td>0</td>\n",
       "      <td>98028</td>\n",
       "      <td>47.7379</td>\n",
       "      <td>-122.233</td>\n",
       "      <td>2720</td>\n",
       "      <td>8062</td>\n",
       "    </tr>\n",
       "    <tr>\n",
       "      <th>3</th>\n",
       "      <td>2487200875</td>\n",
       "      <td>20141209T000000</td>\n",
       "      <td>604000.0</td>\n",
       "      <td>4</td>\n",
       "      <td>3.00</td>\n",
       "      <td>1960</td>\n",
       "      <td>5000</td>\n",
       "      <td>1.0</td>\n",
       "      <td>0</td>\n",
       "      <td>0</td>\n",
       "      <td>5</td>\n",
       "      <td>7</td>\n",
       "      <td>1050</td>\n",
       "      <td>1965</td>\n",
       "      <td>0</td>\n",
       "      <td>98136</td>\n",
       "      <td>47.5208</td>\n",
       "      <td>-122.393</td>\n",
       "      <td>1360</td>\n",
       "      <td>5000</td>\n",
       "    </tr>\n",
       "    <tr>\n",
       "      <th>4</th>\n",
       "      <td>1954400510</td>\n",
       "      <td>20150218T000000</td>\n",
       "      <td>510000.0</td>\n",
       "      <td>3</td>\n",
       "      <td>2.00</td>\n",
       "      <td>1680</td>\n",
       "      <td>8080</td>\n",
       "      <td>1.0</td>\n",
       "      <td>0</td>\n",
       "      <td>0</td>\n",
       "      <td>3</td>\n",
       "      <td>8</td>\n",
       "      <td>1680</td>\n",
       "      <td>1987</td>\n",
       "      <td>0</td>\n",
       "      <td>98074</td>\n",
       "      <td>47.6168</td>\n",
       "      <td>-122.045</td>\n",
       "      <td>1800</td>\n",
       "      <td>7503</td>\n",
       "    </tr>\n",
       "    <tr>\n",
       "      <th>5</th>\n",
       "      <td>7237550310</td>\n",
       "      <td>20140512T000000</td>\n",
       "      <td>1230000.0</td>\n",
       "      <td>4</td>\n",
       "      <td>4.50</td>\n",
       "      <td>5420</td>\n",
       "      <td>101930</td>\n",
       "      <td>1.0</td>\n",
       "      <td>0</td>\n",
       "      <td>0</td>\n",
       "      <td>3</td>\n",
       "      <td>11</td>\n",
       "      <td>3890</td>\n",
       "      <td>2001</td>\n",
       "      <td>0</td>\n",
       "      <td>98053</td>\n",
       "      <td>47.6561</td>\n",
       "      <td>-122.005</td>\n",
       "      <td>4760</td>\n",
       "      <td>101930</td>\n",
       "    </tr>\n",
       "    <tr>\n",
       "      <th>6</th>\n",
       "      <td>1321400060</td>\n",
       "      <td>20140627T000000</td>\n",
       "      <td>257500.0</td>\n",
       "      <td>3</td>\n",
       "      <td>2.25</td>\n",
       "      <td>1715</td>\n",
       "      <td>6819</td>\n",
       "      <td>2.0</td>\n",
       "      <td>0</td>\n",
       "      <td>0</td>\n",
       "      <td>3</td>\n",
       "      <td>7</td>\n",
       "      <td>1715</td>\n",
       "      <td>1995</td>\n",
       "      <td>0</td>\n",
       "      <td>98003</td>\n",
       "      <td>47.3097</td>\n",
       "      <td>-122.327</td>\n",
       "      <td>2238</td>\n",
       "      <td>6819</td>\n",
       "    </tr>\n",
       "    <tr>\n",
       "      <th>7</th>\n",
       "      <td>2008000270</td>\n",
       "      <td>20150115T000000</td>\n",
       "      <td>291850.0</td>\n",
       "      <td>3</td>\n",
       "      <td>1.50</td>\n",
       "      <td>1060</td>\n",
       "      <td>9711</td>\n",
       "      <td>1.0</td>\n",
       "      <td>0</td>\n",
       "      <td>0</td>\n",
       "      <td>3</td>\n",
       "      <td>7</td>\n",
       "      <td>1060</td>\n",
       "      <td>1963</td>\n",
       "      <td>0</td>\n",
       "      <td>98198</td>\n",
       "      <td>47.4095</td>\n",
       "      <td>-122.315</td>\n",
       "      <td>1650</td>\n",
       "      <td>9711</td>\n",
       "    </tr>\n",
       "    <tr>\n",
       "      <th>8</th>\n",
       "      <td>2414600126</td>\n",
       "      <td>20150415T000000</td>\n",
       "      <td>229500.0</td>\n",
       "      <td>3</td>\n",
       "      <td>1.00</td>\n",
       "      <td>1780</td>\n",
       "      <td>7470</td>\n",
       "      <td>1.0</td>\n",
       "      <td>0</td>\n",
       "      <td>0</td>\n",
       "      <td>3</td>\n",
       "      <td>7</td>\n",
       "      <td>1050</td>\n",
       "      <td>1960</td>\n",
       "      <td>0</td>\n",
       "      <td>98146</td>\n",
       "      <td>47.5123</td>\n",
       "      <td>-122.337</td>\n",
       "      <td>1780</td>\n",
       "      <td>8113</td>\n",
       "    </tr>\n",
       "    <tr>\n",
       "      <th>9</th>\n",
       "      <td>3793500160</td>\n",
       "      <td>20150312T000000</td>\n",
       "      <td>323000.0</td>\n",
       "      <td>3</td>\n",
       "      <td>2.50</td>\n",
       "      <td>1890</td>\n",
       "      <td>6560</td>\n",
       "      <td>2.0</td>\n",
       "      <td>0</td>\n",
       "      <td>0</td>\n",
       "      <td>3</td>\n",
       "      <td>7</td>\n",
       "      <td>1890</td>\n",
       "      <td>2003</td>\n",
       "      <td>0</td>\n",
       "      <td>98038</td>\n",
       "      <td>47.3684</td>\n",
       "      <td>-122.031</td>\n",
       "      <td>2390</td>\n",
       "      <td>7570</td>\n",
       "    </tr>\n",
       "  </tbody>\n",
       "</table>\n",
       "</div>"
      ],
      "text/plain": [
       "           id             date      price  bedrooms  bathrooms  sqft_living  \\\n",
       "0  7129300520  20141013T000000   221900.0         3       1.00         1180   \n",
       "1  6414100192  20141209T000000   538000.0         3       2.25         2570   \n",
       "2  5631500400  20150225T000000   180000.0         2       1.00          770   \n",
       "3  2487200875  20141209T000000   604000.0         4       3.00         1960   \n",
       "4  1954400510  20150218T000000   510000.0         3       2.00         1680   \n",
       "5  7237550310  20140512T000000  1230000.0         4       4.50         5420   \n",
       "6  1321400060  20140627T000000   257500.0         3       2.25         1715   \n",
       "7  2008000270  20150115T000000   291850.0         3       1.50         1060   \n",
       "8  2414600126  20150415T000000   229500.0         3       1.00         1780   \n",
       "9  3793500160  20150312T000000   323000.0         3       2.50         1890   \n",
       "\n",
       "   sqft_lot  floors  waterfront  view  condition  grade  sqft_above  yr_built  \\\n",
       "0      5650     1.0           0     0          3      7        1180      1955   \n",
       "1      7242     2.0           0     0          3      7        2170      1951   \n",
       "2     10000     1.0           0     0          3      6         770      1933   \n",
       "3      5000     1.0           0     0          5      7        1050      1965   \n",
       "4      8080     1.0           0     0          3      8        1680      1987   \n",
       "5    101930     1.0           0     0          3     11        3890      2001   \n",
       "6      6819     2.0           0     0          3      7        1715      1995   \n",
       "7      9711     1.0           0     0          3      7        1060      1963   \n",
       "8      7470     1.0           0     0          3      7        1050      1960   \n",
       "9      6560     2.0           0     0          3      7        1890      2003   \n",
       "\n",
       "   yr_renovated  zipcode      lat     long  sqft_living15  sqft_lot15  \n",
       "0             0    98178  47.5112 -122.257           1340        5650  \n",
       "1          1991    98125  47.7210 -122.319           1690        7639  \n",
       "2             0    98028  47.7379 -122.233           2720        8062  \n",
       "3             0    98136  47.5208 -122.393           1360        5000  \n",
       "4             0    98074  47.6168 -122.045           1800        7503  \n",
       "5             0    98053  47.6561 -122.005           4760      101930  \n",
       "6             0    98003  47.3097 -122.327           2238        6819  \n",
       "7             0    98198  47.4095 -122.315           1650        9711  \n",
       "8             0    98146  47.5123 -122.337           1780        8113  \n",
       "9             0    98038  47.3684 -122.031           2390        7570  "
      ]
     },
     "execution_count": 3,
     "metadata": {},
     "output_type": "execute_result"
    }
   ],
   "source": [
    "df.head(10)"
   ]
  },
  {
   "cell_type": "code",
   "execution_count": 4,
   "metadata": {
    "ExecuteTime": {
     "end_time": "2024-04-09T10:27:04.064443Z",
     "start_time": "2024-04-09T10:27:04.064347Z"
    },
    "nbgrader": {
     "grade": true,
     "grade_id": "cell-5bd0d6844b64ea1a",
     "locked": false,
     "points": 1,
     "schema_version": 1,
     "solution": true
    }
   },
   "outputs": [
    {
     "data": {
      "text/html": [
       "<div>\n",
       "<style scoped>\n",
       "    .dataframe tbody tr th:only-of-type {\n",
       "        vertical-align: middle;\n",
       "    }\n",
       "\n",
       "    .dataframe tbody tr th {\n",
       "        vertical-align: top;\n",
       "    }\n",
       "\n",
       "    .dataframe thead th {\n",
       "        text-align: right;\n",
       "    }\n",
       "</style>\n",
       "<table border=\"1\" class=\"dataframe\">\n",
       "  <thead>\n",
       "    <tr style=\"text-align: right;\">\n",
       "      <th></th>\n",
       "      <th>id</th>\n",
       "      <th>price</th>\n",
       "      <th>bedrooms</th>\n",
       "      <th>bathrooms</th>\n",
       "      <th>sqft_living</th>\n",
       "      <th>sqft_lot</th>\n",
       "      <th>floors</th>\n",
       "      <th>waterfront</th>\n",
       "      <th>view</th>\n",
       "      <th>condition</th>\n",
       "      <th>grade</th>\n",
       "      <th>sqft_above</th>\n",
       "      <th>yr_built</th>\n",
       "      <th>yr_renovated</th>\n",
       "      <th>zipcode</th>\n",
       "      <th>lat</th>\n",
       "      <th>long</th>\n",
       "      <th>sqft_living15</th>\n",
       "      <th>sqft_lot15</th>\n",
       "    </tr>\n",
       "  </thead>\n",
       "  <tbody>\n",
       "    <tr>\n",
       "      <th>count</th>\n",
       "      <td>5.000000e+03</td>\n",
       "      <td>5.000000e+03</td>\n",
       "      <td>5000.0000</td>\n",
       "      <td>5000.000000</td>\n",
       "      <td>5000.000000</td>\n",
       "      <td>5.000000e+03</td>\n",
       "      <td>5000.000000</td>\n",
       "      <td>5000.000000</td>\n",
       "      <td>5000.000000</td>\n",
       "      <td>5000.000000</td>\n",
       "      <td>5000.000000</td>\n",
       "      <td>5000.000000</td>\n",
       "      <td>5000.000000</td>\n",
       "      <td>5000.000000</td>\n",
       "      <td>5000.000000</td>\n",
       "      <td>5000.000000</td>\n",
       "      <td>5000.000000</td>\n",
       "      <td>5000.00000</td>\n",
       "      <td>5000.000000</td>\n",
       "    </tr>\n",
       "    <tr>\n",
       "      <th>mean</th>\n",
       "      <td>4.630823e+09</td>\n",
       "      <td>5.394699e+05</td>\n",
       "      <td>3.3714</td>\n",
       "      <td>2.062150</td>\n",
       "      <td>2061.036800</td>\n",
       "      <td>1.615893e+04</td>\n",
       "      <td>1.432600</td>\n",
       "      <td>0.009400</td>\n",
       "      <td>0.243000</td>\n",
       "      <td>3.455000</td>\n",
       "      <td>7.595200</td>\n",
       "      <td>1753.151000</td>\n",
       "      <td>1966.660800</td>\n",
       "      <td>95.052800</td>\n",
       "      <td>98078.812600</td>\n",
       "      <td>47.559312</td>\n",
       "      <td>-122.215864</td>\n",
       "      <td>1976.84520</td>\n",
       "      <td>13451.164600</td>\n",
       "    </tr>\n",
       "    <tr>\n",
       "      <th>std</th>\n",
       "      <td>2.870890e+09</td>\n",
       "      <td>3.873115e+05</td>\n",
       "      <td>0.9104</td>\n",
       "      <td>0.773592</td>\n",
       "      <td>923.727509</td>\n",
       "      <td>4.600220e+04</td>\n",
       "      <td>0.510793</td>\n",
       "      <td>0.096506</td>\n",
       "      <td>0.774643</td>\n",
       "      <td>0.677692</td>\n",
       "      <td>1.166537</td>\n",
       "      <td>818.390844</td>\n",
       "      <td>28.286855</td>\n",
       "      <td>425.234932</td>\n",
       "      <td>54.126332</td>\n",
       "      <td>0.139521</td>\n",
       "      <td>0.141807</td>\n",
       "      <td>674.73601</td>\n",
       "      <td>26514.749009</td>\n",
       "    </tr>\n",
       "    <tr>\n",
       "      <th>min</th>\n",
       "      <td>1.000102e+06</td>\n",
       "      <td>7.500000e+04</td>\n",
       "      <td>0.0000</td>\n",
       "      <td>0.000000</td>\n",
       "      <td>380.000000</td>\n",
       "      <td>6.090000e+02</td>\n",
       "      <td>1.000000</td>\n",
       "      <td>0.000000</td>\n",
       "      <td>0.000000</td>\n",
       "      <td>1.000000</td>\n",
       "      <td>3.000000</td>\n",
       "      <td>380.000000</td>\n",
       "      <td>1900.000000</td>\n",
       "      <td>0.000000</td>\n",
       "      <td>98001.000000</td>\n",
       "      <td>47.155900</td>\n",
       "      <td>-122.514000</td>\n",
       "      <td>620.00000</td>\n",
       "      <td>660.000000</td>\n",
       "    </tr>\n",
       "    <tr>\n",
       "      <th>25%</th>\n",
       "      <td>2.154075e+09</td>\n",
       "      <td>3.179062e+05</td>\n",
       "      <td>3.0000</td>\n",
       "      <td>1.500000</td>\n",
       "      <td>1410.000000</td>\n",
       "      <td>5.400000e+03</td>\n",
       "      <td>1.000000</td>\n",
       "      <td>0.000000</td>\n",
       "      <td>0.000000</td>\n",
       "      <td>3.000000</td>\n",
       "      <td>7.000000</td>\n",
       "      <td>1190.000000</td>\n",
       "      <td>1949.000000</td>\n",
       "      <td>0.000000</td>\n",
       "      <td>98033.000000</td>\n",
       "      <td>47.463675</td>\n",
       "      <td>-122.329000</td>\n",
       "      <td>1490.00000</td>\n",
       "      <td>5391.500000</td>\n",
       "    </tr>\n",
       "    <tr>\n",
       "      <th>50%</th>\n",
       "      <td>4.022900e+09</td>\n",
       "      <td>4.490000e+05</td>\n",
       "      <td>3.0000</td>\n",
       "      <td>2.000000</td>\n",
       "      <td>1890.000000</td>\n",
       "      <td>7.875000e+03</td>\n",
       "      <td>1.000000</td>\n",
       "      <td>0.000000</td>\n",
       "      <td>0.000000</td>\n",
       "      <td>3.000000</td>\n",
       "      <td>7.000000</td>\n",
       "      <td>1530.000000</td>\n",
       "      <td>1968.000000</td>\n",
       "      <td>0.000000</td>\n",
       "      <td>98070.000000</td>\n",
       "      <td>47.572850</td>\n",
       "      <td>-122.235000</td>\n",
       "      <td>1820.00000</td>\n",
       "      <td>7800.000000</td>\n",
       "    </tr>\n",
       "    <tr>\n",
       "      <th>75%</th>\n",
       "      <td>7.345078e+09</td>\n",
       "      <td>6.500000e+05</td>\n",
       "      <td>4.0000</td>\n",
       "      <td>2.500000</td>\n",
       "      <td>2500.000000</td>\n",
       "      <td>1.123400e+04</td>\n",
       "      <td>2.000000</td>\n",
       "      <td>0.000000</td>\n",
       "      <td>0.000000</td>\n",
       "      <td>4.000000</td>\n",
       "      <td>8.000000</td>\n",
       "      <td>2130.000000</td>\n",
       "      <td>1990.000000</td>\n",
       "      <td>0.000000</td>\n",
       "      <td>98118.000000</td>\n",
       "      <td>47.679200</td>\n",
       "      <td>-122.129000</td>\n",
       "      <td>2340.00000</td>\n",
       "      <td>10469.250000</td>\n",
       "    </tr>\n",
       "    <tr>\n",
       "      <th>max</th>\n",
       "      <td>9.842300e+09</td>\n",
       "      <td>7.060000e+06</td>\n",
       "      <td>9.0000</td>\n",
       "      <td>6.750000</td>\n",
       "      <td>10040.000000</td>\n",
       "      <td>1.651359e+06</td>\n",
       "      <td>3.500000</td>\n",
       "      <td>1.000000</td>\n",
       "      <td>4.000000</td>\n",
       "      <td>5.000000</td>\n",
       "      <td>13.000000</td>\n",
       "      <td>7680.000000</td>\n",
       "      <td>2015.000000</td>\n",
       "      <td>2015.000000</td>\n",
       "      <td>98199.000000</td>\n",
       "      <td>47.777600</td>\n",
       "      <td>-121.315000</td>\n",
       "      <td>5790.00000</td>\n",
       "      <td>434728.000000</td>\n",
       "    </tr>\n",
       "  </tbody>\n",
       "</table>\n",
       "</div>"
      ],
      "text/plain": [
       "                 id         price   bedrooms    bathrooms   sqft_living  \\\n",
       "count  5.000000e+03  5.000000e+03  5000.0000  5000.000000   5000.000000   \n",
       "mean   4.630823e+09  5.394699e+05     3.3714     2.062150   2061.036800   \n",
       "std    2.870890e+09  3.873115e+05     0.9104     0.773592    923.727509   \n",
       "min    1.000102e+06  7.500000e+04     0.0000     0.000000    380.000000   \n",
       "25%    2.154075e+09  3.179062e+05     3.0000     1.500000   1410.000000   \n",
       "50%    4.022900e+09  4.490000e+05     3.0000     2.000000   1890.000000   \n",
       "75%    7.345078e+09  6.500000e+05     4.0000     2.500000   2500.000000   \n",
       "max    9.842300e+09  7.060000e+06     9.0000     6.750000  10040.000000   \n",
       "\n",
       "           sqft_lot       floors   waterfront         view    condition  \\\n",
       "count  5.000000e+03  5000.000000  5000.000000  5000.000000  5000.000000   \n",
       "mean   1.615893e+04     1.432600     0.009400     0.243000     3.455000   \n",
       "std    4.600220e+04     0.510793     0.096506     0.774643     0.677692   \n",
       "min    6.090000e+02     1.000000     0.000000     0.000000     1.000000   \n",
       "25%    5.400000e+03     1.000000     0.000000     0.000000     3.000000   \n",
       "50%    7.875000e+03     1.000000     0.000000     0.000000     3.000000   \n",
       "75%    1.123400e+04     2.000000     0.000000     0.000000     4.000000   \n",
       "max    1.651359e+06     3.500000     1.000000     4.000000     5.000000   \n",
       "\n",
       "             grade   sqft_above     yr_built  yr_renovated       zipcode  \\\n",
       "count  5000.000000  5000.000000  5000.000000   5000.000000   5000.000000   \n",
       "mean      7.595200  1753.151000  1966.660800     95.052800  98078.812600   \n",
       "std       1.166537   818.390844    28.286855    425.234932     54.126332   \n",
       "min       3.000000   380.000000  1900.000000      0.000000  98001.000000   \n",
       "25%       7.000000  1190.000000  1949.000000      0.000000  98033.000000   \n",
       "50%       7.000000  1530.000000  1968.000000      0.000000  98070.000000   \n",
       "75%       8.000000  2130.000000  1990.000000      0.000000  98118.000000   \n",
       "max      13.000000  7680.000000  2015.000000   2015.000000  98199.000000   \n",
       "\n",
       "               lat         long  sqft_living15     sqft_lot15  \n",
       "count  5000.000000  5000.000000     5000.00000    5000.000000  \n",
       "mean     47.559312  -122.215864     1976.84520   13451.164600  \n",
       "std       0.139521     0.141807      674.73601   26514.749009  \n",
       "min      47.155900  -122.514000      620.00000     660.000000  \n",
       "25%      47.463675  -122.329000     1490.00000    5391.500000  \n",
       "50%      47.572850  -122.235000     1820.00000    7800.000000  \n",
       "75%      47.679200  -122.129000     2340.00000   10469.250000  \n",
       "max      47.777600  -121.315000     5790.00000  434728.000000  "
      ]
     },
     "execution_count": 4,
     "metadata": {},
     "output_type": "execute_result"
    }
   ],
   "source": [
    "df.describe()"
   ]
  },
  {
   "cell_type": "markdown",
   "metadata": {
    "nbgrader": {
     "grade": false,
     "grade_id": "cell-9b9bd1b387905904",
     "locked": true,
     "schema_version": 1,
     "solution": false
    }
   },
   "source": [
    "We will start with simple linear regression with one feature by extracting the target column (`price`) and the first feature (`sqft_living`) from the dataset. We use pandas and select both columns as separate variables and transform them into a numpy array."
   ]
  },
  {
   "cell_type": "code",
   "execution_count": 5,
   "metadata": {
    "ExecuteTime": {
     "start_time": "2024-04-09T10:27:04.067277Z"
    },
    "nbgrader": {
     "grade": true,
     "grade_id": "cell-c7cd243e8b5fe5aa",
     "locked": false,
     "points": 1,
     "schema_version": 1,
     "solution": true
    }
   },
   "outputs": [
    {
     "name": "stdout",
     "output_type": "stream",
     "text": [
      "[1180 2570  770 ... 1580 1230 2200]\n"
     ]
    }
   ],
   "source": [
    "X = df['sqft_living'].values\n",
    "y = df['price'].values\n",
    "print(X)"
   ]
  },
  {
   "cell_type": "markdown",
   "metadata": {
    "nbgrader": {
     "grade": false,
     "grade_id": "cell-508e7e1a13f9bbe4",
     "locked": true,
     "schema_version": 1,
     "solution": false
    }
   },
   "source": [
    "### Normalization\n",
    "\n",
    "As the number of features grows, calculating gradients gets computationally expensive. We can speed this up by normalizing the input data to ensure all values are within the same range. This is especially important for datasets with high standard deviations or differences in the ranges of the attributes. Use [Standardization](https://en.wikipedia.org/wiki/Feature_scaling) for the fearures (`X`) and the true labels (`y`). \n",
    "\n",
    "Please note that normalization is not always necessary or a good idea. For example, normalization may not be a good idea for datasets with outliers.\n",
    "\n",
    "Implement Standartization transformation:\n",
    "$$\n",
    "x'_i = \\frac{x_i - \\bar{x}}{\\sigma},\\qquad \\bar{x} = \\frac{1}{n} \\sum_{i=1}^n x_i, \\quad \\sigma = \\sqrt{\\frac{1}{n} \\sum_{i=1}^n (x_i - \\bar{x})^2}\n",
    "$$\n",
    "(here $x = (x_1, x_2, \\dots, x_n)$ is a sequence of values)\n",
    "This transformation is applied to each feature independently, as well as to the target variable.\n",
    "\n",
    "Your implementation should not contain loops.\n",
    "\n",
    "---\n",
    "Complete the function `preprocess` in `hw1.py`"
   ]
  },
  {
   "cell_type": "code",
   "execution_count": 6,
   "metadata": {
    "ExecuteTime": {
     "end_time": "2024-04-09T10:27:04.070751Z",
     "start_time": "2024-04-09T10:27:04.069564Z"
    }
   },
   "outputs": [
    {
     "name": "stdout",
     "output_type": "stream",
     "text": [
      "[-0.9538797   0.55104357 -1.39777793 ... -0.52080825 -0.89974577\n",
      "  0.15045248]\n"
     ]
    }
   ],
   "source": [
    "from hw1 import preprocess\n",
    "\n",
    "X, y = preprocess(X, y)\n",
    "X.shape, y.shape\n",
    "print(X)"
   ]
  },
  {
   "cell_type": "markdown",
   "metadata": {},
   "source": [
    "### Train/Test Split\n",
    "\n",
    "We partition the data into two random parts: \n",
    "1. The training dataset will contain 80% of the data and will be used for model training.\n",
    "2. The validation dataset will contain the remaining 20% of the data and will be used for model evaluation.\n",
    "\n",
    "Testing a model on a dataset that was not used for training provides reliable evaluation of our model's expected performance on unseen instances."
   ]
  },
  {
   "cell_type": "code",
   "execution_count": 7,
   "metadata": {
    "ExecuteTime": {
     "end_time": "2024-04-09T10:27:04.072211Z",
     "start_time": "2024-04-09T10:27:04.072095Z"
    }
   },
   "outputs": [],
   "source": [
    "# training and validation split\n",
    "np.random.seed(42)\n",
    "indices = np.random.permutation(X.shape[0])\n",
    "idx_train, idx_val = indices[:int(0.8*X.shape[0])], indices[int(0.8*X.shape[0]):]\n",
    "X_train, X_val = X[idx_train], X[idx_val]\n",
    "y_train, y_val = y[idx_train], y[idx_val]"
   ]
  },
  {
   "cell_type": "markdown",
   "metadata": {
    "nbgrader": {
     "grade": false,
     "grade_id": "cell-0c168d036748663e",
     "locked": true,
     "schema_version": 1,
     "solution": false
    }
   },
   "source": [
    "### Data Visualization\n",
    "Another useful concept is data visualization. The code below plots the target value (`price`) against the first feature (`sqft_living`). Since we are currently considering just one feature, we can visualize its relation to the target value using a two-dimensional scatterplot. Once we consider more than two features, visualization becomes much more complicated. We will be using `matplotlib` for all data visualization purposes since it offers a wide range of visualization tools and is easy to use."
   ]
  },
  {
   "cell_type": "code",
   "execution_count": 8,
   "metadata": {
    "ExecuteTime": {
     "start_time": "2024-04-09T10:27:04.075135Z"
    },
    "nbgrader": {
     "grade": false,
     "grade_id": "cell-cbad8871e083093f",
     "locked": true,
     "schema_version": 1,
     "solution": false
    }
   },
   "outputs": [
    {
     "data": {
      "image/png": "[encoded data removed]",
      "text/plain": [
       "<Figure size 640x480 with 1 Axes>"
      ]
     },
     "metadata": {},
     "output_type": "display_data"
    }
   ],
   "source": [
    "plt.plot(X_train, y_train, 'ro', ms=1, mec='k') # the parameters control the size, shape and color of the scatter plot\n",
    "plt.ylabel('Price in USD')\n",
    "plt.xlabel('sq.ft')\n",
    "plt.show()"
   ]
  },
  {
   "cell_type": "markdown",
   "metadata": {
    "nbgrader": {
     "grade": false,
     "grade_id": "cell-c50f0a0e569142ed",
     "locked": true,
     "schema_version": 1,
     "solution": false
    }
   },
   "source": [
    "### Bias/Intercept Consideration\n",
    "\n",
    "Recall that linear regression contains a bias/intercept parameter, $\\theta_0$:\n",
    "\n",
    "$$\n",
    "\\hat{y} = \\theta^T x = \\theta_0 + \\theta_1 x_1\n",
    "$$\n",
    "\n",
    "Thus, to solve linear regression problems, we need to add an \"all-1\" column as the 0th column of the feature matrix. Do this for both the training and validation data.\n",
    "\n",
    "---\n",
    "Complete the function `apply_bias_trick` in `hw1.py`"
   ]
  },
  {
   "cell_type": "code",
   "execution_count": 9,
   "metadata": {
    "ExecuteTime": {
     "start_time": "2024-04-09T10:27:04.077336Z"
    }
   },
   "outputs": [
    {
     "name": "stdout",
     "output_type": "stream",
     "text": [
      "[[ 1.         -0.78065112]\n",
      " [ 1.         -0.21765824]\n",
      " [ 1.          1.66620254]\n",
      " ...\n",
      " [ 1.         -0.85643862]\n",
      " [ 1.         -0.3259261 ]\n",
      " [ 1.         -0.27179217]]\n"
     ]
    }
   ],
   "source": [
    "from hw1 import apply_bias_trick\n",
    "\n",
    "X_train = apply_bias_trick(X_train)\n",
    "X_val = apply_bias_trick(X_val)\n",
    "\n",
    "print(X_train)\n"
   ]
  },
  {
   "cell_type": "markdown",
   "metadata": {},
   "source": [
    "## 2. The Loss Function (5 points)\n",
    "Our task is to find the linear function of the first feature (`sqft_living`) that \"best explains\" the target (or response) variable in our dataset (`price`). Since we are currently considering only one feature, the regression formula is:\n",
    "$$\n",
    "\\hat{y} = \\theta^\\top x = \\theta_0 + \\theta_1 x_1.\n",
    "$$\n",
    "The parameter vector of our model is $\\theta = (\\theta_0, \\theta_1)$.\n",
    "\n",
    "The model that \"best explains\" the target variable in the training data minimizes the loss function $J$:\n",
    "$$\n",
    "J(\\theta) = \\frac{1}{2n} \\sum_{i=1}^{n}(\\theta^\\top x^{(i)}-y^{(i)})^2.\n",
    "$$\n",
    "This loss function is called the *mean squared error* and it is obtained by scaling the *sum of squared errors* loss shown in the lecture by a (constant) factor of $\\frac{1}{2n}$. Therefore, the minimizers of these two loss functions are identical. Scaling allows us to compare losses across datasets of different sizes.\n",
    "\n",
    "---\n",
    "Complete the function `compute_loss` in `hw1.py`"
   ]
  },
  {
   "cell_type": "code",
   "execution_count": 22,
   "metadata": {
    "ExecuteTime": {
     "start_time": "2024-04-09T10:27:04.079579Z"
    }
   },
   "outputs": [
    {
     "name": "stdout",
     "output_type": "stream",
     "text": [
      "1.6003214548835494\n"
     ]
    }
   ],
   "source": [
    "from hw1 import compute_loss\n",
    "theta = np.array([-1, 2])\n",
    "J = compute_loss(X_train, y_train, theta)\n",
    "print (J)\n"
   ]
  },
  {
   "cell_type": "markdown",
   "metadata": {},
   "source": [
    "## 3. Gradient Descent (15 points)\n",
    "\n",
    "We now wish to use *gradient descent* to find the $\\theta$ that minimizes the loss function $J(\\theta)$. We start with an initial guess for $\\theta$, and then update it sequentially as follows:\n",
    "$$\n",
    "\\theta \\leftarrow \\theta - \\eta \\nabla J(\\theta),\n",
    "$$\n",
    "where $\\eta$ is the *learning rate*. Note that this is a vector update:\n",
    "$$\n",
    "\\theta_j \\leftarrow \\theta_j - \\eta \\frac{\\partial}{\\partial \\theta_j} J(\\theta_0, \\theta_1),\\quad j=0,1.\n",
    "$$\n",
    "\n",
    "In linear regresion, the gradient is given by the following formula:\n",
    "$$\n",
    "\\nabla J(\\theta) = \\frac{1}{n} \\sum_{i=1}^n (\\theta^\\top x^{(i)}-y^{(i)})x^{(i)}.\n",
    "$$\n",
    "Specifically, when considering a single feaute, we get:\n",
    "$$\n",
    "\\begin{align*}\n",
    "\\frac{\\partial}{\\partial \\theta_0} J(\\theta_0, \\theta_1) &= \\frac{1}{n} \\sum_{i=1}^n (\\theta_0 + \\theta_1 x_1^{(i)} - y^{(i)}), \\\\\n",
    "\\frac{\\partial}{\\partial \\theta_1} J(\\theta_0, \\theta_1) &= \\frac{1}{n} \\sum_{i=1}^n (\\theta_0 + \\theta_1 x_1^{(i)} - y^{(i)})x_1^{(i)}.\n",
    "\\end{align*}\n",
    "$$\n",
    "\n",
    "---\n",
    "Complete the function `gradient_descent` in `hw1.py`"
   ]
  },
  {
   "cell_type": "code",
   "execution_count": 38,
   "metadata": {
    "ExecuteTime": {
     "start_time": "2024-04-09T10:27:04.082170Z"
    }
   },
   "outputs": [
    {
     "name": "stdout",
     "output_type": "stream",
     "text": [
      "Iteration 0 completed\n",
      "Iteration 1000 completed\n",
      "Iteration 2000 completed\n",
      "Iteration 3000 completed\n",
      "Iteration 4000 completed\n",
      "Iteration 5000 completed\n",
      "Iteration 6000 completed\n",
      "Iteration 7000 completed\n",
      "Iteration 8000 completed\n",
      "Iteration 9000 completed\n",
      "Iteration 10000 completed\n",
      "Iteration 11000 completed\n",
      "Iteration 12000 completed\n",
      "Iteration 13000 completed\n",
      "Iteration 14000 completed\n",
      "Iteration 15000 completed\n",
      "Iteration 16000 completed\n",
      "Iteration 17000 completed\n",
      "Iteration 18000 completed\n",
      "Iteration 19000 completed\n",
      "Iteration 20000 completed\n",
      "Iteration 21000 completed\n",
      "Iteration 22000 completed\n",
      "Iteration 23000 completed\n",
      "Iteration 24000 completed\n",
      "Iteration 25000 completed\n",
      "Iteration 26000 completed\n",
      "Iteration 27000 completed\n",
      "Iteration 28000 completed\n",
      "Iteration 29000 completed\n",
      "Iteration 30000 completed\n",
      "Iteration 31000 completed\n",
      "Iteration 32000 completed\n",
      "Iteration 33000 completed\n",
      "Iteration 34000 completed\n",
      "Iteration 35000 completed\n",
      "Iteration 36000 completed\n",
      "Iteration 37000 completed\n",
      "Iteration 38000 completed\n",
      "Iteration 39000 completed\n"
     ]
    }
   ],
   "source": [
    "from hw1 import gradient_descent\n",
    "\n",
    "np.random.seed(42)\n",
    "theta = np.random.random(size=2)\n",
    "iterations = 40000\n",
    "eta = 0.1\n",
    "\n",
    "theta, J_history = gradient_descent(X_train ,y_train, theta, eta, iterations)\n",
    "\n"
   ]
  },
  {
   "cell_type": "markdown",
   "metadata": {
    "nbgrader": {
     "grade": false,
     "grade_id": "cell-86125cd57f0fdb89",
     "locked": true,
     "schema_version": 1,
     "solution": false
    }
   },
   "source": [
    "You can monitor the learning process by tracing the loss as training progresses. In the following graph, we visualize the loss as a function of the iterations. This is possible since we are saving the loss value at every iteration in the `J_history` array. This visualization might help you find problems with your code. Notice that we are using a logarithmic scale for the number of iterations."
   ]
  },
  {
   "cell_type": "code",
   "execution_count": 34,
   "metadata": {
    "ExecuteTime": {
     "end_time": "2024-04-09T10:27:04.085265Z",
     "start_time": "2024-04-09T10:27:04.085138Z"
    },
    "nbgrader": {
     "grade": false,
     "grade_id": "cell-a565f1f721f6377f",
     "locked": true,
     "schema_version": 1,
     "solution": false
    }
   },
   "outputs": [
    {
     "data": {
      "image/png": "[encoded data removed]",
      "text/plain": [
       "<Figure size 640x480 with 1 Axes>"
      ]
     },
     "metadata": {},
     "output_type": "display_data"
    }
   ],
   "source": [
    "plt.plot(np.arange(iterations), J_history)\n",
    "plt.xscale('log')\n",
    "plt.xlabel('Iterations')\n",
    "plt.ylabel('Loss')\n",
    "plt.title('Loss as a function of iterations')\n",
    "plt.show()"
   ]
  },
  {
   "cell_type": "markdown",
   "metadata": {
    "nbgrader": {
     "grade": false,
     "grade_id": "cell-3bdd058ecc5db0eb",
     "locked": true,
     "schema_version": 1,
     "solution": false
    }
   },
   "source": [
    "## 4. Analytical Solution to Linear Regression (10 points)\n",
    "\n",
    "The pseudo inverse method is a direct approach to finding the best-fitting parameters of the linear model. In your implementation, **do not use `np.linalg.pinv`**. Instead, use only direct matrix multiplication as you saw in class (you can calculate the inverse of a matrix using `np.linalg.inv`).\n",
    "\n",
    "---\n",
    "Complete the function `compute_pinv` in `hw1.py`"
   ]
  },
  {
   "cell_type": "code",
   "execution_count": 35,
   "metadata": {
    "ExecuteTime": {
     "end_time": "2024-04-09T10:27:04.203177Z",
     "start_time": "2024-04-09T10:27:04.088316Z"
    }
   },
   "outputs": [],
   "source": [
    "from hw1 import compute_pinv"
   ]
  },
  {
   "cell_type": "code",
   "execution_count": 36,
   "metadata": {
    "ExecuteTime": {
     "start_time": "2024-04-09T10:27:04.091214Z"
    },
    "nbgrader": {
     "grade": false,
     "grade_id": "cell-ee89ac06af3087ae",
     "locked": true,
     "schema_version": 1,
     "solution": false
    }
   },
   "outputs": [],
   "source": [
    "theta_pinv = compute_pinv(X_train ,y_train)\n",
    "J_pinv = compute_loss(X_train, y_train, theta_pinv)"
   ]
  },
  {
   "cell_type": "markdown",
   "metadata": {},
   "source": [
    "We can add the loss of the $\\theta$ calculated using the psuedo-inverse method to our graph. This provides us with another sanity check, since the loss obtained by gradient descent should converge to the psuedo-inverse loss."
   ]
  },
  {
   "cell_type": "code",
   "execution_count": 37,
   "metadata": {
    "ExecuteTime": {
     "start_time": "2024-04-09T10:27:04.095590Z"
    },
    "nbgrader": {
     "grade": false,
     "grade_id": "cell-639b53fc41479335",
     "locked": true,
     "schema_version": 1,
     "solution": false
    }
   },
   "outputs": [
    {
     "data": {
      "image/png": "[encoded data removed]",
      "text/plain": [
       "<Figure size 640x480 with 1 Axes>"
      ]
     },
     "metadata": {},
     "output_type": "display_data"
    }
   ],
   "source": [
    "plt.plot(np.arange(len(J_history)), J_history)\n",
    "plt.xscale('log')\n",
    "plt.xlabel('Iterations')\n",
    "plt.ylabel('Loss')\n",
    "plt.title('Loss as a function of iterations')\n",
    "plt.hlines(y = J_pinv, xmin = 0, xmax = len(J_history), color='r',\n",
    "           linewidth = 1, linestyle = 'dashed')\n",
    "plt.show()"
   ]
  },
  {
   "cell_type": "markdown",
   "metadata": {},
   "source": [
    "## 5. Tuning The Learning rate (5 points)\n",
    "\n",
    "The learning rate is another factor that determines the performance of optimization algorithms. It may affect performance in several ways:\n",
    "1. If the learning rate is too high, the algorithm may diverge (see example in the lecture).\n",
    "2. If the learning rate is too low, the algorithm may converge very slowly and bloat the runtime.\n",
    "3. In non-convex optimization problems like neural network optimization (not in this course), the learning rate may not only change the speed of convergence but also the convergence point and thus the quality of the learned parameters.\n",
    "\n",
    "In the case of linear regression, unless the learning rate is very high and leads to divergence, it should only affect the convergence rate and not the convergence point. \n",
    "\n",
    "We will check several learning rates and choose the ones the attain minimum loss after a fixed number of iterations. \n",
    "\n",
    "Complete the function `find_best_learning_rate`. Use the training dataset to learn the parameters ($\\theta$), and use the **validation dataset** to compute the loss associated with these parameters.\n",
    "\n",
    "---\n",
    "Complete the function `find_best_learning_rate` in `hw1.py`"
   ]
  },
  {
   "cell_type": "markdown",
   "metadata": {
    "nbgrader": {
     "grade": false,
     "grade_id": "cell-5043aa5363cbe5c9",
     "locked": true,
     "schema_version": 1,
     "solution": false
    }
   },
   "source": [
    "## 6. Adding A Halting Condition to The Gradient Descent (5 points)\n",
    "Earlier you implemented a function `gradient_descent` that performs a fixed number of iterations. We can use a better approach for the implementation of `gradient_descent`. Instead of performing a constant number of iterations, we wish to stop when the improvement of the loss btween two consecutive iterations is smaller than $\\epsilon$=`1e-8`. \n",
    "\n",
    "---\n",
    "Complete the function `gradient_descent_stop_condition` in `hw1.py`"
   ]
  },
  {
   "cell_type": "markdown",
   "metadata": {},
   "source": [
    "**In the remaining parts of this assignment, use the function `gradient_descent_stop_condition` with the best learning rate you computed above.**"
   ]
  },
  {
   "cell_type": "code",
   "execution_count": 39,
   "metadata": {
    "ExecuteTime": {
     "start_time": "2024-04-09T10:27:04.100113Z"
    }
   },
   "outputs": [],
   "source": [
    "from hw1 import gradient_descent_stop_condition, find_best_learning_rate"
   ]
  },
  {
   "cell_type": "code",
   "execution_count": 42,
   "metadata": {
    "ExecuteTime": {
     "start_time": "2024-04-09T10:27:04.103913Z"
    },
    "nbgrader": {
     "grade": false,
     "grade_id": "cell-a8b088fe7a10910a",
     "locked": true,
     "schema_version": 1,
     "solution": false
    }
   },
   "outputs": [
    {
     "name": "stdout",
     "output_type": "stream",
     "text": [
      "eta: 1e-05\n",
      "Iteration 0 completed\n",
      "Iteration 1000 completed\n",
      "Iteration 2000 completed\n",
      "Iteration 3000 completed\n",
      "Iteration 4000 completed\n",
      "Iteration 5000 completed\n",
      "Iteration 6000 completed\n",
      "Iteration 7000 completed\n",
      "Iteration 8000 completed\n",
      "Iteration 9000 completed\n",
      "Iteration 10000 completed\n",
      "Iteration 11000 completed\n",
      "Iteration 12000 completed\n",
      "Iteration 13000 completed\n",
      "Iteration 14000 completed\n",
      "Iteration 15000 completed\n",
      "Iteration 16000 completed\n",
      "Iteration 17000 completed\n",
      "Iteration 18000 completed\n",
      "Iteration 19000 completed\n",
      "Iteration 20000 completed\n",
      "Iteration 21000 completed\n",
      "Iteration 22000 completed\n",
      "Iteration 23000 completed\n",
      "Iteration 24000 completed\n",
      "Iteration 25000 completed\n",
      "Iteration 26000 completed\n",
      "Iteration 27000 completed\n",
      "Iteration 28000 completed\n",
      "Iteration 29000 completed\n",
      "Iteration 30000 completed\n",
      "Iteration 31000 completed\n",
      "Iteration 32000 completed\n",
      "Iteration 33000 completed\n",
      "Iteration 34000 completed\n",
      "Iteration 35000 completed\n",
      "Iteration 36000 completed\n",
      "Iteration 37000 completed\n",
      "Iteration 38000 completed\n",
      "Iteration 39000 completed\n",
      "eta: 3e-05\n",
      "Iteration 0 completed\n",
      "Iteration 1000 completed\n",
      "Iteration 2000 completed\n",
      "Iteration 3000 completed\n",
      "Iteration 4000 completed\n",
      "Iteration 5000 completed\n",
      "Iteration 6000 completed\n",
      "Iteration 7000 completed\n",
      "Iteration 8000 completed\n",
      "Iteration 9000 completed\n",
      "Iteration 10000 completed\n",
      "Iteration 11000 completed\n",
      "Iteration 12000 completed\n",
      "Iteration 13000 completed\n",
      "Iteration 14000 completed\n",
      "Iteration 15000 completed\n",
      "Iteration 16000 completed\n",
      "Iteration 17000 completed\n",
      "Iteration 18000 completed\n",
      "Iteration 19000 completed\n",
      "Iteration 20000 completed\n",
      "Iteration 21000 completed\n",
      "Iteration 22000 completed\n",
      "Iteration 23000 completed\n",
      "Iteration 24000 completed\n",
      "Iteration 25000 completed\n",
      "Iteration 26000 completed\n",
      "Iteration 27000 completed\n",
      "Iteration 28000 completed\n",
      "Iteration 29000 completed\n",
      "Iteration 30000 completed\n",
      "Iteration 31000 completed\n",
      "Iteration 32000 completed\n",
      "Iteration 33000 completed\n",
      "Iteration 34000 completed\n",
      "Iteration 35000 completed\n",
      "Iteration 36000 completed\n",
      "Iteration 37000 completed\n",
      "Iteration 38000 completed\n",
      "Iteration 39000 completed\n",
      "eta: 0.0001\n",
      "Iteration 0 completed\n",
      "Iteration 1000 completed\n",
      "Iteration 2000 completed\n",
      "Iteration 3000 completed\n",
      "Iteration 4000 completed\n",
      "Iteration 5000 completed\n",
      "Iteration 6000 completed\n",
      "Iteration 7000 completed\n",
      "Iteration 8000 completed\n",
      "Iteration 9000 completed\n",
      "Iteration 10000 completed\n",
      "Iteration 11000 completed\n",
      "Iteration 12000 completed\n",
      "Iteration 13000 completed\n",
      "Iteration 14000 completed\n",
      "Iteration 15000 completed\n",
      "Iteration 16000 completed\n",
      "Iteration 17000 completed\n",
      "Iteration 18000 completed\n",
      "Iteration 19000 completed\n",
      "Iteration 20000 completed\n",
      "Iteration 21000 completed\n",
      "Iteration 22000 completed\n",
      "Iteration 23000 completed\n",
      "Iteration 24000 completed\n",
      "Iteration 25000 completed\n",
      "Iteration 26000 completed\n",
      "Iteration 27000 completed\n",
      "Iteration 28000 completed\n",
      "Iteration 29000 completed\n",
      "Iteration 30000 completed\n",
      "Iteration 31000 completed\n",
      "Iteration 32000 completed\n",
      "Iteration 33000 completed\n",
      "Iteration 34000 completed\n",
      "Iteration 35000 completed\n",
      "Iteration 36000 completed\n",
      "Iteration 37000 completed\n",
      "Iteration 38000 completed\n",
      "Iteration 39000 completed\n",
      "eta: 0.0003\n",
      "Iteration 0 completed\n",
      "Iteration 1000 completed\n",
      "Iteration 2000 completed\n",
      "Iteration 3000 completed\n",
      "Iteration 4000 completed\n",
      "Iteration 5000 completed\n",
      "Iteration 6000 completed\n",
      "Iteration 7000 completed\n",
      "Iteration 8000 completed\n",
      "Iteration 9000 completed\n",
      "Iteration 10000 completed\n",
      "Iteration 11000 completed\n",
      "Iteration 12000 completed\n",
      "Iteration 13000 completed\n",
      "Iteration 14000 completed\n",
      "Iteration 15000 completed\n",
      "Stopping early at iteration 15853\n",
      "eta: 0.001\n",
      "Iteration 0 completed\n",
      "Iteration 1000 completed\n",
      "Iteration 2000 completed\n",
      "Iteration 3000 completed\n",
      "Iteration 4000 completed\n",
      "Iteration 5000 completed\n",
      "Stopping early at iteration 5349\n",
      "eta: 0.003\n",
      "Iteration 0 completed\n",
      "Iteration 1000 completed\n",
      "Stopping early at iteration 1962\n",
      "eta: 0.01\n",
      "Iteration 0 completed\n",
      "Stopping early at iteration 646\n",
      "eta: 0.03\n",
      "Iteration 0 completed\n",
      "Stopping early at iteration 231\n",
      "eta: 0.1\n",
      "Iteration 0 completed\n",
      "Stopping early at iteration 73\n",
      "eta: 0.3\n",
      "Iteration 0 completed\n",
      "Stopping early at iteration 23\n",
      "eta: 1\n",
      "Iteration 0 completed\n",
      "Stopping early at iteration 3\n",
      "eta: 2\n",
      "Iteration 0 completed\n",
      "Iteration 1000 completed\n",
      "Iteration 2000 completed\n",
      "Iteration 3000 completed\n",
      "Iteration 4000 completed\n",
      "Iteration 5000 completed\n",
      "Iteration 6000 completed\n",
      "Iteration 7000 completed\n",
      "Iteration 8000 completed\n",
      "Iteration 9000 completed\n"
     ]
    },
    {
     "name": "stderr",
     "output_type": "stream",
     "text": [
      "/Users/nadavhershkovitz/.pyenv/versions/3.8.18/lib/python3.8/site-packages/numpy/core/fromnumeric.py:86: RuntimeWarning: overflow encountered in reduce\n",
      "  return ufunc.reduce(obj, axis, dtype, out, **passkwargs)\n",
      "/Users/nadavhershkovitz/Desktop/Runi/MLL/ML_ex1/hw1.py:242: RuntimeWarning: invalid value encountered in scalar subtract\n",
      "  if delta_J < epsilon:\n",
      "/Users/nadavhershkovitz/Desktop/Runi/MLL/ML_ex1/hw1.py:83: RuntimeWarning: overflow encountered in square\n",
      "  J = (1 / (2 * n)) * np.sum((y_hat - y) ** 2)\n"
     ]
    },
    {
     "name": "stdout",
     "output_type": "stream",
     "text": [
      "Iteration 10000 completed\n",
      "Iteration 11000 completed\n",
      "Iteration 12000 completed\n",
      "Iteration 13000 completed\n",
      "Iteration 14000 completed\n",
      "Iteration 15000 completed\n",
      "Iteration 16000 completed\n",
      "Iteration 17000 completed\n",
      "Iteration 18000 completed\n"
     ]
    },
    {
     "name": "stderr",
     "output_type": "stream",
     "text": [
      "/Users/nadavhershkovitz/Desktop/Runi/MLL/ML_ex1/hw1.py:230: RuntimeWarning: overflow encountered in scalar add\n",
      "  # Update theta\n",
      "/Users/nadavhershkovitz/Desktop/Runi/MLL/ML_ex1/hw1.py:230: RuntimeWarning: invalid value encountered in scalar add\n",
      "  # Update theta\n",
      "/Users/nadavhershkovitz/Desktop/Runi/MLL/ML_ex1/hw1.py:234: RuntimeWarning: invalid value encountered in scalar subtract\n",
      "  # y_hat = X @ theta\n"
     ]
    },
    {
     "name": "stdout",
     "output_type": "stream",
     "text": [
      "Iteration 19000 completed\n",
      "Iteration 20000 completed\n",
      "Iteration 21000 completed\n",
      "Iteration 22000 completed\n",
      "Iteration 23000 completed\n",
      "Iteration 24000 completed\n",
      "Iteration 25000 completed\n",
      "Iteration 26000 completed\n",
      "Iteration 27000 completed\n",
      "Iteration 28000 completed\n",
      "Iteration 29000 completed\n",
      "Iteration 30000 completed\n",
      "Iteration 31000 completed\n",
      "Iteration 32000 completed\n",
      "Iteration 33000 completed\n",
      "Iteration 34000 completed\n",
      "Iteration 35000 completed\n",
      "Iteration 36000 completed\n",
      "Iteration 37000 completed\n",
      "Iteration 38000 completed\n",
      "Iteration 39000 completed\n",
      "eta: 3\n",
      "Iteration 0 completed\n",
      "Iteration 1000 completed\n",
      "Iteration 2000 completed\n",
      "Iteration 3000 completed\n",
      "Iteration 4000 completed\n",
      "Iteration 5000 completed\n",
      "Iteration 6000 completed\n",
      "Iteration 7000 completed\n",
      "Iteration 8000 completed\n",
      "Iteration 9000 completed\n",
      "Iteration 10000 completed\n",
      "Iteration 11000 completed\n",
      "Iteration 12000 completed\n",
      "Iteration 13000 completed\n",
      "Iteration 14000 completed\n",
      "Iteration 15000 completed\n",
      "Iteration 16000 completed\n",
      "Iteration 17000 completed\n",
      "Iteration 18000 completed\n",
      "Iteration 19000 completed\n",
      "Iteration 20000 completed\n",
      "Iteration 21000 completed\n",
      "Iteration 22000 completed\n",
      "Iteration 23000 completed\n",
      "Iteration 24000 completed\n",
      "Iteration 25000 completed\n",
      "Iteration 26000 completed\n",
      "Iteration 27000 completed\n",
      "Iteration 28000 completed\n",
      "Iteration 29000 completed\n",
      "Iteration 30000 completed\n",
      "Iteration 31000 completed\n",
      "Iteration 32000 completed\n",
      "Iteration 33000 completed\n",
      "Iteration 34000 completed\n",
      "Iteration 35000 completed\n",
      "Iteration 36000 completed\n",
      "Iteration 37000 completed\n",
      "Iteration 38000 completed\n",
      "Iteration 39000 completed\n"
     ]
    }
   ],
   "source": [
    "eta_dict = find_best_learning_rate(X_train, y_train, X_val, y_val, 40000)"
   ]
  },
  {
   "cell_type": "markdown",
   "metadata": {
    "nbgrader": {
     "grade": false,
     "grade_id": "cell-5bd93130c022d3e1",
     "locked": true,
     "schema_version": 1,
     "solution": false
    }
   },
   "source": [
    "We can now obtain the best learning rate from the dictionary `eta_dict` in a single line."
   ]
  },
  {
   "cell_type": "code",
   "execution_count": 44,
   "metadata": {
    "ExecuteTime": {
     "start_time": "2024-04-09T10:27:04.106620Z"
    },
    "nbgrader": {
     "grade": false,
     "grade_id": "cell-4f81cf375ac46b73",
     "locked": false,
     "schema_version": 1,
     "solution": true
    }
   },
   "outputs": [
    {
     "name": "stdout",
     "output_type": "stream",
     "text": [
      "0.0001\n",
      "{1e-05: 0.32248139503478357, 3e-05: 0.2455841567230713, 0.0001: 0.23021043996671978, 0.0003: 0.23032691081891746, 0.001: 0.23038357022421213, 0.003: 0.2304148991139238, 0.01: 0.2304351193618013, 0.03: 0.23044574474628104, 0.1: 0.23045303225513478, 0.3: 0.23045666153421127, 1: 0.23045959838012664, 2: nan, 3: nan}\n"
     ]
    }
   ],
   "source": [
    "best_learning_rate = min(eta_dict, key=eta_dict.get)\n",
    "print(best_learning_rate)\n",
    "print(eta_dict)"
   ]
  },
  {
   "cell_type": "markdown",
   "metadata": {
    "nbgrader": {
     "grade": false,
     "grade_id": "cell-d16367ecb7183996",
     "locked": true,
     "schema_version": 1,
     "solution": false
    }
   },
   "source": [
    "The following code gets the best three learning rates you just calculated and provides a graph with three lines indicating the training loss as a function of iterations. Use it as a test for your implementation. You can change this code as you see fit."
   ]
  },
  {
   "cell_type": "code",
   "execution_count": 47,
   "metadata": {
    "ExecuteTime": {
     "start_time": "2024-04-09T10:27:04.109987Z"
    },
    "nbgrader": {
     "grade": true,
     "grade_id": "cell-448638e817503ca3",
     "locked": false,
     "points": 0,
     "schema_version": 1,
     "solution": true
    }
   },
   "outputs": [
    {
     "name": "stdout",
     "output_type": "stream",
     "text": [
      "Iteration 0 completed\n",
      "Iteration 1000 completed\n",
      "Iteration 2000 completed\n",
      "Iteration 3000 completed\n",
      "Iteration 4000 completed\n",
      "Iteration 5000 completed\n",
      "Iteration 6000 completed\n",
      "Iteration 7000 completed\n",
      "Iteration 8000 completed\n",
      "Iteration 9000 completed\n",
      "Iteration 0 completed\n",
      "Iteration 1000 completed\n",
      "Iteration 2000 completed\n",
      "Iteration 3000 completed\n",
      "Iteration 4000 completed\n",
      "Iteration 5000 completed\n",
      "Iteration 6000 completed\n",
      "Iteration 7000 completed\n",
      "Iteration 8000 completed\n",
      "Iteration 9000 completed\n",
      "Iteration 0 completed\n",
      "Iteration 1000 completed\n",
      "Iteration 2000 completed\n",
      "Iteration 3000 completed\n",
      "Iteration 4000 completed\n",
      "Iteration 5000 completed\n",
      "Iteration 6000 completed\n",
      "Iteration 7000 completed\n",
      "Iteration 8000 completed\n",
      "Iteration 9000 completed\n"
     ]
    },
    {
     "data": {
      "image/png": "[encoded data removed]",
      "text/plain": [
       "<Figure size 640x480 with 1 Axes>"
      ]
     },
     "metadata": {},
     "output_type": "display_data"
    }
   ],
   "source": [
    "top_3_etas = sorted([(value, key) for key, value in eta_dict.items()], reverse=False)[:3]\n",
    "top_3_etas = [x[1] for x in top_3_etas]\n",
    "\n",
    "histories = []\n",
    "for eta in top_3_etas:\n",
    "    params = np.random.random(size=2)\n",
    "    _, J_history = gradient_descent(X_train ,y_train, params, eta, num_iters=10000)\n",
    "    histories.append(J_history)\n",
    "\n",
    "for i, (eta, color) in enumerate(zip(top_3_etas, ['b','g','r'])):\n",
    "    plt.plot(np.arange(10000), histories[i], color, label='eta='+str(eta))\n",
    "\n",
    "plt.xscale('log')\n",
    "plt.ylim(0, 0.005)\n",
    "plt.xlabel('Iterations')\n",
    "plt.ylabel('Loss')\n",
    "plt.title('Loss as a function of iterations')\n",
    "plt.legend()\n",
    "plt.show()\n"
   ]
  },
  {
   "cell_type": "markdown",
   "metadata": {
    "nbgrader": {
     "grade": false,
     "grade_id": "cell-b73893d236bff1d5",
     "locked": true,
     "schema_version": 1,
     "solution": false
    }
   },
   "source": [
    "The function below plots the regression lines of the models you obtained via gradient descent and the pseudoinverse method. Use this to check your solution, as both models should exhibit similar trends. "
   ]
  },
  {
   "cell_type": "code",
   "execution_count": 48,
   "metadata": {
    "ExecuteTime": {
     "start_time": "2024-04-09T10:27:04.112034Z"
    },
    "nbgrader": {
     "grade": false,
     "grade_id": "cell-c7ee7d8763464371",
     "locked": true,
     "schema_version": 1,
     "solution": false
    }
   },
   "outputs": [
    {
     "name": "stdout",
     "output_type": "stream",
     "text": [
      "[0.0001, 0.0003, 0.001]\n"
     ]
    },
    {
     "data": {
      "image/png": "[encoded data removed]",
      "text/plain": [
       "<Figure size 700x700 with 1 Axes>"
      ]
     },
     "metadata": {},
     "output_type": "display_data"
    }
   ],
   "source": [
    "print(histories)\n",
    "plt.figure(figsize=(7, 7))\n",
    "plt.plot(X_train[:,1], y_train, 'ro', ms=1, mec='k')\n",
    "plt.ylabel('Price in USD')\n",
    "plt.xlabel('sq.ft')\n",
    "plt.plot(X_train[:, 1], np.dot(X_train, theta), 'o')\n",
    "plt.plot(X_train[:, 1], np.dot(X_train, theta_pinv), '-')\n",
    "\n",
    "plt.legend(['Training data', 'Linear regression', 'Best theta']);"
   ]
  },
  {
   "cell_type": "markdown",
   "metadata": {
    "nbgrader": {
     "grade": false,
     "grade_id": "cell-e77c602466fab37d",
     "locked": true,
     "schema_version": 1,
     "solution": false
    }
   },
   "source": [
    "## 7. Generalizing to Multiple Features (10 points)\n",
    "\n",
    "Most datasets have more than one feature, and some might have thousands of features. In those cases, we use a multivariate linear regression model. The regression equation is similar to that of simple linear regression equation:\n",
    "\n",
    "$$\n",
    "\\hat{y} = \\theta^T x = \\theta_0 + \\theta_1 x_1 + ... + \\theta_p x_p\n",
    "$$\n",
    "\n",
    "If you wrote proper vectorized code, this part should be trivial and work without changes. If this is not the case, you should go back and edit your functions such that they support both multivariate and single variable regression. **Make sure to allow for an arbitrary number of features and your code should not explicitly check the dimensionality of the input**. "
   ]
  },
  {
   "cell_type": "code",
   "execution_count": null,
   "metadata": {
    "ExecuteTime": {
     "start_time": "2024-04-09T10:27:04.113998Z"
    },
    "nbgrader": {
     "grade": false,
     "grade_id": "cell-15626dda8db26550",
     "locked": true,
     "schema_version": 1,
     "solution": false
    }
   },
   "outputs": [],
   "source": [
    "# Read comma separated data\n",
    "df = pd.read_csv('data.csv')\n",
    "df.head()"
   ]
  },
  {
   "cell_type": "markdown",
   "metadata": {
    "nbgrader": {
     "grade": false,
     "grade_id": "cell-2dc0f4dc3491520c",
     "locked": true,
     "schema_version": 1,
     "solution": false
    }
   },
   "source": [
    "### Preprocessing\n",
    "\n",
    "Like in the single variable case, we need to create a numpy array from the dataframe. Before doing so, we should notice that some of the features are clearly irrelevant so we will go ahead and drop them."
   ]
  },
  {
   "cell_type": "code",
   "execution_count": null,
   "metadata": {
    "ExecuteTime": {
     "start_time": "2024-04-09T10:27:04.116411Z"
    },
    "nbgrader": {
     "grade": true,
     "grade_id": "cell-a87b4027bd3bda4b",
     "locked": false,
     "points": 0,
     "schema_version": 1,
     "solution": true
    }
   },
   "outputs": [],
   "source": [
    "X = df.drop(columns=['price', 'id', 'date']).values\n",
    "y = df['price'].values"
   ]
  },
  {
   "cell_type": "markdown",
   "metadata": {
    "nbgrader": {
     "grade": false,
     "grade_id": "cell-1aa12f54513b1efa",
     "locked": true,
     "schema_version": 1,
     "solution": false
    }
   },
   "source": [
    "Use the same `preprocess` function you implemented previously. Notice that proper vectorized implementation should work regardless of the dimensionality of the input. You might want to check that your code in the previous parts still works."
   ]
  },
  {
   "cell_type": "code",
   "execution_count": null,
   "metadata": {
    "ExecuteTime": {
     "start_time": "2024-04-09T10:27:04.119199Z"
    },
    "nbgrader": {
     "grade": false,
     "grade_id": "cell-f40a9df530db9399",
     "locked": true,
     "schema_version": 1,
     "solution": false
    }
   },
   "outputs": [],
   "source": [
    "# preprocessing\n",
    "X, y = preprocess(X, y)"
   ]
  },
  {
   "cell_type": "code",
   "execution_count": null,
   "metadata": {
    "ExecuteTime": {
     "start_time": "2024-04-09T10:27:04.121004Z"
    }
   },
   "outputs": [],
   "source": [
    "# training and validation split \n",
    "np.random.seed(42)\n",
    "indices = np.random.permutation(X.shape[0])\n",
    "idx_train, idx_val = indices[:int(0.8*X.shape[0])], indices[int(0.8*X.shape[0]):]\n",
    "X_train, X_val = X[idx_train,:], X[idx_val,:]\n",
    "y_train, y_val = y[idx_train], y[idx_val]"
   ]
  },
  {
   "cell_type": "markdown",
   "metadata": {},
   "source": [
    "### Data Visualization\n",
    "\n",
    "Using 3D visualization, we can still observe trends in the data. Visualizing additional dimensions requires advanced techniques we will learn later in the course."
   ]
  },
  {
   "cell_type": "code",
   "execution_count": null,
   "metadata": {
    "ExecuteTime": {
     "start_time": "2024-04-09T10:27:04.122177Z"
    },
    "nbgrader": {
     "grade": false,
     "grade_id": "cell-0c68216a26a9b5af",
     "locked": true,
     "schema_version": 1,
     "solution": false
    }
   },
   "outputs": [],
   "source": [
    "%matplotlib inline\n",
    "import matplotlib.pyplot as plt\n",
    "from mpl_toolkits.mplot3d import Axes3D  \n",
    "\n",
    "# Create figure\n",
    "fig = plt.figure(figsize=(5,5))\n",
    "\n",
    "# Create 3D axes \n",
    "ax = fig.add_subplot(111, projection='3d')  \n",
    "\n",
    "# Plot data\n",
    "xx = X_train[:, 1][:1000]\n",
    "yy = X_train[:, 2][:1000]\n",
    "zz = y_train[:1000]\n",
    "ax.scatter(xx, yy, zz, marker='o')\n",
    "\n",
    "# Set labels\n",
    "ax.set_xlabel('bathrooms')\n",
    "ax.set_ylabel('sqft_living')\n",
    "ax.set_zlabel('price')\n",
    "\n",
    "plt.show()\n"
   ]
  },
  {
   "cell_type": "markdown",
   "metadata": {
    "nbgrader": {
     "grade": false,
     "grade_id": "cell-70fcd47d69caea00",
     "locked": true,
     "schema_version": 1,
     "solution": false
    }
   },
   "source": [
    "### Data Analysis\n",
    "\n",
    "Make sure the functions `apply_bias_trick`, `compute_loss`, `gradient_descent`, `gradient_descent_stop_condition` and `compute_pinv` work on the multi-dimensional dataset. If you make any changes, make sure your code still works on the simple regression of Part 2. "
   ]
  },
  {
   "cell_type": "code",
   "execution_count": null,
   "metadata": {
    "ExecuteTime": {
     "start_time": "2024-04-09T10:27:04.123215Z"
    },
    "nbgrader": {
     "grade": true,
     "grade_id": "cell-2985911f4b7af3e1",
     "locked": false,
     "points": 0,
     "schema_version": 1,
     "solution": true
    }
   },
   "outputs": [],
   "source": [
    "# bias trick\n",
    "X_train = apply_bias_trick(X_train)\n",
    "X_val = apply_bias_trick(X_val)\n",
    "\n",
    "X_train.shape, X_val.shape"
   ]
  },
  {
   "cell_type": "code",
   "execution_count": null,
   "metadata": {
    "ExecuteTime": {
     "start_time": "2024-04-09T10:27:04.124726Z"
    },
    "nbgrader": {
     "grade": false,
     "grade_id": "cell-81ab741781b2f6ec",
     "locked": true,
     "schema_version": 1,
     "solution": false
    }
   },
   "outputs": [],
   "source": [
    "# calculating the loss\n",
    "shape = X_train.shape[1]\n",
    "theta = np.ones(shape)\n",
    "J = compute_loss(X_train, y_train, theta)"
   ]
  },
  {
   "cell_type": "code",
   "execution_count": null,
   "metadata": {
    "ExecuteTime": {
     "start_time": "2024-04-09T10:27:04.127743Z"
    },
    "nbgrader": {
     "grade": false,
     "grade_id": "cell-6f25fb05bd6c648a",
     "locked": true,
     "schema_version": 1,
     "solution": false
    }
   },
   "outputs": [],
   "source": [
    "# running the efficient version of gradient descent\n",
    "np.random.seed(42)\n",
    "shape = X_train.shape[1]\n",
    "theta = np.random.random(shape)\n",
    "iterations = 40000\n",
    "theta, J_history = gradient_descent_stop_condition(X_train ,y_train, theta, best_learning_rate, iterations)"
   ]
  },
  {
   "cell_type": "code",
   "execution_count": null,
   "metadata": {
    "ExecuteTime": {
     "start_time": "2024-04-09T10:27:04.128749Z"
    },
    "nbgrader": {
     "grade": false,
     "grade_id": "cell-827d1de1293be51f",
     "locked": true,
     "schema_version": 1,
     "solution": false
    }
   },
   "outputs": [],
   "source": [
    "# calculating the pseudoinverse\n",
    "theta_pinv = compute_pinv(X_train ,y_train)\n",
    "J_pinv = compute_loss(X_train, y_train, theta_pinv)"
   ]
  },
  {
   "cell_type": "markdown",
   "metadata": {},
   "source": [
    "The code below plots the progression of the gradient descent. Use this to validate your code. Notice we use logarithmic scale for the number of iterations."
   ]
  },
  {
   "cell_type": "code",
   "execution_count": null,
   "metadata": {
    "ExecuteTime": {
     "start_time": "2024-04-09T10:27:04.130571Z"
    },
    "nbgrader": {
     "grade": false,
     "grade_id": "cell-4fa207b72d2445c2",
     "locked": true,
     "schema_version": 1,
     "solution": false
    }
   },
   "outputs": [],
   "source": [
    "plt.plot(np.arange(len(J_history)), J_history)\n",
    "plt.xscale('log')\n",
    "plt.xlabel('Iterations')\n",
    "plt.ylabel('Loss')\n",
    "plt.title('Loss as a function of iterations - multivariate linear regression')\n",
    "plt.hlines(y = J_pinv, xmin = 0, xmax = len(J_history), color='r',\n",
    "           linewidth = 1, linestyle = 'dashed')\n",
    "plt.show()"
   ]
  },
  {
   "cell_type": "markdown",
   "metadata": {
    "nbgrader": {
     "grade": false,
     "grade_id": "cell-cad652570cee3629",
     "locked": true,
     "schema_version": 1,
     "solution": false
    }
   },
   "source": [
    "## 8. Forward feature selection (12 points)\n",
    "\n",
    "Adding features to a regression model makes it more complicated and potentially more powerful, but it does not necessarily improve its performance. Forward feature selection is a greedy, iterative algorithm used to select the most informative features for a predictive model. This algorithm iteratively adds the feature that obtains the best prediction of the target value in the validation data. \n",
    "\n",
    "Implement forward feature selection using the following guidelines: \n",
    "1. Start with an empty set of model features $M\\leftarrow\\emptyset$.\n",
    "1. For each feature $j\\notin M$, do the following:\n",
    "    - Use the training data to train a linear regression model using the features in $M\\cup\\{j\\}$\n",
    "    - Evaluate this model's performance by calculating its loss on the validation data.\n",
    "1. Choose the feature, $j^*$, which provides the best model performance above and add it to the set of model features: $M\\leftarrow M\\cup\\{j^*\\}$.\n",
    "1. Repeat steps 2-3 until you have five features (not including the bias parameter).\n",
    "\n",
    "---\n",
    "Open `hw1.py` and complete the function `forward_feature_selection`.\n",
    "\n",
    "**Note that you should use the inputs as provided in the code below. Do not forget to add the bias parameter inside `forward_feature_selection`**."
   ]
  },
  {
   "cell_type": "code",
   "execution_count": null,
   "metadata": {
    "ExecuteTime": {
     "start_time": "2024-04-09T10:27:04.132099Z"
    }
   },
   "outputs": [],
   "source": [
    "df = pd.read_csv('data.csv')\n",
    "feature_names = df.drop(columns=['price', 'id', 'date']).columns.values\n",
    "X = df.drop(columns=['price', 'id', 'date']).values\n",
    "y = df['price'].values\n",
    "\n",
    "# preprocessing\n",
    "X, y = preprocess(X, y)\n",
    "\n",
    "# training and validation split\n",
    "np.random.seed(42)\n",
    "indices = np.random.permutation(X.shape[0])\n",
    "idx_train, idx_val = indices[:int(0.8*X.shape[0])], indices[int(0.8*X.shape[0]):]\n",
    "X_train, X_val = X[idx_train,:], X[idx_val,:]\n",
    "y_train, y_val = y[idx_train], y[idx_val]"
   ]
  },
  {
   "cell_type": "code",
   "execution_count": null,
   "metadata": {
    "ExecuteTime": {
     "start_time": "2024-04-09T10:27:04.133547Z"
    }
   },
   "outputs": [],
   "source": [
    "from hw1 import forward_feature_selection"
   ]
  },
  {
   "cell_type": "code",
   "execution_count": null,
   "metadata": {
    "ExecuteTime": {
     "start_time": "2024-04-09T10:27:04.136532Z"
    }
   },
   "outputs": [],
   "source": [
    "ffs = forward_feature_selection(X_train, y_train, X_val, y_val, best_learning_rate, iterations)\n",
    "for feature in ffs:\n",
    "    print(feature_names[feature])"
   ]
  },
  {
   "cell_type": "markdown",
   "metadata": {},
   "source": [
    "## 9. Polynomial regression (12 points)\n",
    "\n",
    "Now, we will try to model the target value using a polynomial of degree 2 of the features. Recall that this can be done by applying the algorithms for linear regression on transformed input.\n",
    "\n",
    "### Transform The Data\n",
    "\n",
    "Implement a function that takes a data matrix and creates the appropriate feature matrix for solving the degree-2 polynomial regression. The function should take a pandas DataFrame as input and should return a new DataFrame with all relevant composite features. If the input DataFrame has $p$ features, then the returned DataFrame should have $2p+\\frac{p(p-1)}{2}$ composite features: all original features, all original features squared, and the product of all feature pairs. The names of composite features in the returned DataFrame should reflect their meaning. Examples: `sqft_lot`, `yr_built^2`, `bedrooms*bathrooms`.\n",
    "\n",
    "Open `hw1.py` and complete the function `create_square_features`.\n"
   ]
  },
  {
   "cell_type": "code",
   "execution_count": null,
   "metadata": {
    "ExecuteTime": {
     "start_time": "2024-04-09T10:27:04.138300Z"
    }
   },
   "outputs": [],
   "source": [
    "from hw1 import create_square_features"
   ]
  },
  {
   "cell_type": "code",
   "execution_count": null,
   "metadata": {
    "ExecuteTime": {
     "start_time": "2024-04-09T10:27:04.139548Z"
    }
   },
   "outputs": [],
   "source": [
    "df = pd.read_csv('data.csv')\n",
    "\n",
    "y = df['price'].values\n",
    "df = df.drop(columns=['price', 'id', 'date'])\n",
    "df = df.astype('float64')\n",
    "df_poly = create_square_features(df)\n",
    "X = df_poly.values\n",
    "X.shape, y.shape"
   ]
  },
  {
   "cell_type": "code",
   "execution_count": null,
   "metadata": {
    "ExecuteTime": {
     "start_time": "2024-04-09T10:27:04.140909Z"
    }
   },
   "outputs": [],
   "source": [
    "# preprocessing\n",
    "X, y = preprocess(X, y)"
   ]
  },
  {
   "cell_type": "code",
   "execution_count": null,
   "metadata": {
    "ExecuteTime": {
     "start_time": "2024-04-09T10:27:04.142803Z"
    }
   },
   "outputs": [],
   "source": [
    "# training and validation split\n",
    "np.random.seed(42)\n",
    "indices = np.random.permutation(X.shape[0])\n",
    "idx_train, idx_val = indices[:int(0.8*X.shape[0])], indices[int(0.8*X.shape[0]):]\n",
    "X_train, X_val = X[idx_train,:], X[idx_val,:]\n",
    "y_train, y_val = y[idx_train], y[idx_val]"
   ]
  },
  {
   "cell_type": "code",
   "execution_count": null,
   "metadata": {
    "ExecuteTime": {
     "start_time": "2024-04-09T10:27:04.144377Z"
    }
   },
   "outputs": [],
   "source": [
    "X_train.shape, X_val.shape, y_train.shape, y_val.shape"
   ]
  },
  {
   "cell_type": "code",
   "execution_count": null,
   "metadata": {
    "ExecuteTime": {
     "start_time": "2024-04-09T10:27:04.145777Z"
    }
   },
   "outputs": [],
   "source": [
    "feature_names = df_poly.columns.values"
   ]
  },
  {
   "cell_type": "markdown",
   "metadata": {},
   "source": [
    "\n",
    "### Solve The Regression Problem\n",
    "\n",
    "After you obtain the polynomial dataframe, use forward feature selection to find (and print) the five best composite features."
   ]
  },
  {
   "cell_type": "code",
   "execution_count": null,
   "metadata": {
    "ExecuteTime": {
     "start_time": "2024-04-09T10:27:04.147012Z"
    }
   },
   "outputs": [],
   "source": [
    "ffs = forward_feature_selection(X_train, y_train, X_val, y_val, best_learning_rate, iterations)"
   ]
  },
  {
   "cell_type": "code",
   "execution_count": null,
   "metadata": {
    "ExecuteTime": {
     "start_time": "2024-04-09T10:27:04.148064Z"
    }
   },
   "outputs": [],
   "source": [
    "for feature in ffs:\n",
    "    print(feature_names[feature])"
   ]
  }
 ],
 "metadata": {
  "celltoolbar": "Create Assignment",
  "kernelspec": {
   "display_name": "Python 3.8 (pyenv)",
   "language": "python",
   "name": "py38"
  },
  "language_info": {
   "codemirror_mode": {
    "name": "ipython",
    "version": 3
   },
   "file_extension": ".py",
   "mimetype": "text/x-python",
   "name": "python",
   "nbconvert_exporter": "python",
   "pygments_lexer": "ipython3",
   "version": "3.8.18"
  }
 },
 "nbformat": 4,
 "nbformat_minor": 4
}
